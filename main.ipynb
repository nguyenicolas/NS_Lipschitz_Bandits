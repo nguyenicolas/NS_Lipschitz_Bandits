{
 "cells": [
  {
   "cell_type": "code",
   "execution_count": 118,
   "metadata": {},
   "outputs": [
    {
     "data": {
      "text/plain": [
       "<module 'Diadic' from '/Users/nicolasnguyen/Documents/Projets/Non-Stationary Lipschitz Bandits/NS_Lipschitz_Bandits/Diadic.py'>"
      ]
     },
     "execution_count": 118,
     "metadata": {},
     "output_type": "execute_result"
    }
   ],
   "source": [
    "import importlib\n",
    "import Policy \n",
    "import Environment\n",
    "import Diadic\n",
    "\n",
    "importlib.reload(Policy)\n",
    "importlib.reload(Environment)\n",
    "importlib.reload(Diadic)"
   ]
  },
  {
   "cell_type": "code",
   "execution_count": 119,
   "metadata": {},
   "outputs": [],
   "source": [
    "class Simulator :\n",
    "    def __init__(self, algo, env, T) -> None:\n",
    "        self.algo = algo\n",
    "        self.env = env\n",
    "        self.T = T\n",
    "    \n",
    "    def run(self):\n",
    "        for t in range(self.T) :\n",
    "            x_t = self.algo.choose_action()\n",
    "            y_t = self.env.get_reward(t, x_t)\n",
    "            self.algo.update(x_t, y_t)"
   ]
  },
  {
   "cell_type": "code",
   "execution_count": 120,
   "metadata": {},
   "outputs": [
    {
     "name": "stdout",
     "output_type": "stream",
     "text": [
      "Entering Episode 1\n",
      "Entering Block 3\n"
     ]
    },
    {
     "name": "stderr",
     "output_type": "stream",
     "text": [
      "/Users/nicolasnguyen/Documents/Projets/Non-Stationary Lipschitz Bandits/NS_Lipschitz_Bandits/Policy.py:247: UserWarning: Tight layout not applied. The bottom and top margins cannot be made large enough to accommodate all Axes decorations.\n",
      "  plt.tight_layout()\n"
     ]
    },
    {
     "data": {
      "image/png": "[encoded data removed]",
      "text/plain": [
       "<Figure size 1200x60 with 1 Axes>"
      ]
     },
     "metadata": {},
     "output_type": "display_data"
    }
   ],
   "source": [
    "T = 5000\n",
    "env = Environment.Environment(T, 3)\n",
    "algo = Policy.MBDE(T)\n",
    "\n",
    "algo.initialize_episode()\n",
    "algo.initialize_block()\n",
    "#algo.tree.activate_depth(2) # TODO: change\n",
    "algo.tree.update_proba()\n",
    "#algo.tree.visualize_tree()\n",
    "\n",
    "algo.tree.visualize()\n",
    "sim = Simulator(algo, env, T)\n"
   ]
  },
  {
   "cell_type": "code",
   "execution_count": 121,
   "metadata": {},
   "outputs": [
    {
     "name": "stdout",
     "output_type": "stream",
     "text": [
      "Entering Block 4\n"
     ]
    },
    {
     "data": {
      "image/png": "[encoded data removed]",
      "text/plain": [
       "<Figure size 1200x120 with 1 Axes>"
      ]
     },
     "metadata": {},
     "output_type": "display_data"
    },
    {
     "name": "stdout",
     "output_type": "stream",
     "text": [
      "Node (4, 1) evicted at t=649 (Replay(4))\n",
      "Node (4, 1) evicted at t=832 (Replay(2))\n",
      "Node (4, 8) evicted at t=1243 (Replay(4))\n",
      "Node (4, 1) evicted at t=1280 (Replay(2))\n",
      "Node (4, 8) evicted at t=1280 (Replay(2))\n",
      "Node (4, 1) evicted at t=1280 (Replay(2))\n",
      "Node (4, 7) evicted at t=1722 (Replay(4))\n",
      "Node (4, 6) evicted at t=1986 (Replay(4))\n"
     ]
    }
   ],
   "source": [
    "sim.run()"
   ]
  },
  {
   "cell_type": "code",
   "execution_count": 122,
   "metadata": {},
   "outputs": [
    {
     "data": {
      "text/plain": [
       "1"
      ]
     },
     "execution_count": 122,
     "metadata": {},
     "output_type": "execute_result"
    }
   ],
   "source": [
    "len(sim.algo.tree.active_depths)"
   ]
  },
  {
   "cell_type": "code",
   "execution_count": 123,
   "metadata": {},
   "outputs": [
    {
     "data": {
      "text/plain": [
       "[(4,4), (4,5), (4,2), (4,3)]"
      ]
     },
     "execution_count": 123,
     "metadata": {},
     "output_type": "execute_result"
    }
   ],
   "source": [
    "sim.algo.B_MASTER"
   ]
  },
  {
   "cell_type": "code",
   "execution_count": 124,
   "metadata": {},
   "outputs": [],
   "source": [
    "sim.algo.tree.visualize()"
   ]
  },
  {
   "cell_type": "code",
   "execution_count": 85,
   "metadata": {},
   "outputs": [
    {
     "data": {
      "text/plain": [
       "[(3,2), (3,3), (3,4)]"
      ]
     },
     "execution_count": 85,
     "metadata": {},
     "output_type": "execute_result"
    }
   ],
   "source": [
    "sim.algo.B_MASTER"
   ]
  },
  {
   "cell_type": "code",
   "execution_count": 61,
   "metadata": {},
   "outputs": [
    {
     "data": {
      "text/plain": [
       "defaultdict(dict,\n",
       "            {4: {'starting': 513, 'ending': 4609},\n",
       "             2: {'starting': 1216, 'ending': 1280},\n",
       "             3: {'starting': 1536, 'ending': 2048}})"
      ]
     },
     "execution_count": 61,
     "metadata": {},
     "output_type": "execute_result"
    }
   ],
   "source": [
    "sim.algo.StoreActive"
   ]
  }
 ],
 "metadata": {
  "kernelspec": {
   "display_name": "Python 3",
   "language": "python",
   "name": "python3"
  },
  "language_info": {
   "codemirror_mode": {
    "name": "ipython",
    "version": 3
   },
   "file_extension": ".py",
   "mimetype": "text/x-python",
   "name": "python",
   "nbconvert_exporter": "python",
   "pygments_lexer": "ipython3",
   "version": "3.10.4"
  },
  "orig_nbformat": 4,
  "vscode": {
   "interpreter": {
    "hash": "a42a53f72903cc04303089eaf20b408942b97710132b3b8167caf5cbcee87944"
   }
  }
 },
 "nbformat": 4,
 "nbformat_minor": 2
}
