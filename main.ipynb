{
 "cells": [
  {
   "cell_type": "code",
   "execution_count": 2,
   "metadata": {},
   "outputs": [],
   "source": [
    "import numpy as np\n",
    "import matplotlib.pyplot as plt\n",
    "import random"
   ]
  },
  {
   "cell_type": "code",
   "execution_count": 8,
   "metadata": {},
   "outputs": [],
   "source": [
    "class Node:\n",
    "    def __init__(self, depth, index) -> None:\n",
    "        self.depth = depth\n",
    "        self.index = index\n",
    "        self.left = None\n",
    "        self.right = None\n",
    "        self.active = True\n",
    "    \n",
    "    def subdivide(self):\n",
    "        self.left = Node(depth=self.depth + 1, index=2*self.index - 1)\n",
    "        self.right = Node(depth=self.depth + 1, index=2*self.index)\n",
    "\n",
    "    def evict(self):\n",
    "        self.active = False\n",
    "        self.left = None\n",
    "        self.right = None\n",
    "\n",
    "    def compute_mean(self):\n",
    "        pass\n",
    "    \n",
    "    def __repr__(self) -> str:\n",
    "        return f\"Node(depth={self.depth}, index={self.index}, mean={self.mean}, Active = {self.active})\"\n",
    "\n",
    "class Tree:\n",
    "\n",
    "    def __init__(self, max_depth) -> None:\n",
    "        self.max_depth = max_depth\n",
    "        self.root = Node(0, 0)\n",
    "        if max_depth is not None:\n",
    "            self.build_full_tree(node=self.root, max_depth=max_depth)\n",
    "\n",
    "    def build_full_tree(self, node, max_depth):\n",
    "        \"\"\" Build tree of size max_depth recursively with node as root\"\"\"\n",
    "        if node.depth >= max_depth:\n",
    "            return\n",
    "        node.subdivide()\n",
    "        self.build_full_tree(node.left, max_depth)\n",
    "        self.build_full_tree(node.right, max_depth)\n",
    "    \n",
    "    def find_node(self, depth, index):\n",
    "        node = self.root\n",
    "        for d in range(depth):\n",
    "            if node is None or not node.active:\n",
    "                return None\n",
    "            bit = ((index - 1) >> (depth - d - 1)) & 1\n",
    "            node = node.right if bit else node.left\n",
    "        return node if node and node.depth == depth and node.index == index else None\n",
    "            \n",
    "\n",
    "    def update_Tree(self, x_t):\n",
    "        \"\"\" Computes IPS means of all nodes in tree \"\"\"\n",
    "        pass"
   ]
  },
  {
   "cell_type": "code",
   "execution_count": 9,
   "metadata": {},
   "outputs": [],
   "source": [
    "tree = Tree(3)"
   ]
  },
  {
   "cell_type": "code",
   "execution_count": 10,
   "metadata": {},
   "outputs": [
    {
     "data": {
      "text/plain": [
       "<__main__.Tree at 0x124393a30>"
      ]
     },
     "execution_count": 10,
     "metadata": {},
     "output_type": "execute_result"
    }
   ],
   "source": [
    "tree."
   ]
  },
  {
   "cell_type": "code",
   "execution_count": null,
   "metadata": {},
   "outputs": [],
   "source": []
  },
  {
   "cell_type": "code",
   "execution_count": null,
   "metadata": {},
   "outputs": [],
   "source": []
  },
  {
   "cell_type": "code",
   "execution_count": null,
   "metadata": {},
   "outputs": [],
   "source": [
    "def sample_replay_prob(m, τ_l_m):\n",
    "    # Schedule replays for all the block\n",
    "    Replays = np.zeros((m-1, 8**m - 1 ))\n",
    "    for s in range(τ_l_m + 1, τ_l_m + 8 ** m):\n",
    "        for d in range(m):\n",
    "            if s - τ_l_m % (8 ** d) == 0:\n",
    "                p_s_d = np.sqrt(8 ** d / (s - τ_l_m))\n",
    "                R_s_d = int(np.random.random() < p_s_d)\n",
    "                Replays[s, d] = R_s_d\n",
    "    return Replays\n",
    "\n",
    "def MDBE(T):\n",
    "    # Initialization\n",
    "    l = 1\n",
    "    t = 1\n",
    "    m = 1\n",
    "    \n",
    "    while t <= T:\n",
    "        # (★) Block handling\n",
    "        if t == 1 or t == τ_l_m + 8 ** m: # if ending of the block without significant shift\n",
    "            m += 1\n",
    "            B_MASTER = set(range(1, 1 + 8**m)) # Reset MASTER set\n",
    "            D_t = {m}\n",
    "            τ_l_m = t\n",
    "\n",
    "            # Initialize StoreActive dictionary\n",
    "            StoreActive = {}\n",
    "            StoreActive[m] = [τ_l_m, τ_l_m + 8**m]\n",
    "            for d in range(m) :\n",
    "                StoreActive[d] = []\n",
    "\n",
    "            B_t = {}\n",
    "            Replays = sample_replay_prob(m, τ_l_m)\n",
    "\n",
    "        # Check if there are replays that are beginning in this precise round t\n",
    "        for d in range(m) :\n",
    "            if Replays[t, d] == 1 :\n",
    "                D_t.add(d)\n",
    "                StoreActive[d] = [t, t + 8**d]\n",
    "                B_t[d] = set(range(1, 1 + 8**d))\n",
    "        \n",
    "        # Check if a replay ends\n",
    "        for d in D_t:\n",
    "            if StoreActive[d][1] == t :\n",
    "                D_t.discard(d)\n",
    "                B_t[d] = set()\n",
    "\n",
    "        # Hierarchical sampling\n",
    "        d_min = min(D_t)\n",
    "        B_parent = random.choice(B_t[d_min])\n",
    "\n",
    "        # faudrait creer une classe d'arbre...\n",
    "        \n",
    "\n",
    "\n",
    "\n",
    "\n",
    "        # Replay deactivation\n",
    "        for d in range(m):\n",
    "            if StoreActive.get((l, d), {}).get(t, None):\n",
    "                D[l].discard(d)\n",
    "                B_t[(l, d)] = set()\n",
    "\n",
    "        # Bin selection\n",
    "        d0 = min(D[l])\n",
    "        B_parent = random.choice(list(B_t[(l, d0)]))\n",
    "        xt = B_parent  # If no children\n",
    "\n",
    "        children = get_children(B_parent, d0, B_t)\n",
    "        if children:\n",
    "            xt = random.choice(children)\n",
    "            B_parent = xt\n",
    "\n",
    "        # Bin eviction\n",
    "        for d in D[l]:\n",
    "            for B in B_t[(l, d)]:\n",
    "                for d_ in [d_ for d_ in range(d + 1, m)]:\n",
    "                    for B_prime in B_t[(l, d_)]:\n",
    "                        if bin_condition(B_prime, B, StoreActive, l, d):\n",
    "                            B_t[(l, d_)] -= {B_prime}\n",
    "\n",
    "        # MASTER set update\n",
    "        B_MASTER[(l, m)] = B_MASTER[(l, m)].intersection(B_t.get((l, m), set()))\n",
    "        if not B_MASTER[(l, m)]:\n",
    "            τ[(l + 1, 0)] = t + 1\n",
    "            l += 1\n",
    "            t = τ[(l, 0)]\n",
    "            m = 0\n",
    "            continue\n",
    "\n",
    "        t += 1\n"
   ]
  }
 ],
 "metadata": {
  "kernelspec": {
   "display_name": "Python 3",
   "language": "python",
   "name": "python3"
  },
  "language_info": {
   "codemirror_mode": {
    "name": "ipython",
    "version": 3
   },
   "file_extension": ".py",
   "mimetype": "text/x-python",
   "name": "python",
   "nbconvert_exporter": "python",
   "pygments_lexer": "ipython3",
   "version": "3.10.4"
  },
  "orig_nbformat": 4,
  "vscode": {
   "interpreter": {
    "hash": "a42a53f72903cc04303089eaf20b408942b97710132b3b8167caf5cbcee87944"
   }
  }
 },
 "nbformat": 4,
 "nbformat_minor": 2
}
