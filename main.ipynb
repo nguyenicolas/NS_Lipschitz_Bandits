{
 "cells": [
  {
   "cell_type": "code",
   "execution_count": 63,
   "metadata": {},
   "outputs": [],
   "source": [
    "import numpy as np\n",
    "import matplotlib.pyplot as plt\n",
    "import matplotlib.cm as cm\n",
    "from graphviz import Digraph\n",
    "from itertools import combinations\n",
    "import random"
   ]
  },
  {
   "cell_type": "code",
   "execution_count": 7,
   "metadata": {},
   "outputs": [],
   "source": [
    "class Node:\n",
    "    def __init__(self, depth, index, parent=None) -> None:\n",
    "        self.depth = depth\n",
    "        self.index = index\n",
    "        self.parent = parent\n",
    "        self.left = None\n",
    "        self.right = None\n",
    "        self.active = False\n",
    "        self.mean_estimates = []\n",
    "        self.proba = 0.0\n",
    "    \n",
    "    def subdivide(self):\n",
    "        self.left = Node(self.depth + 1, 2 * self.index - 1, parent=self)\n",
    "        self.right = Node(self.depth + 1, 2 * self.index, parent=self)\n",
    "\n",
    "    def evict(self):\n",
    "        self.active = False\n",
    "        if self.left :\n",
    "            self.left.evict()\n",
    "        if self.right:\n",
    "            self.right.evict()\n",
    "\n",
    "    def contains(self, x):\n",
    "        left = (self.index-1) / (2**(self.depth-1))\n",
    "        right = (self.index) / (2 ** (self.depth-1))\n",
    "        print(left, right)\n",
    "        return left <= x <= right\n",
    "    \n",
    "    def get_parent(self, target_depth):\n",
    "        \"\"\" \n",
    "        Enumerate the list of children of a given node\n",
    "        \"\"\"\n",
    "        if target_depth >= self.depth :\n",
    "            return None\n",
    "        current = self\n",
    "        while current and current.depth > target_depth:\n",
    "            current = current.parent\n",
    "        return current\n",
    "\n",
    "    def get_descendants_at_depth(self, target_depth):\n",
    "        if target_depth <= self.depth :\n",
    "            return []\n",
    "        result = []\n",
    "\n",
    "        def helper(node):\n",
    "            if node is None :\n",
    "                return\n",
    "            if node.depth == target_depth :\n",
    "                result.append(node)\n",
    "            elif node.depth < target_depth :\n",
    "                helper(node.left)\n",
    "                helper(node.right)\n",
    "        helper(self)\n",
    "        return result\n",
    "    \n",
    "    def get_active_children(self, target_depth):\n",
    "        if target_depth <= self.depth :\n",
    "            return []\n",
    "        \n",
    "        result = []\n",
    "\n",
    "        def dfs(node):\n",
    "            if node is None :\n",
    "                return\n",
    "            if node.depth == target_depth and node.active :\n",
    "                result.append(node)\n",
    "            elif node.depth < target_depth :\n",
    "                dfs(node.left)\n",
    "                dfs(node.right)\n",
    "                \n",
    "        dfs(self)\n",
    "        return result\n",
    "\n",
    "\n",
    "    def __repr__(self) -> str:\n",
    "        return f\"Node({self.depth}, {self.index}, {self.active})\""
   ]
  },
  {
   "cell_type": "code",
   "execution_count": 56,
   "metadata": {},
   "outputs": [],
   "source": [
    "class Tree:\n",
    "\n",
    "    def __init__(self, max_depth) -> None:\n",
    "        self.max_depth = max_depth\n",
    "        self.root = Node(1, 1)\n",
    "        \n",
    "        if max_depth is not None:\n",
    "            self.build_full_tree(node=self.root, max_depth=max_depth)\n",
    "\n",
    "        self.initialize_active_depth() \n",
    "\n",
    "    def build_full_tree(self, node, max_depth):\n",
    "        \"\"\" Build tree of size max_depth recursively with node as root\"\"\"\n",
    "        if node.depth >= max_depth:\n",
    "            return\n",
    "        node.subdivide()\n",
    "        self.build_full_tree(node.left, max_depth)\n",
    "        self.build_full_tree(node.right, max_depth)\n",
    "\n",
    "    def initialize_active_depth(self):\n",
    "        self.active_depths = {}\n",
    "        active_nodes = self.collect_active_nodes(self.max_depth)\n",
    "        self.active_depths[self.max_depth] = active_nodes\n",
    "        self.activate_depth(self.max_depth)\n",
    "\n",
    "    def activate_depth(self, depth):\n",
    "        \"\"\" \n",
    "        Make depth active, i.e. activate all its nodes and add this depth to the set of active depths\n",
    "        Note that activating one node also actives all its children\n",
    "        \"\"\"\n",
    "        # Activate all children of a given node\n",
    "        def activate_children(node):\n",
    "            if not node :\n",
    "                return\n",
    "            node.active = True\n",
    "            activate_children(node.left)\n",
    "            activate_children(node.right)\n",
    "        \n",
    "        # Activate nodes\n",
    "        def activate_at_depth(node):\n",
    "            if node is None :\n",
    "                return\n",
    "            if node.depth == depth :\n",
    "                node.active = True\n",
    "                #activate_children(node.left)\n",
    "                #activate_children(node.right)\n",
    "                \n",
    "            elif node.depth < depth :\n",
    "                activate_at_depth(node.left)\n",
    "                activate_at_depth(node.right)\n",
    "\n",
    "        activate_at_depth(self.root)\n",
    "        nodes = self.collect_active_nodes(depth)\n",
    "        self.active_depths[depth] = nodes\n",
    "        \n",
    "\n",
    "    def find_node(self, depth, index):\n",
    "        node = self.root\n",
    "        for d in range(1, depth):\n",
    "            if node is None :\n",
    "                return None\n",
    "            bit = ((index - 1) >> (depth - d - 1)) & 1\n",
    "            node = node.right if bit else node.left\n",
    "        return node if node and node.depth == depth and node.index == index else None\n",
    "        \n",
    "    #def evict(self, depth, index):\n",
    "    #    node = self.find_node(depth, index)\n",
    "    #    if node:\n",
    "    #        node.evict()\n",
    "    \n",
    "    def collect_active_nodes(self, depth):\n",
    "        def helper_collect_active_nodes(node, depth):\n",
    "        # base\n",
    "            if node is None:\n",
    "                return []\n",
    "            if node.depth == depth and node.active :\n",
    "                return [node]\n",
    "            return helper_collect_active_nodes(node.left, depth) + helper_collect_active_nodes(node.right, depth) \n",
    "    \n",
    "        return helper_collect_active_nodes(self.root, depth)\n",
    "    \n",
    "    def count_active_bins(self, depth):\n",
    "        return len(self.collect_active_nodes(depth))\n",
    "                \n",
    "    def update_proba(self):\n",
    "        \"\"\"\n",
    "        Update each node's probability according to the hierarchical sampling scheme.\n",
    "        Only active nodes at active depths can receive nonzero probabilities.\n",
    "        \"\"\"\n",
    "        # Reset all probabilities to 0\n",
    "        def reset_probs(node):\n",
    "            if node is None:\n",
    "                return\n",
    "            node.proba = 0.0\n",
    "            reset_probs(node.left)\n",
    "            reset_probs(node.right)\n",
    "\n",
    "        reset_probs(self.root)\n",
    "\n",
    "        if not self.active_depths:\n",
    "            return\n",
    "\n",
    "        active_depths = sorted(self.active_depths.keys())\n",
    "        min_depth = active_depths[0]\n",
    "        min_depth_nodes = [n for n in self.active_depths[min_depth] if n.active]\n",
    "\n",
    "        if not min_depth_nodes:\n",
    "            return\n",
    "\n",
    "        base_prob = 1.0 / len(min_depth_nodes)\n",
    "\n",
    "        # Recursively assign probability only to active children at active depths\n",
    "        def recurse(node, depth_idx, prob):\n",
    "            if depth_idx >= len(active_depths):\n",
    "                return\n",
    "\n",
    "            current_depth = active_depths[depth_idx]\n",
    "\n",
    "            if node.depth != current_depth or not node.active:\n",
    "                return\n",
    "\n",
    "            node.proba = prob\n",
    "\n",
    "            # Recurse to next active depth\n",
    "            if depth_idx + 1 >= len(active_depths):\n",
    "                return\n",
    "\n",
    "            next_depth = active_depths[depth_idx + 1]\n",
    "\n",
    "            # Get all active children of `node` at the next active depth\n",
    "            children_at_next = node.get_descendants_at_depth(next_depth)\n",
    "            active_children = [child for child in children_at_next if child.active]\n",
    "\n",
    "            if not active_children:\n",
    "                return\n",
    "\n",
    "            child_prob = prob / len(active_children)\n",
    "\n",
    "            for child in active_children:\n",
    "                recurse(child, depth_idx + 1, child_prob)\n",
    "\n",
    "        for node in min_depth_nodes:\n",
    "            recurse(node, 0, base_prob)\n",
    "\n",
    "        \n",
    "    def update_estimates(self, x_t, y_t):\n",
    "\n",
    "        def update_node(node):\n",
    "            if node is None:\n",
    "                return      \n",
    "            \n",
    "            if node.contains(x_t):\n",
    "                if not node.active :\n",
    "                    node.mean_estimates.append(0.0)\n",
    "                else :\n",
    "                    p = node.proba\n",
    "                    mean_estimate_t = (y_t/p)\n",
    "                    node.mean_estimates.append(mean_estimate_t)\n",
    "\n",
    "            update_node(node.left)\n",
    "            update_node(node.right)\n",
    "            \n",
    "        update_node(self.root)\n",
    "\n",
    "    def visualize_tree(self, filename=\"dyadic_tree\"):\n",
    "            \n",
    "            dot = Digraph()\n",
    "\n",
    "            def add_nodes_edges(node):\n",
    "                if node is None:\n",
    "                    return\n",
    "                # Color node based on activity\n",
    "                color = \"green\" if node.active else \"red\"\n",
    "                label = f\"p={np.round(node.proba, 2)}, {np.round(node.mean_estimates[-1], 3) if node.mean_estimates != [] else 0.0}\"\n",
    "                dot.node(name=str(id(node)), label=label, style=\"filled\", fillcolor=color)\n",
    "\n",
    "                for child in [node.left, node.right]:\n",
    "                    if child:\n",
    "                        dot.edge(str(id(node)), str(id(child)))\n",
    "                        add_nodes_edges(child)\n",
    "\n",
    "            add_nodes_edges(self.root)\n",
    "            dot.render(filename, format=\"png\", cleanup=True)\n",
    "            print(f\"Tree image saved as {filename}.png\")"
   ]
  },
  {
   "cell_type": "code",
   "execution_count": 57,
   "metadata": {},
   "outputs": [],
   "source": [
    "class MBDE :\n",
    "    def __init__(self, T) -> None:\n",
    "        self.T = T\n",
    "        self.t = 1\n",
    "        self.l = 0 # current episode\n",
    "\n",
    "        # Constants\n",
    "        self.c0 = 22.7\n",
    "\n",
    "    def initialize_episode(self):\n",
    "        self.l+=1\n",
    "        self.block = 0\n",
    "        self.m = 3\n",
    "\n",
    "    def initialize_block(self):\n",
    "        self.m+=1\n",
    "        self.ScheduleReplays()\n",
    "        self.starting_block = np.copy(self.t)\n",
    "        self.ending_block = self.t + 8**self.m\n",
    "        self.tree = Tree(self.m)\n",
    "        self.d_t = {self.m}\n",
    "        \n",
    "    def ScheduleReplays(self):\n",
    "\n",
    "        \"\"\" Schedule all replays for a given block of size 8^m\n",
    "        \"\"\"\n",
    "        self.Replays = np.zeros((8**self.m, self.m))\n",
    "        for s in range(1 + 1, 1 + 8**self.m):\n",
    "            for d in range(1, self.m): # de 1 à m-1\n",
    "                if (s-1) % 8**d == 0 :\n",
    "                    p_s_d = np.sqrt(8 ** d / (s - 1))\n",
    "                    R_s_d = int(np.random.random() < p_s_d)\n",
    "                    self.Replays[s, d] = R_s_d\n",
    "\n",
    "    def get_mask(self):\n",
    "        self.active_mask = np.zeros_like(self.Replays)\n",
    "\n",
    "        for d in reversed(range(self.m)):  # Process deeper intervals first (higher priority)\n",
    "            length = 8**d\n",
    "            for s in range(8**self.m):\n",
    "                if self.Replays[s, d] == 1:\n",
    "                    end = min(s + length, 8**self.m)\n",
    "                    for t in range(s, end):\n",
    "                        # Only assign if no deeper interval was already assigned\n",
    "                        #if not self.active_mask[t].any():\n",
    "                        self.active_mask[t, d] = 1\n",
    "\n",
    "    \n",
    "    def get_active_depths(self):\n",
    "        \"\"\" \n",
    "        gives the set of active depths at current round\n",
    "        \"\"\"\n",
    "        print('hello',self.active_mask.shape[0])\n",
    "        if self.t < 0 or self.t >= self.active_mask.shape[0]:\n",
    "            raise ValueError('Round s is out of bounds')\n",
    "        return {self.m}.union({d for d, active in enumerate(self.active_mask[self.t]) if active == 1})\n",
    "    \n",
    "    def pull_action(self) :\n",
    "\n",
    "        min_depth = min(self.tree.active_depths)\n",
    "        candidates = self.tree.activate_depth[min_depth]\n",
    "        probs = [node.proba for node in candidates]\n",
    "        current = random.choices(candidates, weights=probs, k=1)[0]\n",
    "\n",
    "        for depth in sorted(self.tree.active_depths) :\n",
    "            if depth <= current.depth :\n",
    "                continue\n",
    "\n",
    "            children = [\n",
    "                node for node in self.tree.active_depths[depth] \n",
    "                if node.active and node.parent == current\n",
    "                ] # bon la ptet pas optimal\n",
    "            if not children :\n",
    "                break\n",
    "            current = random.choice(children)\n",
    "        x_t = current.sample\n",
    "        return x_t\n",
    "    \n",
    "    def update(self, y_t) :\n",
    "        self.tree.update_proba()\n",
    "        self.tree.update_estimates()\n",
    "        self.t+=1\n",
    "        \n",
    "        pass\n",
    "    \n",
    "    \n",
    "    def eviction_test(self):\n",
    "        def treshhold(s1, s2, d):\n",
    "            return self.c0 * np.log(self.T) * np.sqrt( np.max((s2 - s1)*(2**d), 4**d) ) + (4 * (s2 - s1) /2**d)\n",
    "        \n",
    "        def eviction_criteria(B1, B2, d) :\n",
    "            \"\"\" Check if cumulative diff between B_1 and B_2 triggers positive test  \"\"\"\n",
    "            n = self.t - self.starting_block\n",
    "            diff = [B1.mean_estimates[i] - B2.mean_estimates[i] for i in range(n)]\n",
    "            for s1 in range(n):\n",
    "                cumsum = 0\n",
    "                for s2 in range(s1, n):\n",
    "                    cumsum+= diff[s2]\n",
    "                    if cumsum > treshhold(s1, s2, d):\n",
    "                        return True\n",
    "            \n",
    "        for d, active_nodes_d in self.tree.active_depths.items() :\n",
    "            for B, B_prim in combinations(active_nodes_d, 2) :\n",
    "                if eviction_criteria(B, B_prim, d): \n",
    "                    # then evict B\n",
    "                    B.evict()\n",
    "\n",
    "\n",
    "    \n",
    "    def check(self):\n",
    "        if self.t == self.ending_block : # if block ends naturally\n",
    "            self.initialize_block()\n",
    "        pass\n",
    "\n",
    "    def test(self):\n",
    "        pass\n",
    "\n",
    "    def plot_active_mask(self):\n",
    "        \"\"\"\n",
    "        Visualizes the active mask with active intervals and markers at start times.\n",
    "        \"\"\"\n",
    "        m = self.active_mask.shape[1]\n",
    "        T = self.active_mask.shape[0]\n",
    "        \n",
    "        plt.figure(figsize=(10, m * 0.6))\n",
    "        plt.imshow(self.active_mask.T, aspect='auto', cmap='YlOrBr', interpolation='nearest')\n",
    "        plt.ylabel(\"Depth\")\n",
    "        plt.xlabel(\"Time\")\n",
    "        plt.title(\"Active Intervals Over Time by Depth\")\n",
    "        plt.yticks(ticks=range(1,m), labels=[f\"Depth {d}\" for d in range(1,m)])\n",
    "\n",
    "        # Add start markers\n",
    "        for d in range(1,m):\n",
    "            previous = 0\n",
    "            for t in range(T):\n",
    "                current = self.active_mask[t, d]\n",
    "                if current == 1 and previous == 0:\n",
    "                    plt.plot(t, d, marker='o', color='red', markersize=4)\n",
    "                previous = current\n",
    "\n",
    "        plt.tight_layout()\n",
    "        plt.show()\n",
    "        "
   ]
  },
  {
   "cell_type": "code",
   "execution_count": 61,
   "metadata": {},
   "outputs": [],
   "source": [
    "class Environment :\n",
    "    def __init__(self, T, nb_shifts) -> None:\n",
    "        self.T = T\n",
    "        self.nb_shifts = nb_shifts\n",
    "\n",
    "    def mean_reward(self, t):\n",
    "        # Nave test, just for sanity check for now\n",
    "        def naive_function(x):\n",
    "            return x\n",
    "        return naive_function\n",
    "    \n",
    "    def get_reward(self, t, x):\n",
    "        return self.mean_reward(t)(x)"
   ]
  },
  {
   "cell_type": "code",
   "execution_count": 62,
   "metadata": {},
   "outputs": [
    {
     "data": {
      "text/plain": [
       "0.2"
      ]
     },
     "execution_count": 62,
     "metadata": {},
     "output_type": "execute_result"
    }
   ],
   "source": [
    "env = Environment(1000, 3)\n",
    "env.get_reward(3, 0.2)"
   ]
  },
  {
   "cell_type": "code",
   "execution_count": null,
   "metadata": {},
   "outputs": [],
   "source": [
    "algo = MBDE(100)\n",
    "algo.initialize_episode()\n",
    "algo.initialize_block()\n"
   ]
  },
  {
   "cell_type": "code",
   "execution_count": 36,
   "metadata": {},
   "outputs": [
    {
     "name": "stdout",
     "output_type": "stream",
     "text": [
      "hello 4096\n"
     ]
    },
    {
     "data": {
      "text/plain": [
       "{3, 4}"
      ]
     },
     "execution_count": 36,
     "metadata": {},
     "output_type": "execute_result"
    }
   ],
   "source": [
    "algo = MBDE(100)\n",
    "algo.initialize_episode()\n",
    "algo.initialize_block()\n",
    "algo.get_mask()\n",
    "algo.t = 1400\n",
    "algo.get_active_depths()"
   ]
  },
  {
   "cell_type": "code",
   "execution_count": 37,
   "metadata": {},
   "outputs": [
    {
     "data": {
      "image/png": "[encoded data removed]",
      "text/plain": [
       "<Figure size 1000x240 with 1 Axes>"
      ]
     },
     "metadata": {},
     "output_type": "display_data"
    }
   ],
   "source": [
    "algo.plot_active_mask()"
   ]
  },
  {
   "cell_type": "code",
   "execution_count": 40,
   "metadata": {},
   "outputs": [
    {
     "name": "stdout",
     "output_type": "stream",
     "text": [
      "0.0 1.0\n",
      "Node(1, 1, False) contains\n",
      "0.0 0.5\n",
      "Node(2, 1, False) contains\n",
      "0.0 0.25\n",
      "Node(3, 1, False) contains\n",
      "0.0 0.125\n",
      "0.125 0.25\n",
      "Node(4, 2, True) contains\n",
      "coucou\n",
      "0.125\n",
      "0.25 0.5\n",
      "0.25 0.375\n",
      "0.375 0.5\n",
      "0.5 1.0\n",
      "0.5 0.75\n",
      "0.5 0.625\n",
      "0.625 0.75\n",
      "0.75 1.0\n",
      "0.75 0.875\n",
      "0.875 1.0\n",
      "Tree image saved as dyadic_tree.png\n"
     ]
    }
   ],
   "source": [
    "tree = Tree(4)\n",
    "tree.update_proba()\n",
    "tree.update_estimates(0.22, 0.60)\n",
    "tree.visualize_tree()\n"
   ]
  },
  {
   "cell_type": "code",
   "execution_count": 50,
   "metadata": {},
   "outputs": [
    {
     "name": "stdout",
     "output_type": "stream",
     "text": [
      "d =  4\n",
      "active nodes =  [Node(4, 1, True), Node(4, 2, True), Node(4, 3, True), Node(4, 4, True), Node(4, 5, True), Node(4, 6, True), Node(4, 7, True), Node(4, 8, True)]\n"
     ]
    }
   ],
   "source": [
    "for d, active_nodes in tree.active_depths.items():\n",
    "    print('d = ', d)\n",
    "    print('active nodes = ', active_nodes)"
   ]
  },
  {
   "cell_type": "code",
   "execution_count": null,
   "metadata": {},
   "outputs": [],
   "source": []
  },
  {
   "cell_type": "code",
   "execution_count": null,
   "metadata": {},
   "outputs": [],
   "source": []
  },
  {
   "cell_type": "code",
   "execution_count": 324,
   "metadata": {},
   "outputs": [],
   "source": [
    "\n",
    "def compute_interval_mask(activation_matrix, m):\n",
    "    \"\"\"\n",
    "    From an activation matrix (starts of intervals), compute a matrix marking active intervals\n",
    "    (only keeping the deepest one at each time step in case of overlap).\n",
    "    \n",
    "    Args:\n",
    "        activation_matrix: np.array of shape (8**m, m)\n",
    "        m: depth parameter\n",
    "    \n",
    "    Returns:\n",
    "        active_mask: np.array of shape (8**m, m), where 1 indicates active at that depth and time\n",
    "    \"\"\"\n",
    "    T, D = activation_matrix.shape\n",
    "    assert T == 8**m and D == m\n",
    "\n",
    "    active_mask = np.zeros_like(activation_matrix)\n",
    "\n",
    "    for d in reversed(range(m)):  # Process deeper intervals first (higher priority)\n",
    "        length = 8**d\n",
    "        for s in range(T):\n",
    "            if activation_matrix[s, d] == 1:\n",
    "                end = min(s + length, T)\n",
    "                for t in range(s, end):\n",
    "                    # Only assign if no deeper interval was already assigned\n",
    "                    if not active_mask[t].any():\n",
    "                        active_mask[t, d] = 1\n",
    "    return active_mask\n",
    "\n",
    "\n",
    "\n"
   ]
  },
  {
   "cell_type": "code",
   "execution_count": 325,
   "metadata": {},
   "outputs": [
    {
     "name": "stderr",
     "output_type": "stream",
     "text": [
      "/Users/nicolasnguyen/.pyenv/versions/3.10.4/lib/python3.10/site-packages/matplotlib/image.py:178: UserWarning: Data with more than 2**23 columns cannot be accurately displayed. Downsampling to less than 2**23 columns before displaying. To remove this warning, manually downsample your data.\n",
      "  warnings.warn(msg.format(n='2**23 columns'))\n"
     ]
    },
    {
     "data": {
      "image/png": "[encoded data removed]",
      "text/plain": [
       "<Figure size 1000x480 with 1 Axes>"
      ]
     },
     "metadata": {},
     "output_type": "display_data"
    }
   ],
   "source": [
    "mask = compute_interval_mask(Replays, m)\n",
    "plot_active_mask(mask)"
   ]
  },
  {
   "cell_type": "code",
   "execution_count": 283,
   "metadata": {},
   "outputs": [
    {
     "data": {
      "text/plain": [
       "array([[0., 0., 0., 0.],\n",
       "       [0., 0., 0., 0.],\n",
       "       [0., 0., 0., 0.],\n",
       "       ...,\n",
       "       [0., 0., 0., 0.],\n",
       "       [0., 0., 0., 0.],\n",
       "       [0., 0., 0., 0.]], shape=(4096, 4))"
      ]
     },
     "execution_count": 283,
     "metadata": {},
     "output_type": "execute_result"
    }
   ],
   "source": [
    "Replays"
   ]
  },
  {
   "cell_type": "code",
   "execution_count": 281,
   "metadata": {},
   "outputs": [],
   "source": [
    "def plot_intervals_by_depth(trigger_matrix, m):\n",
    "    \"\"\"\n",
    "    Plot triggered intervals on parallel lines, one per depth (column),\n",
    "    coloring each interval differently to distinguish them.\n",
    "    \"\"\"\n",
    "    n_rows, n_cols = trigger_matrix.shape\n",
    "    fig, ax = plt.subplots(figsize=(12, 1.5 * n_cols))\n",
    "\n",
    "    color_map = cm.get_cmap('tab20', 100)  # Pick a colormap with many distinct colors\n",
    "    color_counter = 0\n",
    "\n",
    "    for d in range(1, n_cols + 1):\n",
    "        y = n_cols + 1 - d  # So that depth 0 is on top\n",
    "        for s in range(n_rows):\n",
    "            if trigger_matrix[s - 1, d - 1] == 1:\n",
    "                length = 8 ** d\n",
    "                if s + length <= 8 ** m:\n",
    "                    color = color_map(color_counter % 200)\n",
    "                    ax.plot([s, s + length], [y, y], linewidth=6, color=color)\n",
    "                    color_counter += 1\n",
    "\n",
    "    ax.set_xlim(0, 8 ** m)\n",
    "    ax.set_ylim(0.5, n_cols + 0.5)\n",
    "    ax.set_yticks(range(1, n_cols + 1))\n",
    "    ax.set_yticklabels([f\"depth {d}\" for d in reversed(range(n_cols))])\n",
    "    ax.set_xlabel(f\"Timeline [0, {8**m}]\")\n",
    "    ax.set_title(\"Triggered Intervals by Depth (Color-coded)\")\n",
    "    plt.tight_layout()\n",
    "    plt.show()\n"
   ]
  },
  {
   "cell_type": "code",
   "execution_count": 282,
   "metadata": {},
   "outputs": [
    {
     "name": "stderr",
     "output_type": "stream",
     "text": [
      "/var/folders/f_/5d1sdz2957q4_tcvztqqz7180000gn/T/ipykernel_1813/3557210119.py:9: MatplotlibDeprecationWarning: The get_cmap function was deprecated in Matplotlib 3.7 and will be removed in 3.11. Use ``matplotlib.colormaps[name]`` or ``matplotlib.colormaps.get_cmap()`` or ``pyplot.get_cmap()`` instead.\n",
      "  color_map = cm.get_cmap('tab20', 100)  # Pick a colormap with many distinct colors\n"
     ]
    },
    {
     "data": {
      "image/png": "[encoded data removed]",
      "text/plain": [
       "<Figure size 1200x600 with 1 Axes>"
      ]
     },
     "metadata": {},
     "output_type": "display_data"
    }
   ],
   "source": [
    "plot_intervals_by_depth(Replays, 4)"
   ]
  },
  {
   "cell_type": "code",
   "execution_count": null,
   "metadata": {},
   "outputs": [],
   "source": [
    "class Environment :\n",
    "    def __init__(self) -> None:\n",
    "        pass\n"
   ]
  },
  {
   "cell_type": "code",
   "execution_count": 133,
   "metadata": {},
   "outputs": [
    {
     "name": "stdout",
     "output_type": "stream",
     "text": [
      "Tree image saved as dyadic_tree.png\n"
     ]
    }
   ],
   "source": [
    "tree = Tree(4)\n",
    "tree.activate_depth(2)\n",
    "tree.activate_depth(3)\n",
    "tree.update_proba()\n",
    "tree.visualize_tree()"
   ]
  },
  {
   "cell_type": "code",
   "execution_count": 134,
   "metadata": {},
   "outputs": [
    {
     "name": "stdout",
     "output_type": "stream",
     "text": [
      "Tree image saved as dyadic_tree.png\n"
     ]
    }
   ],
   "source": [
    "tree.evict(3, 2)\n",
    "tree.evict(3, 4)\n",
    "tree.evict(3, 3)\n",
    "tree.update_proba()\n",
    "tree.visualize_tree()"
   ]
  },
  {
   "cell_type": "code",
   "execution_count": 136,
   "metadata": {},
   "outputs": [
    {
     "name": "stdout",
     "output_type": "stream",
     "text": [
      "0.0 1.0\n",
      "Node(1, 1, False) contains\n",
      "0.0 0.5\n",
      "Node(2, 1, True) contains\n",
      "0.0 0.25\n",
      "0.0 0.125\n",
      "0.125 0.25\n",
      "0.25 0.5\n",
      "Node(3, 2, False) contains\n",
      "0.25 0.375\n",
      "0.375 0.5\n",
      "Node(4, 4, False) contains\n",
      "0.5 1.0\n",
      "0.5 0.75\n",
      "0.5 0.625\n",
      "0.625 0.75\n",
      "0.75 1.0\n",
      "0.75 0.875\n",
      "0.875 1.0\n",
      "Tree image saved as dyadic_tree.png\n"
     ]
    }
   ],
   "source": [
    "tree.update_estimates(0.4, 0.6)\n",
    "tree.update_proba()\n",
    "tree.visualize_tree()"
   ]
  },
  {
   "cell_type": "code",
   "execution_count": null,
   "metadata": {},
   "outputs": [],
   "source": []
  },
  {
   "cell_type": "code",
   "execution_count": 137,
   "metadata": {},
   "outputs": [
    {
     "name": "stdout",
     "output_type": "stream",
     "text": [
      "Tree image saved as dyadic_tree.png\n"
     ]
    }
   ],
   "source": [
    "tree.evict(4, 4)\n",
    "tree.update_proba()\n",
    "tree.visualize_tree()"
   ]
  },
  {
   "cell_type": "code",
   "execution_count": 56,
   "metadata": {},
   "outputs": [
    {
     "data": {
      "text/plain": [
       "[Node(4, 1, True), Node(4, 3, True), Node(4, 4, True)]"
      ]
     },
     "execution_count": 56,
     "metadata": {},
     "output_type": "execute_result"
    }
   ],
   "source": [
    "tree.collect_active_nodes(4)"
   ]
  },
  {
   "cell_type": "code",
   "execution_count": 55,
   "metadata": {},
   "outputs": [
    {
     "name": "stdout",
     "output_type": "stream",
     "text": [
      "Tree image saved as dyadic_tree.png\n"
     ]
    }
   ],
   "source": [
    "tree.evict(4, 2)\n",
    "tree.update_proba()\n",
    "tree.visualize_tree()"
   ]
  },
  {
   "cell_type": "code",
   "execution_count": 32,
   "metadata": {},
   "outputs": [],
   "source": [
    "tree.evict(2, 2)"
   ]
  },
  {
   "cell_type": "code",
   "execution_count": 33,
   "metadata": {},
   "outputs": [
    {
     "name": "stdout",
     "output_type": "stream",
     "text": [
      "Tree image saved as dyadic_tree.png\n"
     ]
    }
   ],
   "source": [
    "tree.visualize_tree()"
   ]
  },
  {
   "cell_type": "code",
   "execution_count": 12,
   "metadata": {},
   "outputs": [
    {
     "name": "stdout",
     "output_type": "stream",
     "text": [
      "Tree image saved as dyadic_tree.png\n"
     ]
    }
   ],
   "source": [
    "tree.activate_depth(2)\n",
    "tree.visualize_tree()"
   ]
  },
  {
   "cell_type": "code",
   "execution_count": null,
   "metadata": {},
   "outputs": [],
   "source": [
    "def sample_replay_prob(m, τ_l_m):\n",
    "    # Schedule replays for all the block\n",
    "    Replays = np.zeros((m-1, 8**m - 1 ))\n",
    "    for s in range(τ_l_m + 1, τ_l_m + 8 ** m):\n",
    "        for d in range(m):\n",
    "            if s - τ_l_m % (8 ** d) == 0:\n",
    "                p_s_d = np.sqrt(8 ** d / (s - τ_l_m))\n",
    "                R_s_d = int(np.random.random() < p_s_d)\n",
    "                Replays[s, d] = R_s_d\n",
    "    return Replays\n",
    "\n",
    "def MDBE(T):\n",
    "    # Initialization\n",
    "    l = 1\n",
    "    t = 1\n",
    "    m = 1\n",
    "    \n",
    "    while t <= T:\n",
    "        # (★) Block handling\n",
    "        if t == 1 or t == τ_l_m + 8 ** m: # if ending of the block without significant shift\n",
    "            m += 1\n",
    "            B_MASTER = set(range(1, 1 + 8**m)) # Reset MASTER set\n",
    "            D_t = {m}\n",
    "            τ_l_m = t\n",
    "\n",
    "            # Initialize StoreActive dictionary\n",
    "            StoreActive = {}\n",
    "            StoreActive[m] = [τ_l_m, τ_l_m + 8**m]\n",
    "            for d in range(m) :\n",
    "                StoreActive[d] = []\n",
    "\n",
    "            B_t = {}\n",
    "            Replays = sample_replay_prob(m, τ_l_m)\n",
    "\n",
    "        # Check if there are replays that are beginning in this precise round t\n",
    "        for d in range(m) :\n",
    "            if Replays[t, d] == 1 :\n",
    "                D_t.add(d)\n",
    "                StoreActive[d] = [t, t + 8**d]\n",
    "                B_t[d] = set(range(1, 1 + 8**d))\n",
    "        \n",
    "        # Check if a replay ends\n",
    "        for d in D_t:\n",
    "            if StoreActive[d][1] == t :\n",
    "                D_t.discard(d)\n",
    "                B_t[d] = set()\n",
    "\n",
    "        # Hierarchical sampling\n",
    "        d_min = min(D_t)\n",
    "        B_parent = random.choice(B_t[d_min])\n",
    "\n",
    "        # faudrait creer une classe d'arbre...\n",
    "        \n",
    "\n",
    "\n",
    "\n",
    "\n",
    "        # Replay deactivation\n",
    "        for d in range(m):\n",
    "            if StoreActive.get((l, d), {}).get(t, None):\n",
    "                D[l].discard(d)\n",
    "                B_t[(l, d)] = set()\n",
    "\n",
    "        # Bin selection\n",
    "        d0 = min(D[l])\n",
    "        B_parent = random.choice(list(B_t[(l, d0)]))\n",
    "        xt = B_parent  # If no children\n",
    "\n",
    "        children = get_children(B_parent, d0, B_t)\n",
    "        if children:\n",
    "            xt = random.choice(children)\n",
    "            B_parent = xt\n",
    "\n",
    "        # Bin eviction\n",
    "        for d in D[l]:\n",
    "            for B in B_t[(l, d)]:\n",
    "                for d_ in [d_ for d_ in range(d + 1, m)]:\n",
    "                    for B_prime in B_t[(l, d_)]:\n",
    "                        if bin_condition(B_prime, B, StoreActive, l, d):\n",
    "                            B_t[(l, d_)] -= {B_prime}\n",
    "\n",
    "        # MASTER set update\n",
    "        B_MASTER[(l, m)] = B_MASTER[(l, m)].intersection(B_t.get((l, m), set()))\n",
    "        if not B_MASTER[(l, m)]:\n",
    "            τ[(l + 1, 0)] = t + 1\n",
    "            l += 1\n",
    "            t = τ[(l, 0)]\n",
    "            m = 0\n",
    "            continue\n",
    "\n",
    "        t += 1\n"
   ]
  },
  {
   "cell_type": "code",
   "execution_count": 15,
   "metadata": {},
   "outputs": [
    {
     "data": {
      "text/plain": [
       "np.float64(13.815510557964274)"
      ]
     },
     "execution_count": 15,
     "metadata": {},
     "output_type": "execute_result"
    }
   ],
   "source": [
    "np.log(np.power(10, 6))"
   ]
  },
  {
   "cell_type": "code",
   "execution_count": null,
   "metadata": {},
   "outputs": [],
   "source": [
    "\n",
    "\n",
    "def plot_active_mask(active_mask):\n",
    "    \"\"\"\n",
    "    Visualizes the active mask with active intervals and markers at start times.\n",
    "    \"\"\"\n",
    "    m = active_mask.shape[1]\n",
    "    T = active_mask.shape[0]\n",
    "    \n",
    "    plt.figure(figsize=(10, m * 0.6))\n",
    "    plt.imshow(active_mask.T, aspect='auto', cmap='YlOrBr', interpolation='nearest')\n",
    "    plt.ylabel(\"Depth\")\n",
    "    plt.xlabel(\"Time\")\n",
    "    plt.title(\"Active Intervals Over Time by Depth\")\n",
    "    plt.yticks(ticks=range(1,m), labels=[f\"Depth {d}\" for d in range(1,m)])\n",
    "\n",
    "    # Add start markers\n",
    "    for d in range(1,m):\n",
    "        previous = 0\n",
    "        for t in range(T):\n",
    "            current = active_mask[t, d]\n",
    "            if current == 1 and previous == 0:\n",
    "                plt.plot(t, d, marker='o', color='red', markersize=4)\n",
    "            previous = current\n",
    "\n",
    "    plt.tight_layout()\n",
    "    plt.show()"
   ]
  },
  {
   "cell_type": "code",
   "execution_count": 41,
   "metadata": {},
   "outputs": [
    {
     "data": {
      "text/plain": [
       "2.718281828459045"
      ]
     },
     "execution_count": 41,
     "metadata": {},
     "output_type": "execute_result"
    }
   ],
   "source": [
    "np.e"
   ]
  },
  {
   "cell_type": "code",
   "execution_count": 54,
   "metadata": {},
   "outputs": [
    {
     "name": "stdout",
     "output_type": "stream",
     "text": [
      "1 3\n",
      "1 a\n",
      "1 2\n",
      "3 a\n",
      "3 2\n",
      "a 2\n"
     ]
    }
   ],
   "source": [
    "list_test = [1, 3, 'a', 2]\n",
    "\n",
    "for a, b in combinations(list_test, 2):\n",
    "    print(a, b)"
   ]
  },
  {
   "cell_type": "code",
   "execution_count": null,
   "metadata": {},
   "outputs": [],
   "source": []
  }
 ],
 "metadata": {
  "kernelspec": {
   "display_name": "Python 3",
   "language": "python",
   "name": "python3"
  },
  "language_info": {
   "codemirror_mode": {
    "name": "ipython",
    "version": 3
   },
   "file_extension": ".py",
   "mimetype": "text/x-python",
   "name": "python",
   "nbconvert_exporter": "python",
   "pygments_lexer": "ipython3",
   "version": "3.10.4"
  },
  "orig_nbformat": 4,
  "vscode": {
   "interpreter": {
    "hash": "a42a53f72903cc04303089eaf20b408942b97710132b3b8167caf5cbcee87944"
   }
  }
 },
 "nbformat": 4,
 "nbformat_minor": 2
}
