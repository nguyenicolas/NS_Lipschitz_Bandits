{
 "cells": [
  {
   "cell_type": "code",
   "execution_count": 9,
   "metadata": {},
   "outputs": [],
   "source": [
    "import numpy as np\n",
    "import matplotlib.pyplot as plt\n",
    "from graphviz import Digraph\n",
    "from itertools import permutations\n",
    "import random\n",
    "import math\n",
    "from tqdm.auto import tqdm"
   ]
  },
  {
   "cell_type": "code",
   "execution_count": 3,
   "metadata": {},
   "outputs": [],
   "source": [
    "class Node:\n",
    "    def __init__(self, depth, index, parent=None) -> None:\n",
    "        self.depth = depth\n",
    "        self.index = index\n",
    "        self.parent = parent\n",
    "        self.left = None\n",
    "        self.right = None\n",
    "        self.active = False\n",
    "        self.mean_estimates = []\n",
    "        self.proba = 0.0\n",
    "        self.size = 1/(2**(self.depth-1))\n",
    "    \n",
    "    def subdivide(self):\n",
    "        self.left = Node(self.depth + 1, 2 * self.index - 1, parent=self)\n",
    "        self.right = Node(self.depth + 1, 2 * self.index, parent=self)\n",
    "\n",
    "    def evict(self):\n",
    "        self.active = False\n",
    "        if self.left :\n",
    "            self.left.evict()\n",
    "        if self.right:\n",
    "            self.right.evict()\n",
    "\n",
    "    def contains(self, x):\n",
    "        left = (self.index-1) / (2**(self.depth-1))\n",
    "        right = (self.index) / (2 ** (self.depth-1))\n",
    "        return left <= x <= right\n",
    "    \n",
    "    def get_parent(self, target_depth):\n",
    "        \"\"\" \n",
    "        Enumerate the list of children of a given node\n",
    "        \"\"\"\n",
    "        if target_depth >= self.depth :\n",
    "            return None\n",
    "        current = self\n",
    "        while current and current.depth > target_depth:\n",
    "            current = current.parent\n",
    "        return current\n",
    "\n",
    "    def get_descendants_at_depth(self, target_depth):\n",
    "        if target_depth <= self.depth :\n",
    "            return []\n",
    "        result = []\n",
    "\n",
    "        def helper(node):\n",
    "            if node is None :\n",
    "                return\n",
    "            if node.depth == target_depth :\n",
    "                result.append(node)\n",
    "            elif node.depth < target_depth :\n",
    "                helper(node.left)\n",
    "                helper(node.right)\n",
    "        helper(self)\n",
    "        return result\n",
    "    \n",
    "    def get_active_children(self, target_depth):\n",
    "        if target_depth <= self.depth :\n",
    "            return []\n",
    "        \n",
    "        result = []\n",
    "\n",
    "        def dfs(node):\n",
    "            if node is None :\n",
    "                return\n",
    "            if node.depth == target_depth and node.active :\n",
    "                result.append(node)\n",
    "            elif node.depth < target_depth :\n",
    "                dfs(node.left)\n",
    "                dfs(node.right)\n",
    "                \n",
    "        dfs(self)\n",
    "        return result\n",
    "    \n",
    "    def sample(self):\n",
    "        \"\"\" Sample one action (i.e. number) in node \"\"\"\n",
    "        left = (self.index-1) / (2**(self.depth-1))\n",
    "        right = (self.index) / (2 ** (self.depth-1))\n",
    "        return random.uniform(left, right)\n",
    "\n",
    "\n",
    "    def __repr__(self) -> str:\n",
    "        return f\"p={self.proba}, mean={self.mean_estimates}\""
   ]
  },
  {
   "cell_type": "code",
   "execution_count": 4,
   "metadata": {},
   "outputs": [],
   "source": [
    "class Tree:\n",
    "\n",
    "    def __init__(self, max_depth) -> None:\n",
    "        self.max_depth = max_depth\n",
    "        self.root = Node(1, 1)\n",
    "        \n",
    "        if max_depth is not None:\n",
    "            self.build_full_tree(node=self.root, max_depth=max_depth)\n",
    "\n",
    "        self.initialize_active_depth() \n",
    "\n",
    "    def build_full_tree(self, node, max_depth):\n",
    "        \"\"\" Build tree of size max_depth recursively with node as root\"\"\"\n",
    "        if node.depth >= max_depth:\n",
    "            return\n",
    "        node.subdivide()\n",
    "        self.build_full_tree(node.left, max_depth)\n",
    "        self.build_full_tree(node.right, max_depth)\n",
    "\n",
    "    def initialize_active_depth(self):\n",
    "        self.active_depths = {}\n",
    "        active_nodes = self.collect_active_nodes(self.max_depth)\n",
    "        self.active_depths[self.max_depth] = active_nodes\n",
    "        self.activate_depth(self.max_depth)\n",
    "        \n",
    "\n",
    "    def activate_depth(self, depth):\n",
    "        \"\"\" \n",
    "        Make depth active, i.e. activate all its nodes and add this depth to the set of active depths\n",
    "        Note that activating one node also actives all its children\n",
    "        \"\"\"\n",
    "        # Activate all children of a given node\n",
    "        def activate_children(node):\n",
    "            if not node :\n",
    "                return\n",
    "            node.active = True\n",
    "            activate_children(node.left)\n",
    "            activate_children(node.right)\n",
    "        \n",
    "        # Activate nodes\n",
    "        def activate_at_depth(node):\n",
    "            if node is None :\n",
    "                return\n",
    "            if node.depth == depth :\n",
    "                node.active = True\n",
    "                #activate_children(node.left)\n",
    "                #activate_children(node.right)\n",
    "                \n",
    "            elif node.depth < depth :\n",
    "                activate_at_depth(node.left)\n",
    "                activate_at_depth(node.right)\n",
    "\n",
    "        activate_at_depth(self.root)\n",
    "        nodes = self.collect_active_nodes(depth)\n",
    "        self.active_depths[depth] = nodes\n",
    "        self.update_proba() # en vrai jpense a chaque fois qu'on active un depth faut re-update les pb\n",
    "        \n",
    "\n",
    "    def find_node(self, depth, index):\n",
    "        node = self.root\n",
    "        for d in range(1, depth):\n",
    "            if node is None :\n",
    "                return None\n",
    "            bit = ((index - 1) >> (depth - d - 1)) & 1\n",
    "            node = node.right if bit else node.left\n",
    "        return node if node and node.depth == depth and node.index == index else None\n",
    "        \n",
    "    def collect_active_nodes(self, depth):\n",
    "        def helper_collect_active_nodes(node, depth):\n",
    "        # base\n",
    "            if node is None:\n",
    "                return []\n",
    "            if node.depth == depth and node.active :\n",
    "                return [node]\n",
    "            return helper_collect_active_nodes(node.left, depth) + helper_collect_active_nodes(node.right, depth) \n",
    "    \n",
    "        return helper_collect_active_nodes(self.root, depth)\n",
    "    \n",
    "    def count_active_bins(self, depth):\n",
    "        return len(self.collect_active_nodes(depth))\n",
    "                \n",
    "    def update_proba(self):\n",
    "        \"\"\"\n",
    "        Update each node's probability according to the hierarchical sampling scheme.\n",
    "        Only active nodes at active depths can receive nonzero probabilities.\n",
    "        \"\"\"\n",
    "        # Reset all probabilities to 0\n",
    "        def reset_probs(node):\n",
    "            if node is None:\n",
    "                return\n",
    "            node.proba = 0.0\n",
    "            reset_probs(node.left)\n",
    "            reset_probs(node.right)\n",
    "\n",
    "        reset_probs(self.root)\n",
    "\n",
    "        if not self.active_depths:\n",
    "            return\n",
    "\n",
    "        active_depths = sorted(self.active_depths.keys())\n",
    "        min_depth = active_depths[0]\n",
    "        min_depth_nodes = [n for n in self.active_depths[min_depth] if n.active]\n",
    "\n",
    "        if not min_depth_nodes:\n",
    "            return\n",
    "\n",
    "        base_prob = 1.0 / len(min_depth_nodes)\n",
    "\n",
    "        # Recursively assign probability only to active children at active depths\n",
    "        def recurse(node, depth_idx, prob):\n",
    "            if depth_idx >= len(active_depths):\n",
    "                return\n",
    "\n",
    "            current_depth = active_depths[depth_idx]\n",
    "\n",
    "            if node.depth != current_depth or not node.active:\n",
    "                return\n",
    "\n",
    "            node.proba = prob\n",
    "\n",
    "            # Recurse to next active depth\n",
    "            if depth_idx + 1 >= len(active_depths):\n",
    "                return\n",
    "\n",
    "            next_depth = active_depths[depth_idx + 1]\n",
    "\n",
    "            # Get all active children of `node` at the next active depth\n",
    "            children_at_next = node.get_descendants_at_depth(next_depth)\n",
    "            active_children = [child for child in children_at_next if child.active]\n",
    "\n",
    "            if not active_children:\n",
    "                return\n",
    "\n",
    "            child_prob = prob / len(active_children)\n",
    "\n",
    "            for child in active_children:\n",
    "                recurse(child, depth_idx + 1, child_prob)\n",
    "\n",
    "        for node in min_depth_nodes:\n",
    "            recurse(node, 0, base_prob)\n",
    "\n",
    "        \n",
    "    def update_estimates(self, x_t, y_t):\n",
    "\n",
    "        def update_node(node):\n",
    "            if node is None:\n",
    "                return      \n",
    "            \n",
    "            if not node.contains(x_t) or not node.active:\n",
    "                node.mean_estimates.append(0.0)\n",
    "            \n",
    "            else :\n",
    "                p = node.proba\n",
    "                mean_estimate_t = (y_t/p) \n",
    "                node.mean_estimates.append(mean_estimate_t)\n",
    "            \n",
    "\n",
    "            update_node(node.left)\n",
    "            update_node(node.right)\n",
    "            \n",
    "        update_node(self.root)\n",
    "\n",
    "    def visualize_tree(self, filename=\"dyadic_tree\"):\n",
    "            \n",
    "            dot = Digraph()\n",
    "\n",
    "            def add_nodes_edges(node):\n",
    "                if node is None:\n",
    "                    return\n",
    "                # Color node based on activity\n",
    "                color = \"green\" if node.active else \"red\"\n",
    "                label = f\"p={np.round(node.proba, 3)}, {np.round(np.mean(node.mean_estimates), 3) if node.mean_estimates != [] else 0.0}\"\n",
    "                dot.node(name=str(id(node)), label=label, style=\"filled\", fillcolor=color)\n",
    "\n",
    "                for child in [node.left, node.right]:\n",
    "                    if child:\n",
    "                        dot.edge(str(id(node)), str(id(child)))\n",
    "                        add_nodes_edges(child)\n",
    "\n",
    "            add_nodes_edges(self.root)\n",
    "            dot.render(filename, format=\"png\", cleanup=True)\n",
    "            print(f\"Tree image saved as {filename}.png\")"
   ]
  },
  {
   "cell_type": "code",
   "execution_count": 111,
   "metadata": {},
   "outputs": [],
   "source": [
    "class MBDE :\n",
    "    def __init__(self, T) -> None:\n",
    "        self.T = T\n",
    "        self.t = 1\n",
    "        self.l = 0 # current episode\n",
    "\n",
    "        # Constants\n",
    "        self.c0 = 1\n",
    "\n",
    "    def initialize_episode(self):\n",
    "        self.l+=1\n",
    "        self.block = 0\n",
    "        self.m = 4\n",
    "\n",
    "    def initialize_block(self):\n",
    "        self.m+=1\n",
    "        self.ScheduleReplays()\n",
    "        self.starting_block = np.copy(self.t)\n",
    "        self.ending_block = self.t + 8**self.m\n",
    "        self.tree = Tree(self.m)\n",
    "        self.d_t = {self.m}\n",
    "        self.tree.update_proba()\n",
    "                \n",
    "    def ScheduleReplays(self):\n",
    "\n",
    "        \"\"\" Schedule all replays for a given block of size 8^m\n",
    "        \"\"\"\n",
    "        self.Replays = np.zeros((8**self.m, self.m))\n",
    "        for s in range(1 + 1, 1 + 8**self.m):\n",
    "            for d in range(1, self.m): # de 1 à m-1\n",
    "                if (s-1) % 8**d == 0 :\n",
    "                    p_s_d = np.sqrt(8 ** d / (s - 1))\n",
    "                    R_s_d = int(np.random.random() < p_s_d)\n",
    "                    self.Replays[s, d] = R_s_d\n",
    "\n",
    "    def get_mask(self):\n",
    "        self.active_mask = np.zeros_like(self.Replays)\n",
    "\n",
    "        for d in reversed(range(self.m)):  # Process deeper intervals first (higher priority)\n",
    "            length = 8**d\n",
    "            for s in range(8**self.m):\n",
    "                if self.Replays[s, d] == 1:\n",
    "                    end = min(s + length, 8**self.m)\n",
    "                    for t in range(s, end):\n",
    "                        # Only assign if no deeper interval was already assigned\n",
    "                        #if not self.active_mask[t].any():\n",
    "                        self.active_mask[t, d] = 1\n",
    "\n",
    "    \n",
    "\n",
    "    def get_active_depths(self):\n",
    "        \"\"\" \n",
    "        gives the set of active depths at current round\n",
    "        \"\"\"\n",
    "        if self.t < 0 or self.t >= self.active_mask.shape[0]:\n",
    "            raise ValueError('Round s is out of bounds')\n",
    "        return {self.m}.union({d for d, active in enumerate(self.active_mask[self.t]) if active == 1})\n",
    "    \n",
    "    def choose_action(self) :\n",
    "\n",
    "        min_depth = min(self.tree.active_depths)\n",
    "        candidates = self.tree.active_depths[min_depth]\n",
    "        probs = [node.proba for node in candidates]\n",
    "        current = random.choices(candidates, weights=probs, k=1)[0]\n",
    "\n",
    "        for depth in sorted(self.tree.active_depths) :\n",
    "            if depth <= current.depth :\n",
    "                continue\n",
    "\n",
    "            children = [\n",
    "                node for node in self.tree.active_depths[depth] \n",
    "                if node.active and node.parent == current\n",
    "                ] # bon la ptet pas optimal\n",
    "            \n",
    "            if not children :\n",
    "                break\n",
    "            current = random.choice(children)\n",
    "        x_t = current.sample()\n",
    "        \n",
    "        return x_t\n",
    "    \n",
    "\n",
    "    def update(self, x_t, y_t):\n",
    "        self.tree.update_estimates(x_t, y_t)\n",
    "        #if self.t >= 2 :\n",
    "        self.eviction_test()\n",
    "        self.tree.update_proba()\n",
    "        self.t+=1\n",
    "    \n",
    "    \n",
    "    def eviction_test(self):\n",
    "        def treshhold(s1, s2, d):\n",
    "            return self.c0 * math.log(self.T) * math.sqrt( max((s2 - s1)*(2**d), 4**d) ) + (4 * (s2 - s1) /2**d)\n",
    "        \n",
    "        def eviction_criteria(B1, B2, d) :\n",
    "            \"\"\" Check if cumulative diff between B_1 and B_2 triggers positive test  \"\"\"\n",
    "            n = self.t - self.starting_block\n",
    "            diff = [B1.mean_estimates[i] - B2.mean_estimates[i] for i in range(n)]\n",
    "            for s1 in range(n):\n",
    "                cumsum = 0\n",
    "                for s2 in range(s1, n):\n",
    "                    cumsum+= diff[s2]\n",
    "                    if cumsum > treshhold(s1, s2, d):\n",
    "                        return True\n",
    "                    \n",
    "        for d, active_nodes_d in self.tree.active_depths.items() :\n",
    "            for B, B_prim in permutations(active_nodes_d, 2):\n",
    "                if eviction_criteria(B, B_prim, d): \n",
    "                    print(f'{B_prim.index} evicted')\n",
    "                    # then evict B\n",
    "                    B_prim.evict()\n",
    "                    continue\n",
    "\n",
    "\n",
    "    def check(self):\n",
    "        if self.t == self.ending_block : # if block ends naturally\n",
    "            self.initialize_block()\n",
    "        pass\n",
    "\n",
    "    def plot_active_mask(self):\n",
    "        \"\"\"\n",
    "        Visualizes the active mask with active intervals and markers at start times.\n",
    "        \"\"\"\n",
    "        m = self.active_mask.shape[1]\n",
    "        T = self.active_mask.shape[0]\n",
    "        \n",
    "        plt.figure(figsize=(10, m * 0.6))\n",
    "        plt.imshow(self.active_mask.T, aspect='auto', cmap='YlOrBr', interpolation='nearest')\n",
    "        plt.ylabel(\"Depth\")\n",
    "        plt.xlabel(\"Time\")\n",
    "        plt.title(\"Active Intervals Over Time by Depth\")\n",
    "        plt.yticks(ticks=range(1,m), labels=[f\"Depth {d}\" for d in range(1,m)])\n",
    "\n",
    "        # Add start markers\n",
    "        for d in range(1,m):\n",
    "            previous = 0\n",
    "            for t in range(T):\n",
    "                current = self.active_mask[t, d]\n",
    "                if current == 1 and previous == 0:\n",
    "                    plt.plot(t, d, marker='o', color='red', markersize=4)\n",
    "                previous = current\n",
    "\n",
    "        plt.tight_layout()\n",
    "        plt.show()\n",
    "        "
   ]
  },
  {
   "cell_type": "code",
   "execution_count": 112,
   "metadata": {},
   "outputs": [],
   "source": [
    "class Environment :\n",
    "    def __init__(self, T, nb_shifts) -> None:\n",
    "        self.T = T\n",
    "        self.nb_shifts = nb_shifts\n",
    "\n",
    "    def mean_reward(self, t):\n",
    "        # Nave test, just for sanity check for now\n",
    "        def naive_function(x):\n",
    "            return x\n",
    "        return naive_function\n",
    "    \n",
    "    def get_reward(self, t, x):\n",
    "        return 2*self.mean_reward(t)(x)"
   ]
  },
  {
   "cell_type": "code",
   "execution_count": 113,
   "metadata": {},
   "outputs": [
    {
     "name": "stdout",
     "output_type": "stream",
     "text": [
      "Tree image saved as dyadic_tree.png\n"
     ]
    }
   ],
   "source": [
    "env = Environment(100, 3)\n",
    "algo = MBDE(100)\n",
    "algo.initialize_episode()\n",
    "algo.initialize_block()\n",
    "algo.tree.activate_depth(2)\n",
    "algo.tree.visualize_tree()"
   ]
  },
  {
   "cell_type": "code",
   "execution_count": 114,
   "metadata": {},
   "outputs": [
    {
     "name": "stderr",
     "output_type": "stream",
     "text": [
      " 72%|███████▏  | 50/69 [00:04<00:04,  4.55it/s] "
     ]
    },
    {
     "name": "stdout",
     "output_type": "stream",
     "text": [
      "1 evicted\n",
      "2 evicted\n",
      "3 evicted\n",
      "4 evicted\n",
      "5 evicted\n",
      "6 evicted\n"
     ]
    },
    {
     "name": "stderr",
     "output_type": "stream",
     "text": [
      " 74%|███████▍  | 51/69 [00:05<00:04,  4.21it/s]"
     ]
    },
    {
     "name": "stdout",
     "output_type": "stream",
     "text": [
      "1 evicted\n",
      "2 evicted\n",
      "3 evicted\n",
      "4 evicted\n",
      "5 evicted\n",
      "6 evicted\n"
     ]
    },
    {
     "name": "stderr",
     "output_type": "stream",
     "text": [
      " 75%|███████▌  | 52/69 [00:05<00:04,  3.91it/s]"
     ]
    },
    {
     "name": "stdout",
     "output_type": "stream",
     "text": [
      "1 evicted\n",
      "2 evicted\n",
      "3 evicted\n",
      "4 evicted\n",
      "5 evicted\n",
      "6 evicted\n"
     ]
    },
    {
     "name": "stderr",
     "output_type": "stream",
     "text": [
      " 77%|███████▋  | 53/69 [00:05<00:04,  3.68it/s]"
     ]
    },
    {
     "name": "stdout",
     "output_type": "stream",
     "text": [
      "1 evicted\n",
      "2 evicted\n",
      "3 evicted\n",
      "4 evicted\n",
      "5 evicted\n",
      "6 evicted\n"
     ]
    },
    {
     "name": "stderr",
     "output_type": "stream",
     "text": [
      " 78%|███████▊  | 54/69 [00:06<00:04,  3.48it/s]"
     ]
    },
    {
     "name": "stdout",
     "output_type": "stream",
     "text": [
      "1 evicted\n",
      "2 evicted\n",
      "3 evicted\n",
      "4 evicted\n",
      "5 evicted\n",
      "6 evicted\n"
     ]
    },
    {
     "name": "stderr",
     "output_type": "stream",
     "text": [
      " 80%|███████▉  | 55/69 [00:06<00:04,  3.31it/s]"
     ]
    },
    {
     "name": "stdout",
     "output_type": "stream",
     "text": [
      "1 evicted\n",
      "2 evicted\n",
      "3 evicted\n",
      "4 evicted\n",
      "5 evicted\n",
      "6 evicted\n"
     ]
    },
    {
     "name": "stderr",
     "output_type": "stream",
     "text": [
      " 81%|████████  | 56/69 [00:06<00:04,  3.16it/s]"
     ]
    },
    {
     "name": "stdout",
     "output_type": "stream",
     "text": [
      "1 evicted\n",
      "2 evicted\n",
      "3 evicted\n",
      "4 evicted\n",
      "5 evicted\n",
      "6 evicted\n"
     ]
    },
    {
     "name": "stderr",
     "output_type": "stream",
     "text": [
      " 83%|████████▎ | 57/69 [00:07<00:03,  3.03it/s]"
     ]
    },
    {
     "name": "stdout",
     "output_type": "stream",
     "text": [
      "1 evicted\n",
      "2 evicted\n",
      "3 evicted\n",
      "4 evicted\n",
      "5 evicted\n",
      "6 evicted\n"
     ]
    },
    {
     "name": "stderr",
     "output_type": "stream",
     "text": [
      " 84%|████████▍ | 58/69 [00:07<00:03,  2.91it/s]"
     ]
    },
    {
     "name": "stdout",
     "output_type": "stream",
     "text": [
      "1 evicted\n",
      "2 evicted\n",
      "3 evicted\n",
      "4 evicted\n",
      "5 evicted\n",
      "6 evicted\n"
     ]
    },
    {
     "name": "stderr",
     "output_type": "stream",
     "text": [
      " 86%|████████▌ | 59/69 [00:07<00:03,  2.80it/s]"
     ]
    },
    {
     "name": "stdout",
     "output_type": "stream",
     "text": [
      "1 evicted\n",
      "2 evicted\n",
      "3 evicted\n",
      "4 evicted\n",
      "5 evicted\n",
      "6 evicted\n",
      "10 evicted\n"
     ]
    },
    {
     "name": "stderr",
     "output_type": "stream",
     "text": [
      " 87%|████████▋ | 60/69 [00:08<00:03,  2.70it/s]"
     ]
    },
    {
     "name": "stdout",
     "output_type": "stream",
     "text": [
      "1 evicted\n",
      "2 evicted\n",
      "3 evicted\n",
      "4 evicted\n",
      "5 evicted\n",
      "6 evicted\n",
      "7 evicted\n",
      "8 evicted\n",
      "9 evicted\n",
      "10 evicted\n"
     ]
    },
    {
     "name": "stderr",
     "output_type": "stream",
     "text": [
      " 88%|████████▊ | 61/69 [00:08<00:03,  2.61it/s]"
     ]
    },
    {
     "name": "stdout",
     "output_type": "stream",
     "text": [
      "1 evicted\n",
      "2 evicted\n",
      "3 evicted\n",
      "4 evicted\n",
      "5 evicted\n",
      "6 evicted\n",
      "7 evicted\n",
      "8 evicted\n",
      "9 evicted\n",
      "10 evicted\n"
     ]
    },
    {
     "name": "stderr",
     "output_type": "stream",
     "text": [
      " 90%|████████▉ | 62/69 [00:09<00:02,  2.53it/s]"
     ]
    },
    {
     "name": "stdout",
     "output_type": "stream",
     "text": [
      "1 evicted\n",
      "2 evicted\n",
      "3 evicted\n",
      "4 evicted\n",
      "5 evicted\n",
      "6 evicted\n",
      "7 evicted\n",
      "8 evicted\n",
      "9 evicted\n",
      "10 evicted\n"
     ]
    },
    {
     "name": "stderr",
     "output_type": "stream",
     "text": [
      " 91%|█████████▏| 63/69 [00:09<00:02,  2.45it/s]"
     ]
    },
    {
     "name": "stdout",
     "output_type": "stream",
     "text": [
      "1 evicted\n",
      "2 evicted\n",
      "3 evicted\n",
      "4 evicted\n",
      "5 evicted\n",
      "6 evicted\n",
      "7 evicted\n",
      "8 evicted\n",
      "9 evicted\n",
      "10 evicted\n"
     ]
    },
    {
     "name": "stderr",
     "output_type": "stream",
     "text": [
      " 93%|█████████▎| 64/69 [00:10<00:02,  2.36it/s]"
     ]
    },
    {
     "name": "stdout",
     "output_type": "stream",
     "text": [
      "1 evicted\n",
      "2 evicted\n",
      "3 evicted\n",
      "4 evicted\n",
      "5 evicted\n",
      "6 evicted\n",
      "7 evicted\n",
      "8 evicted\n",
      "9 evicted\n",
      "10 evicted\n"
     ]
    },
    {
     "name": "stderr",
     "output_type": "stream",
     "text": [
      " 94%|█████████▍| 65/69 [00:10<00:01,  2.30it/s]"
     ]
    },
    {
     "name": "stdout",
     "output_type": "stream",
     "text": [
      "1 evicted\n",
      "2 evicted\n",
      "3 evicted\n",
      "4 evicted\n",
      "5 evicted\n",
      "6 evicted\n",
      "7 evicted\n",
      "8 evicted\n",
      "9 evicted\n",
      "10 evicted\n",
      "11 evicted\n",
      "13 evicted\n",
      "16 evicted\n"
     ]
    },
    {
     "name": "stderr",
     "output_type": "stream",
     "text": [
      " 96%|█████████▌| 66/69 [00:11<00:01,  2.23it/s]"
     ]
    },
    {
     "name": "stdout",
     "output_type": "stream",
     "text": [
      "1 evicted\n",
      "2 evicted\n",
      "3 evicted\n",
      "4 evicted\n",
      "5 evicted\n",
      "6 evicted\n",
      "7 evicted\n",
      "8 evicted\n",
      "9 evicted\n",
      "10 evicted\n",
      "11 evicted\n",
      "13 evicted\n",
      "16 evicted\n"
     ]
    },
    {
     "name": "stderr",
     "output_type": "stream",
     "text": [
      " 97%|█████████▋| 67/69 [00:11<00:00,  2.17it/s]"
     ]
    },
    {
     "name": "stdout",
     "output_type": "stream",
     "text": [
      "1 evicted\n",
      "2 evicted\n",
      "3 evicted\n",
      "4 evicted\n",
      "5 evicted\n",
      "6 evicted\n",
      "7 evicted\n",
      "8 evicted\n",
      "9 evicted\n",
      "10 evicted\n",
      "11 evicted\n",
      "13 evicted\n",
      "16 evicted\n"
     ]
    },
    {
     "name": "stderr",
     "output_type": "stream",
     "text": [
      " 99%|█████████▊| 68/69 [00:11<00:00,  2.11it/s]"
     ]
    },
    {
     "name": "stdout",
     "output_type": "stream",
     "text": [
      "1 evicted\n",
      "2 evicted\n",
      "3 evicted\n",
      "4 evicted\n",
      "5 evicted\n",
      "6 evicted\n",
      "7 evicted\n",
      "8 evicted\n",
      "9 evicted\n",
      "10 evicted\n",
      "11 evicted\n",
      "13 evicted\n",
      "16 evicted\n"
     ]
    },
    {
     "name": "stderr",
     "output_type": "stream",
     "text": [
      "100%|██████████| 69/69 [00:12<00:00,  5.51it/s]"
     ]
    },
    {
     "name": "stdout",
     "output_type": "stream",
     "text": [
      "1 evicted\n",
      "2 evicted\n",
      "3 evicted\n",
      "4 evicted\n",
      "5 evicted\n",
      "6 evicted\n",
      "7 evicted\n",
      "8 evicted\n",
      "9 evicted\n",
      "10 evicted\n",
      "11 evicted\n",
      "13 evicted\n",
      "16 evicted\n"
     ]
    },
    {
     "name": "stderr",
     "output_type": "stream",
     "text": [
      "\n"
     ]
    }
   ],
   "source": [
    "for t in tqdm(range(1, 70)) :\n",
    "    x_t = algo.choose_action()\n",
    "    y_t = env.get_reward(t, x_t)\n",
    "    algo.update(x_t, y_t)"
   ]
  },
  {
   "cell_type": "code",
   "execution_count": 115,
   "metadata": {},
   "outputs": [
    {
     "name": "stdout",
     "output_type": "stream",
     "text": [
      "Tree image saved as dyadic_tree.png\n"
     ]
    }
   ],
   "source": [
    "algo.tree.visualize_tree()"
   ]
  },
  {
   "cell_type": "code",
   "execution_count": 98,
   "metadata": {},
   "outputs": [],
   "source": [
    "t1 = algo.tree.find_node(4, 1).mean_estimates\n",
    "t2 = algo.tree.find_node(4, 8).mean_estimates"
   ]
  },
  {
   "cell_type": "code",
   "execution_count": 36,
   "metadata": {},
   "outputs": [],
   "source": [
    "diff = [t2[i] - t1[i] for i in range(len(t2))]"
   ]
  },
  {
   "cell_type": "code",
   "execution_count": 39,
   "metadata": {},
   "outputs": [
    {
     "data": {
      "text/plain": [
       "array([ 0.        ,  0.        ,  0.        ,  0.        ,  0.        ,\n",
       "        0.        , -0.48967417, -0.48967417, -0.48967417,  6.5259602 ,\n",
       "        6.5259602 ,  6.5259602 ,  6.5259602 ,  6.5259602 ,  6.5259602 ,\n",
       "        6.5259602 ,  6.5259602 ,  6.07513669,  6.07513669,  5.487531  ,\n",
       "        5.487531  ,  5.487531  ,  5.487531  ,  5.487531  , 13.18860279,\n",
       "       13.18860279, 13.18860279, 13.18860279, 12.24837113, 12.24837113,\n",
       "       12.24837113, 12.24837113, 12.24837113, 19.7186933 , 19.7186933 ,\n",
       "       19.7186933 , 19.7186933 , 19.7186933 , 19.7186933 , 19.7186933 ,\n",
       "       18.84896255, 18.84896255, 18.84896255, 26.14358383, 26.14358383,\n",
       "       26.14358383, 26.14358383, 26.14358383, 26.14358383, 26.14358383,\n",
       "       26.14358383, 26.14358383, 26.14358383, 26.00456255, 26.00456255,\n",
       "       26.00456255, 26.00456255, 26.00456255, 26.00456255, 26.00456255,\n",
       "       26.00456255, 26.00456255, 25.17278775, 25.17278775, 25.17278775,\n",
       "       25.17278775, 25.17278775, 25.17278775, 25.17278775, 32.71562633,\n",
       "       32.71562633, 32.69433416, 32.69433416, 32.69433416, 32.69433416,\n",
       "       32.69433416, 32.69433416, 32.69433416, 32.58798556, 32.58798556,\n",
       "       32.58798556, 32.58798556, 32.58798556, 40.06513586, 40.06513586,\n",
       "       40.06513586, 40.06513586, 40.06513586, 39.62380403, 39.62380403,\n",
       "       39.62380403, 39.62380403, 39.62380403, 39.62380403, 46.74870084,\n",
       "       46.74870084, 46.74870084, 46.74870084, 46.74870084, 46.74870084,\n",
       "       46.74870084, 46.32672181, 46.32672181, 46.32672181, 54.02504213,\n",
       "       54.02504213, 53.58348594, 53.35082169])"
      ]
     },
     "execution_count": 39,
     "metadata": {},
     "output_type": "execute_result"
    }
   ],
   "source": [
    "np.cumsum(diff)"
   ]
  },
  {
   "cell_type": "code",
   "execution_count": 280,
   "metadata": {},
   "outputs": [
    {
     "name": "stdout",
     "output_type": "stream",
     "text": [
      "Tree image saved as dyadic_tree.png\n"
     ]
    }
   ],
   "source": [
    "algo.tree.visualize_tree()"
   ]
  },
  {
   "cell_type": "code",
   "execution_count": 151,
   "metadata": {},
   "outputs": [
    {
     "name": "stdout",
     "output_type": "stream",
     "text": [
      "hello 262144\n"
     ]
    },
    {
     "data": {
      "text/plain": [
       "{6}"
      ]
     },
     "execution_count": 151,
     "metadata": {},
     "output_type": "execute_result"
    }
   ],
   "source": [
    "algo = MBDE(100)\n",
    "algo.initialize_episode()\n",
    "algo.initialize_block()\n",
    "algo.get_mask()\n",
    "algo.t = 1400\n",
    "algo.get_active_depths()"
   ]
  },
  {
   "cell_type": "code",
   "execution_count": 37,
   "metadata": {},
   "outputs": [
    {
     "data": {
      "image/png": "[encoded data removed]",
      "text/plain": [
       "<Figure size 1000x240 with 1 Axes>"
      ]
     },
     "metadata": {},
     "output_type": "display_data"
    }
   ],
   "source": [
    "algo.plot_active_mask()"
   ]
  },
  {
   "cell_type": "code",
   "execution_count": 40,
   "metadata": {},
   "outputs": [
    {
     "name": "stdout",
     "output_type": "stream",
     "text": [
      "0.0 1.0\n",
      "Node(1, 1, False) contains\n",
      "0.0 0.5\n",
      "Node(2, 1, False) contains\n",
      "0.0 0.25\n",
      "Node(3, 1, False) contains\n",
      "0.0 0.125\n",
      "0.125 0.25\n",
      "Node(4, 2, True) contains\n",
      "coucou\n",
      "0.125\n",
      "0.25 0.5\n",
      "0.25 0.375\n",
      "0.375 0.5\n",
      "0.5 1.0\n",
      "0.5 0.75\n",
      "0.5 0.625\n",
      "0.625 0.75\n",
      "0.75 1.0\n",
      "0.75 0.875\n",
      "0.875 1.0\n",
      "Tree image saved as dyadic_tree.png\n"
     ]
    }
   ],
   "source": [
    "tree = Tree(4)\n",
    "tree.update_proba()\n",
    "tree.update_estimates(0.22, 0.60)\n",
    "tree.visualize_tree()\n"
   ]
  },
  {
   "cell_type": "code",
   "execution_count": 50,
   "metadata": {},
   "outputs": [
    {
     "name": "stdout",
     "output_type": "stream",
     "text": [
      "d =  4\n",
      "active nodes =  [Node(4, 1, True), Node(4, 2, True), Node(4, 3, True), Node(4, 4, True), Node(4, 5, True), Node(4, 6, True), Node(4, 7, True), Node(4, 8, True)]\n"
     ]
    }
   ],
   "source": [
    "for d, active_nodes in tree.active_depths.items():\n",
    "    print('d = ', d)\n",
    "    print('active nodes = ', active_nodes)"
   ]
  }
 ],
 "metadata": {
  "kernelspec": {
   "display_name": "Python 3",
   "language": "python",
   "name": "python3"
  },
  "language_info": {
   "codemirror_mode": {
    "name": "ipython",
    "version": 3
   },
   "file_extension": ".py",
   "mimetype": "text/x-python",
   "name": "python",
   "nbconvert_exporter": "python",
   "pygments_lexer": "ipython3",
   "version": "3.10.4"
  },
  "orig_nbformat": 4,
  "vscode": {
   "interpreter": {
    "hash": "a42a53f72903cc04303089eaf20b408942b97710132b3b8167caf5cbcee87944"
   }
  }
 },
 "nbformat": 4,
 "nbformat_minor": 2
}
