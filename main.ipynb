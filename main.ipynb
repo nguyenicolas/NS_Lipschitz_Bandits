{
 "cells": [
  {
   "cell_type": "code",
   "execution_count": 1,
   "metadata": {},
   "outputs": [],
   "source": [
    "import numpy as np\n",
    "import matplotlib.pyplot as plt\n",
    "import random\n",
    "from graphviz import Digraph"
   ]
  },
  {
   "cell_type": "code",
   "execution_count": 53,
   "metadata": {},
   "outputs": [],
   "source": [
    "class Node:\n",
    "    def __init__(self, depth, index, parent=None) -> None:\n",
    "        self.depth = depth\n",
    "        self.index = index\n",
    "        self.parent = parent\n",
    "        self.left = None\n",
    "        self.right = None\n",
    "        self.active = True\n",
    "        self.mean_estimate = 0.0\n",
    "    \n",
    "    def subdivide(self):\n",
    "        self.left = Node(self.depth + 1, 2 * self.index - 1, parent=self)\n",
    "        self.right = Node(self.depth + 1, 2 * self.index, parent=self)\n",
    "\n",
    "    def evict(self):\n",
    "        self.active = False\n",
    "        self.left = None\n",
    "        self.right = None\n",
    "\n",
    "    def contains(self, x):\n",
    "        left = (self.index-1) / (2**(self.depth-1))\n",
    "        right = (self.index) / (2 ** (self.depth-1))\n",
    "        print(left, right)\n",
    "        return left <= x <= right\n",
    "\n",
    "    def __repr__(self) -> str:\n",
    "        return f\"Node({self.depth}, {self.index}, {self.active})\"\n",
    "\n",
    "class Tree:\n",
    "\n",
    "    def __init__(self, max_depth) -> None:\n",
    "        self.max_depth = max_depth\n",
    "        self.root = Node(1, 1)\n",
    "        \n",
    "        self.active_depths = {max_depth : list(np.arange(1, 2**max_depth))} ### A modifier le type\n",
    "\n",
    "        if max_depth is not None:\n",
    "            self.build_full_tree(node=self.root, max_depth=max_depth)\n",
    "\n",
    "    def build_full_tree(self, node, max_depth):\n",
    "        \"\"\" Build tree of size max_depth recursively with node as root\"\"\"\n",
    "        if node.depth >= max_depth:\n",
    "            return\n",
    "        node.subdivide()\n",
    "        self.build_full_tree(node.left, max_depth)\n",
    "        self.build_full_tree(node.right, max_depth)\n",
    "    \n",
    "    def find_node(self, depth, index):\n",
    "        node = self.root\n",
    "        for d in range(1, depth):\n",
    "            if node is None or node.active==False:\n",
    "                return None\n",
    "            bit = ((index - 1) >> (depth - d - 1)) & 1\n",
    "            node = node.right if bit else node.left\n",
    "        return node if node and node.depth == depth and node.index == index else None\n",
    "        \n",
    "    def evict(self, depth, index):\n",
    "        node = self.find_node(depth, index)\n",
    "        if node:\n",
    "            node.evict()\n",
    "    \n",
    "    def collect_active_nodes(self, depth):\n",
    "        def helper_collect_active_nodes(node, depth):\n",
    "        # base\n",
    "            if node is None or node.active == False:\n",
    "                return []\n",
    "            if node.depth == depth:\n",
    "                return [node]\n",
    "            return helper_collect_active_nodes(node.left, depth) + helper_collect_active_nodes(node.right, depth) \n",
    "    \n",
    "        return helper_collect_active_nodes(self.root, depth)\n",
    "    \n",
    "    def count_active_bins(self, depth):\n",
    "        return len(self.collect_active_nodes(depth))\n",
    "\n",
    "    def compute_proba(self, node):\n",
    "        proba = 1.0\n",
    "        current = node\n",
    "\n",
    "        while current.depth > min(self.active_depths):\n",
    "            parent = current.parent\n",
    "            if not parent :\n",
    "                break\n",
    "            # Count active children at that depth\n",
    "            active_children = [child for child in [parent.left, parent.right] if child and child.active]\n",
    "            if not active_children :\n",
    "                return 0.0\n",
    "            proba *= 1.0 / len(active_children)\n",
    "            current = parent\n",
    "        \n",
    "        # Initial proba at minimum depth\n",
    "        min_depth_nodes = [n for n in self.active_depths[min(self.active_depths)] if n.active]\n",
    "        if not min_depth_nodes:\n",
    "            return 0.0\n",
    "        proba *= 1.0 / len(min_depth_nodes)\n",
    "        return proba\n",
    "    \n",
    "            \n",
    "    def update_estimates(self, x_t, y_t):\n",
    "        def update_node(node):\n",
    "            if node is None or not node.active:\n",
    "                return        \n",
    "            if node.contains(x_t):\n",
    "                p = self.compute_proba(node)\n",
    "                if p > 0:\n",
    "                    node.mean_esimate = (y_t/p)\n",
    "            update_node(node.left)\n",
    "            update_node(node.right)\n",
    "        update_node(self.root)\n",
    "\n",
    "    def visualize_tree(self, filename=\"dyadic_tree\"):\n",
    "            dot = Digraph()\n",
    "\n",
    "            def add_nodes_edges(node):\n",
    "                if node is None:\n",
    "                    return\n",
    "                # Color node based on activity\n",
    "                color = \"green\" if node.active else \"red\"\n",
    "                label = f\"{node.depth}-{node.index}\"\n",
    "                dot.node(name=str(id(node)), label=label, style=\"filled\", fillcolor=color)\n",
    "\n",
    "                for child in [node.left, node.right]:\n",
    "                    if child:\n",
    "                        dot.edge(str(id(node)), str(id(child)))\n",
    "                        add_nodes_edges(child)\n",
    "\n",
    "            add_nodes_edges(self.root)\n",
    "            dot.render(filename, format=\"png\", cleanup=True)\n",
    "            print(f\"Tree image saved as {filename}.png\")"
   ]
  },
  {
   "cell_type": "code",
   "execution_count": 71,
   "metadata": {},
   "outputs": [
    {
     "ename": "TypeError",
     "evalue": "list expected at most 1 argument, got 2",
     "output_type": "error",
     "traceback": [
      "\u001b[0;31m---------------------------------------------------------------------------\u001b[0m",
      "\u001b[0;31mTypeError\u001b[0m                                 Traceback (most recent call last)",
      "Cell \u001b[0;32mIn[71], line 1\u001b[0m\n\u001b[0;32m----> 1\u001b[0m \u001b[39mlist\u001b[39;49m(np\u001b[39m.\u001b[39;49marange(\u001b[39m1\u001b[39;49m, \u001b[39m2\u001b[39;49m\u001b[39m*\u001b[39;49m\u001b[39m*\u001b[39;49m\u001b[39m5\u001b[39;49m \u001b[39m+\u001b[39;49m \u001b[39m1\u001b[39;49m), \u001b[39mint\u001b[39;49m)\n",
      "\u001b[0;31mTypeError\u001b[0m: list expected at most 1 argument, got 2"
     ]
    }
   ],
   "source": [
    "list(np.arange(1, 2**5 + 1), int)"
   ]
  },
  {
   "cell_type": "code",
   "execution_count": 66,
   "metadata": {},
   "outputs": [
    {
     "data": {
      "text/plain": [
       "32"
      ]
     },
     "execution_count": 66,
     "metadata": {},
     "output_type": "execute_result"
    }
   ],
   "source": [
    "2**5"
   ]
  },
  {
   "cell_type": "code",
   "execution_count": 54,
   "metadata": {},
   "outputs": [
    {
     "name": "stdout",
     "output_type": "stream",
     "text": [
      "0\n",
      "1\n",
      "0\n",
      "1\n",
      "0\n",
      "0\n",
      "1\n"
     ]
    }
   ],
   "source": [
    "tree = Tree(5)\n",
    "tree.find_node(5, 6)\n",
    "tree.collect_active_nodes(3)\n",
    "tree.count_active_bins(3)\n",
    "tree.evict(4, 2)"
   ]
  },
  {
   "cell_type": "code",
   "execution_count": 55,
   "metadata": {},
   "outputs": [
    {
     "name": "stdout",
     "output_type": "stream",
     "text": [
      "Tree image saved as dyadic_tree.png\n"
     ]
    }
   ],
   "source": [
    "tree.visualize_tree()"
   ]
  },
  {
   "cell_type": "code",
   "execution_count": 59,
   "metadata": {},
   "outputs": [
    {
     "name": "stdout",
     "output_type": "stream",
     "text": [
      "0\n",
      "1\n",
      "1\n",
      "0\n"
     ]
    },
    {
     "data": {
      "text/plain": [
       "Node(4, 4, True)"
      ]
     },
     "execution_count": 59,
     "metadata": {},
     "output_type": "execute_result"
    }
   ],
   "source": [
    "tree.find_node(5, 7).parent"
   ]
  },
  {
   "cell_type": "code",
   "execution_count": 56,
   "metadata": {},
   "outputs": [
    {
     "name": "stdout",
     "output_type": "stream",
     "text": [
      "0.0 1.0\n"
     ]
    },
    {
     "ename": "TypeError",
     "evalue": "'>' not supported between instances of 'NoneType' and 'int'",
     "output_type": "error",
     "traceback": [
      "\u001b[0;31m---------------------------------------------------------------------------\u001b[0m",
      "\u001b[0;31mTypeError\u001b[0m                                 Traceback (most recent call last)",
      "Cell \u001b[0;32mIn[56], line 1\u001b[0m\n\u001b[0;32m----> 1\u001b[0m tree\u001b[39m.\u001b[39;49mupdate_estimates(\u001b[39m0.1\u001b[39;49m, \u001b[39m0.65\u001b[39;49m)\n",
      "Cell \u001b[0;32mIn[53], line 90\u001b[0m, in \u001b[0;36mTree.update_estimates\u001b[0;34m(self, x_t, y_t)\u001b[0m\n\u001b[1;32m     88\u001b[0m     update_node(node\u001b[39m.\u001b[39mleft)\n\u001b[1;32m     89\u001b[0m     update_node(node\u001b[39m.\u001b[39mright)\n\u001b[0;32m---> 90\u001b[0m update_node(\u001b[39mself\u001b[39;49m\u001b[39m.\u001b[39;49mroot)\n",
      "Cell \u001b[0;32mIn[53], line 86\u001b[0m, in \u001b[0;36mTree.update_estimates.<locals>.update_node\u001b[0;34m(node)\u001b[0m\n\u001b[1;32m     84\u001b[0m \u001b[39mif\u001b[39;00m node\u001b[39m.\u001b[39mcontains(x_t):\n\u001b[1;32m     85\u001b[0m     p \u001b[39m=\u001b[39m \u001b[39mself\u001b[39m\u001b[39m.\u001b[39mcompute_proba(node)\n\u001b[0;32m---> 86\u001b[0m     \u001b[39mif\u001b[39;00m p \u001b[39m>\u001b[39;49m \u001b[39m0\u001b[39;49m:\n\u001b[1;32m     87\u001b[0m         node\u001b[39m.\u001b[39mmean_esimate \u001b[39m=\u001b[39m (y_t\u001b[39m/\u001b[39mp)\n\u001b[1;32m     88\u001b[0m update_node(node\u001b[39m.\u001b[39mleft)\n",
      "\u001b[0;31mTypeError\u001b[0m: '>' not supported between instances of 'NoneType' and 'int'"
     ]
    }
   ],
   "source": [
    "tree.update_estimates(0.1, 0.65)"
   ]
  },
  {
   "cell_type": "code",
   "execution_count": null,
   "metadata": {},
   "outputs": [],
   "source": []
  },
  {
   "cell_type": "code",
   "execution_count": null,
   "metadata": {},
   "outputs": [],
   "source": []
  },
  {
   "cell_type": "code",
   "execution_count": null,
   "metadata": {},
   "outputs": [],
   "source": [
    "def sample_replay_prob(m, τ_l_m):\n",
    "    # Schedule replays for all the block\n",
    "    Replays = np.zeros((m-1, 8**m - 1 ))\n",
    "    for s in range(τ_l_m + 1, τ_l_m + 8 ** m):\n",
    "        for d in range(m):\n",
    "            if s - τ_l_m % (8 ** d) == 0:\n",
    "                p_s_d = np.sqrt(8 ** d / (s - τ_l_m))\n",
    "                R_s_d = int(np.random.random() < p_s_d)\n",
    "                Replays[s, d] = R_s_d\n",
    "    return Replays\n",
    "\n",
    "def MDBE(T):\n",
    "    # Initialization\n",
    "    l = 1\n",
    "    t = 1\n",
    "    m = 1\n",
    "    \n",
    "    while t <= T:\n",
    "        # (★) Block handling\n",
    "        if t == 1 or t == τ_l_m + 8 ** m: # if ending of the block without significant shift\n",
    "            m += 1\n",
    "            B_MASTER = set(range(1, 1 + 8**m)) # Reset MASTER set\n",
    "            D_t = {m}\n",
    "            τ_l_m = t\n",
    "\n",
    "            # Initialize StoreActive dictionary\n",
    "            StoreActive = {}\n",
    "            StoreActive[m] = [τ_l_m, τ_l_m + 8**m]\n",
    "            for d in range(m) :\n",
    "                StoreActive[d] = []\n",
    "\n",
    "            B_t = {}\n",
    "            Replays = sample_replay_prob(m, τ_l_m)\n",
    "\n",
    "        # Check if there are replays that are beginning in this precise round t\n",
    "        for d in range(m) :\n",
    "            if Replays[t, d] == 1 :\n",
    "                D_t.add(d)\n",
    "                StoreActive[d] = [t, t + 8**d]\n",
    "                B_t[d] = set(range(1, 1 + 8**d))\n",
    "        \n",
    "        # Check if a replay ends\n",
    "        for d in D_t:\n",
    "            if StoreActive[d][1] == t :\n",
    "                D_t.discard(d)\n",
    "                B_t[d] = set()\n",
    "\n",
    "        # Hierarchical sampling\n",
    "        d_min = min(D_t)\n",
    "        B_parent = random.choice(B_t[d_min])\n",
    "\n",
    "        # faudrait creer une classe d'arbre...\n",
    "        \n",
    "\n",
    "\n",
    "\n",
    "\n",
    "        # Replay deactivation\n",
    "        for d in range(m):\n",
    "            if StoreActive.get((l, d), {}).get(t, None):\n",
    "                D[l].discard(d)\n",
    "                B_t[(l, d)] = set()\n",
    "\n",
    "        # Bin selection\n",
    "        d0 = min(D[l])\n",
    "        B_parent = random.choice(list(B_t[(l, d0)]))\n",
    "        xt = B_parent  # If no children\n",
    "\n",
    "        children = get_children(B_parent, d0, B_t)\n",
    "        if children:\n",
    "            xt = random.choice(children)\n",
    "            B_parent = xt\n",
    "\n",
    "        # Bin eviction\n",
    "        for d in D[l]:\n",
    "            for B in B_t[(l, d)]:\n",
    "                for d_ in [d_ for d_ in range(d + 1, m)]:\n",
    "                    for B_prime in B_t[(l, d_)]:\n",
    "                        if bin_condition(B_prime, B, StoreActive, l, d):\n",
    "                            B_t[(l, d_)] -= {B_prime}\n",
    "\n",
    "        # MASTER set update\n",
    "        B_MASTER[(l, m)] = B_MASTER[(l, m)].intersection(B_t.get((l, m), set()))\n",
    "        if not B_MASTER[(l, m)]:\n",
    "            τ[(l + 1, 0)] = t + 1\n",
    "            l += 1\n",
    "            t = τ[(l, 0)]\n",
    "            m = 0\n",
    "            continue\n",
    "\n",
    "        t += 1\n"
   ]
  },
  {
   "cell_type": "code",
   "execution_count": 15,
   "metadata": {},
   "outputs": [
    {
     "data": {
      "text/plain": [
       "np.float64(13.815510557964274)"
      ]
     },
     "execution_count": 15,
     "metadata": {},
     "output_type": "execute_result"
    }
   ],
   "source": [
    "np.log(np.power(10, 6))"
   ]
  },
  {
   "cell_type": "code",
   "execution_count": null,
   "metadata": {},
   "outputs": [],
   "source": []
  }
 ],
 "metadata": {
  "kernelspec": {
   "display_name": "Python 3",
   "language": "python",
   "name": "python3"
  },
  "language_info": {
   "codemirror_mode": {
    "name": "ipython",
    "version": 3
   },
   "file_extension": ".py",
   "mimetype": "text/x-python",
   "name": "python",
   "nbconvert_exporter": "python",
   "pygments_lexer": "ipython3",
   "version": "3.10.4"
  },
  "orig_nbformat": 4,
  "vscode": {
   "interpreter": {
    "hash": "a42a53f72903cc04303089eaf20b408942b97710132b3b8167caf5cbcee87944"
   }
  }
 },
 "nbformat": 4,
 "nbformat_minor": 2
}
