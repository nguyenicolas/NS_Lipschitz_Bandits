{
 "cells": [
  {
   "cell_type": "code",
   "execution_count": 166,
   "metadata": {},
   "outputs": [],
   "source": [
    "import numpy as np\n",
    "import matplotlib.pyplot as plt\n",
    "from graphviz import Digraph\n",
    "from itertools import permutations\n",
    "import random\n",
    "import math\n",
    "from tqdm.auto import tqdm\n",
    "import copy"
   ]
  },
  {
   "cell_type": "code",
   "execution_count": 167,
   "metadata": {},
   "outputs": [],
   "source": [
    "class Node:\n",
    "    def __init__(self, depth, index, parent=None) -> None:\n",
    "        self.depth = depth\n",
    "        self.index = index\n",
    "        self.parent = parent\n",
    "        self.left = None\n",
    "        self.right = None\n",
    "        self.active = False\n",
    "        self.mean_estimates = []\n",
    "        self.proba = 0.0\n",
    "        self.size = 1/(2**(self.depth-1))\n",
    "\n",
    "    def __eq__(self, other: object) -> bool:\n",
    "        return self.depth == other.depth and self.index == other.index\n",
    "    \n",
    "    def __hash__(self) -> int:\n",
    "        return hash((self.depth, self.index))\n",
    "    \n",
    "    def subdivide(self):\n",
    "        self.left = Node(self.depth + 1, 2 * self.index - 1, parent=self)\n",
    "        self.right = Node(self.depth + 1, 2 * self.index, parent=self)\n",
    "\n",
    "    def evict(self):\n",
    "        self.active = False\n",
    "        if self.left :\n",
    "            self.left.evict()\n",
    "        if self.right:\n",
    "            self.right.evict()\n",
    "\n",
    "    def contains(self, x):\n",
    "        left = (self.index-1) / (2**(self.depth-1))\n",
    "        right = (self.index) / (2 ** (self.depth-1))\n",
    "        return left <= x <= right\n",
    "    \n",
    "    def get_parent(self, target_depth):\n",
    "        \"\"\" \n",
    "        Enumerate the list of children of a given node\n",
    "        \"\"\"\n",
    "        if target_depth >= self.depth :\n",
    "            return None\n",
    "        current = self\n",
    "        while current and current.depth > target_depth:\n",
    "            current = current.parent\n",
    "        return current\n",
    "\n",
    "    def get_descendants_at_depth(self, target_depth):\n",
    "        if target_depth <= self.depth :\n",
    "            return []\n",
    "        result = []\n",
    "\n",
    "        def helper(node):\n",
    "            if node is None :\n",
    "                return\n",
    "            if node.depth == target_depth :\n",
    "                result.append(node)\n",
    "            elif node.depth < target_depth :\n",
    "                helper(node.left)\n",
    "                helper(node.right)\n",
    "        helper(self)\n",
    "        return result\n",
    "    \n",
    "    def get_active_children(self, target_depth):\n",
    "        if target_depth <= self.depth :\n",
    "            return []\n",
    "        \n",
    "        result = []\n",
    "\n",
    "        def dfs(node):\n",
    "            if node is None :\n",
    "                return\n",
    "            if node.depth == target_depth and node.active :\n",
    "                result.append(node)\n",
    "            elif node.depth < target_depth :\n",
    "                dfs(node.left)\n",
    "                dfs(node.right)\n",
    "                \n",
    "        dfs(self)\n",
    "        return result\n",
    "    \n",
    "    def sample(self):\n",
    "        \"\"\" Sample one action (i.e. number) in node \"\"\"\n",
    "        left = (self.index-1) / (2**(self.depth-1))\n",
    "        right = (self.index) / (2 ** (self.depth-1))\n",
    "        return random.uniform(left, right)\n",
    "\n",
    "\n",
    "    def __repr__(self) -> str:\n",
    "        return f\"({self.depth},{self.index})\""
   ]
  },
  {
   "cell_type": "code",
   "execution_count": 168,
   "metadata": {},
   "outputs": [],
   "source": [
    "class Tree:\n",
    "\n",
    "    def __init__(self, max_depth) -> None:\n",
    "        self.max_depth = max_depth\n",
    "        self.root = Node(1, 1)\n",
    "        \n",
    "        if max_depth is not None:\n",
    "            self.build_full_tree(node=self.root, max_depth=max_depth)\n",
    "\n",
    "        self.initialize_active_depth() \n",
    "\n",
    "    def build_full_tree(self, node, max_depth):\n",
    "        \"\"\" Build tree of size max_depth recursively with node as root\"\"\"\n",
    "        if node.depth >= max_depth:\n",
    "            return\n",
    "        node.subdivide()\n",
    "        self.build_full_tree(node.left, max_depth)\n",
    "        self.build_full_tree(node.right, max_depth)\n",
    "\n",
    "    def initialize_active_depth(self):\n",
    "        self.active_depths = {}\n",
    "        active_nodes = self.collect_active_nodes(self.max_depth)\n",
    "        self.active_depths[self.max_depth] = active_nodes\n",
    "        self.activate_depth(self.max_depth)\n",
    "        \n",
    "\n",
    "    def activate_depth(self, depth):\n",
    "        \"\"\" \n",
    "        Make depth active, i.e. activate all its nodes and add this depth to the set of active depths\n",
    "        Note that activating one node also actives all its children\n",
    "        \"\"\"\n",
    "        \n",
    "        # Activate nodes\n",
    "        def activate_at_depth(node):\n",
    "            if node is None :\n",
    "                return\n",
    "            if node.depth == depth :\n",
    "                node.active = True\n",
    "                #activate_children(node.left)\n",
    "                #activate_children(node.right)\n",
    "                \n",
    "            elif node.depth < depth :\n",
    "                activate_at_depth(node.left)\n",
    "                activate_at_depth(node.right)\n",
    "\n",
    "        activate_at_depth(self.root)\n",
    "        nodes = self.collect_active_nodes(depth)\n",
    "        self.active_depths[depth] = nodes\n",
    "        self.update_proba() # en vrai jpense a chaque fois qu'on active un depth faut re-update les pb\n",
    "    \n",
    "    def de_activate_depth(self, depth):\n",
    "        \"\"\" \n",
    "        Make depth not active, i.e. de-activate all its nodes and add this depth to the set of active depths\n",
    "        \"\"\"\n",
    "        \n",
    "        # Activate nodes\n",
    "        def de_activate_at_depth(node):\n",
    "            if node is None :\n",
    "                return\n",
    "            if node.depth == depth :\n",
    "                node.active = False\n",
    "                \n",
    "            elif node.depth < depth :\n",
    "                de_activate_at_depth(node.left)\n",
    "                de_activate_at_depth(node.right)\n",
    "\n",
    "        de_activate_at_depth(self.root)\n",
    "        del self.active_depths[depth]\n",
    "        self.update_proba() # en vrai jpense a chaque fois qu'on active un depth faut re-update les pb\n",
    "        \n",
    "\n",
    "    def find_node(self, depth, index):\n",
    "        node = self.root\n",
    "        for d in range(1, depth):\n",
    "            if node is None :\n",
    "                return None\n",
    "            bit = ((index - 1) >> (depth - d - 1)) & 1\n",
    "            node = node.right if bit else node.left\n",
    "        return node if node and node.depth == depth and node.index == index else None\n",
    "        \n",
    "    def collect_active_nodes(self, depth):\n",
    "        def helper_collect_active_nodes(node, depth):\n",
    "        # base\n",
    "            if node is None:\n",
    "                return []\n",
    "            if node.depth == depth and node.active :\n",
    "                return [node]\n",
    "            return helper_collect_active_nodes(node.left, depth) + helper_collect_active_nodes(node.right, depth) \n",
    "    \n",
    "        return helper_collect_active_nodes(self.root, depth)\n",
    "    \n",
    "    def update_proba(self):\n",
    "        \"\"\"\n",
    "        Update each node's probability according to the hierarchical sampling scheme.\n",
    "        Only active nodes at active depths can receive nonzero probabilities.\n",
    "        \"\"\"\n",
    "        # Reset all probabilities to 0\n",
    "        def reset_probs(node):\n",
    "            if node is None:\n",
    "                return\n",
    "            node.proba = 0.0\n",
    "            reset_probs(node.left)\n",
    "            reset_probs(node.right)\n",
    "\n",
    "        reset_probs(self.root)\n",
    "\n",
    "        if not self.active_depths:\n",
    "            return\n",
    "\n",
    "        active_depths = sorted(self.active_depths.keys())\n",
    "        min_depth = active_depths[0]\n",
    "        min_depth_nodes = [n for n in self.active_depths[min_depth] if n.active]\n",
    "\n",
    "        if not min_depth_nodes:\n",
    "            return\n",
    "\n",
    "        base_prob = 1.0 / len(min_depth_nodes)\n",
    "\n",
    "        # Recursively assign probability only to active children at active depths\n",
    "        def recurse(node, depth_idx, prob):\n",
    "            if depth_idx >= len(active_depths):\n",
    "                return\n",
    "\n",
    "            current_depth = active_depths[depth_idx]\n",
    "\n",
    "            if node.depth != current_depth or not node.active:\n",
    "                return\n",
    "\n",
    "            node.proba = prob\n",
    "\n",
    "            # Recurse to next active depth\n",
    "            if depth_idx + 1 >= len(active_depths):\n",
    "                return\n",
    "\n",
    "            next_depth = active_depths[depth_idx + 1]\n",
    "\n",
    "            # Get all active children of `node` at the next active depth\n",
    "            children_at_next = node.get_descendants_at_depth(next_depth)\n",
    "            active_children = [child for child in children_at_next if child.active]\n",
    "\n",
    "            if not active_children:\n",
    "                return\n",
    "\n",
    "            child_prob = prob / len(active_children)\n",
    "\n",
    "            for child in active_children:\n",
    "                recurse(child, depth_idx + 1, child_prob)\n",
    "\n",
    "        for node in min_depth_nodes:\n",
    "            recurse(node, 0, base_prob)\n",
    "\n",
    "        \n",
    "    def update_estimates(self, x_t, y_t):\n",
    "\n",
    "        def update_node(node):\n",
    "            if node is None:\n",
    "                return      \n",
    "            \n",
    "            if not node.contains(x_t) or not node.active:\n",
    "                node.mean_estimates.append(0.0)\n",
    "            \n",
    "            else :\n",
    "                p = node.proba\n",
    "                mean_estimate_t = (y_t/p) \n",
    "                node.mean_estimates.append(mean_estimate_t)\n",
    "            \n",
    "\n",
    "            update_node(node.left)\n",
    "            update_node(node.right)\n",
    "            \n",
    "        update_node(self.root)\n",
    "\n",
    "    def set_to_list(self, list_nodes):\n",
    "        for node in list_nodes :\n",
    "            current_node = self.find_node(node.depth, node.index)\n",
    "            current_node.__dict__.update(node.__dict__)\n",
    "\n",
    "    def visualize(self, filename=\"dyadic_tree\"):\n",
    "            \n",
    "            dot = Digraph()\n",
    "\n",
    "            def add_nodes_edges(node):\n",
    "                if node is None:\n",
    "                    return\n",
    "                # Color node based on activity\n",
    "                color = \"green\" if node.active else \"red\"\n",
    "                label = f\"p={np.round(node.proba, 3)}, {np.round(np.mean(node.mean_estimates), 3) if node.mean_estimates != [] else 0.0}\"\n",
    "                dot.node(name=str(id(node)), label=label, style=\"filled\", fillcolor=color)\n",
    "\n",
    "                for child in [node.left, node.right]:\n",
    "                    if child:\n",
    "                        dot.edge(str(id(node)), str(id(child)))\n",
    "                        add_nodes_edges(child)\n",
    "\n",
    "            add_nodes_edges(self.root)\n",
    "            dot.render(filename, format=\"png\", cleanup=True)\n",
    "            print(f\"Tree image saved as {filename}.png\")"
   ]
  },
  {
   "cell_type": "code",
   "execution_count": 169,
   "metadata": {},
   "outputs": [],
   "source": [
    "class MBDE :\n",
    "    def __init__(self, T) -> None:\n",
    "        self.T = T\n",
    "        self.t = 1\n",
    "        self.l = 0 # current episode\n",
    "\n",
    "        # Constants\n",
    "        self.c0 = 0.56 \n",
    "\n",
    "    def initialize_episode(self):\n",
    "        self.l+=1\n",
    "        print(f'Entering Episode {self.l}')\n",
    "        self.block = 0\n",
    "        self.m = 2 # bon ca fait pas trop sens de considerer qu'une seule bin, on perd des rounds inutilement\n",
    "\n",
    "    def initialize_block(self):\n",
    "        \n",
    "        self.m+=1\n",
    "        print(f'Entering block {self.m}')\n",
    "        self.ScheduleReplays()\n",
    "        #self.tree.active_depths = self.active_depth_set() en fait on initialize direct a m au 1er round\n",
    "        \n",
    "        self.starting_block = copy.deepcopy(self.t)\n",
    "        self.ending_block = self.starting_block + 8**self.m\n",
    "\n",
    "        self.tree = Tree(self.m)\n",
    "        self.d_t = {self.m}\n",
    "        self.tree.update_proba()\n",
    "\n",
    "        self.B_MASTER = copy.deepcopy(self.tree.active_depths[self.m])\n",
    "\n",
    "    def ScheduleReplays(self):\n",
    "        \"\"\" Schedule all replays for a given block of size 8^m, depths >= 2 \"\"\"\n",
    "        self.Replays = np.zeros((8**self.m, self.m - 2))  # depths from 2 to m-1 => m-2 columns\n",
    "\n",
    "        for s in range(8**self.m):  # 0-based indexing\n",
    "            for d in range(2, self.m):  # depth d ∈ [2, m-1]\n",
    "                if s % 8**d == 0:\n",
    "                    p_s_d = np.sqrt(8**d / (s + 1))  # s+1 because s is 0-indexed now\n",
    "                    R_s_d = int(np.random.random() < p_s_d)\n",
    "                    self.Replays[s, d - 2] = R_s_d  # d-2 maps depth 2 → column 0, etc.\n",
    "\n",
    "        self.get_mask()\n",
    "        self.visualize_replays()\n",
    "\n",
    "\n",
    "    def get_mask(self):\n",
    "        self.active_mask = np.zeros_like(self.Replays)\n",
    "\n",
    "        for d_index in reversed(range(self.m - 2)):  # corresponds to depths from 2 to m-1\n",
    "            d = d_index + 2\n",
    "            length = 8**d\n",
    "            for s in range(8**self.m):\n",
    "                if self.Replays[s, d_index] == 1:\n",
    "                    end = min(s + length, 8**self.m)\n",
    "                    for t in range(s, end):\n",
    "                        if not self.active_mask[t].any():  # only assign if no deeper depth active\n",
    "                            self.active_mask[t, d_index] = 1\n",
    "\n",
    "\n",
    "\n",
    "    def active_depth_set(self):\n",
    "        \"\"\" \n",
    "        gives the set of active depths at current round\n",
    "        \"\"\"\n",
    "        if self.t < 0 or self.t >= self.active_mask.shape[0]:\n",
    "            raise ValueError('Round s is out of bounds')\n",
    "        return {self.m}.union({d for d, active in enumerate(self.active_mask[self.t]) if active == 1})\n",
    "    \n",
    "    def check_if_replay(self):\n",
    "\n",
    "        # Check if new replay begins\n",
    "        old_set = set(self.tree.active_depths.keys())\n",
    "        new_set = self.active_depth_set()\n",
    "        new_depths = new_set - old_set\n",
    "        removed_depths = old_set - new_set\n",
    "\n",
    "        # la je fais dans le setting ou il n'y a que 1 seul replay à la fois\n",
    "        \n",
    "        if new_depths : # si on entre dans un replay\n",
    "            for d in new_depths:\n",
    "                print(f'We activate depth {d} at time {self.t}')\n",
    "                self.tree.activate_depth(d)\n",
    "            self.tree.activate_depth(self.m) # on active le depth le + profond\n",
    "\n",
    "                # Do something\n",
    "                # ...\n",
    "                # Je me rappelle plus si il faut reactiver toutes les bins ou juste celles à cette depth ?\n",
    "        \n",
    "        if removed_depths : # si on sort d'un replay\n",
    "            for d in removed_depths:\n",
    "                print(f'We remove depth {d} at time {self.t}')\n",
    "                self.tree.de_activate_depth(d)\n",
    "\n",
    "            # now cB_t(m) = B_MASTER\n",
    "            for node in self.B_MASTER:\n",
    "                self.tree.active_depths[self.m] = list(set(self.tree.active_depths[self.m]) & set(self.B_MASTER))\n",
    "                #self.tree.node.active = True\n",
    "                # Do something\n",
    "                # ...\n",
    "\n",
    "\n",
    "    def choose_action(self) :\n",
    "\n",
    "        self.check_if_replay()\n",
    "\n",
    "        min_depth = min(self.tree.active_depths)\n",
    "        candidates = self.tree.active_depths[min_depth]\n",
    "        probs = [node.proba for node in candidates]\n",
    "        current = random.choices(candidates, weights=probs, k=1)[0]\n",
    "\n",
    "        for depth in sorted(self.tree.active_depths) :\n",
    "            if depth <= current.depth :\n",
    "                continue\n",
    "\n",
    "            children = [\n",
    "                node for node in self.tree.active_depths[depth] \n",
    "                if node.active and node.parent == current\n",
    "                ] # bon la ptet pas optimal\n",
    "            \n",
    "            if not children :\n",
    "                break\n",
    "            current = random.choice(children)\n",
    "        x_t = current.sample()\n",
    "        \n",
    "        return x_t\n",
    "    \n",
    "\n",
    "    def update(self, x_t, y_t):\n",
    "        self.tree.update_estimates(x_t, y_t)\n",
    "        #if self.t >= 2 :\n",
    "        self.eviction_test()\n",
    "        self.tree.update_proba()\n",
    "        self.t+=1\n",
    "        self.B_MASTER = list(set(self.tree.active_depths[self.m]) & set(self.B_MASTER))\n",
    "        self.check()\n",
    "\n",
    "    def eviction_test(self):\n",
    "        flag = False\n",
    "        def treshhold(s1, s2, d):\n",
    "            return self.c0 * math.log(self.T) * math.sqrt( (s2 - s1)*(2**d) ) + (4 * (s2 - s1) /2**d)\n",
    "        \n",
    "        def eviction_criteria(B1, B2, d) :\n",
    "            \"\"\" Check if cumulative diff between B_1 and B_2 triggers positive test  \"\"\"\n",
    "            n = self.t - self.starting_block\n",
    "            diff = [B1.mean_estimates[i] - B2.mean_estimates[i] for i in range(n)]\n",
    "            #for s1 in range(n-1):\n",
    "            #    cumsum = 0\n",
    "            #    for s2 in range(s1+1, n):\n",
    "            #        cumsum+= diff[s2]\n",
    "            #        if cumsum > treshhold(s1, s2, d):\n",
    "            #            print('true')\n",
    "            #            return True\n",
    "\n",
    "            cumsum = 0\n",
    "            s1 = 1\n",
    "            for s2 in range(s1+1, n):\n",
    "                cumsum+= diff[s2]\n",
    "                if cumsum > treshhold(s1, s2, d):\n",
    "                    print('true')\n",
    "                    return True\n",
    "\n",
    "                    \n",
    "        for d, active_nodes_d in self.tree.active_depths.items() :\n",
    "            for B, B_prim in permutations(active_nodes_d, 2):\n",
    "                if eviction_criteria(B, B_prim, d): \n",
    "                    print(f'{B_prim.index} evicted')\n",
    "                    # then evict B\n",
    "                    B_prim.evict()\n",
    "                    flag = True\n",
    "                    continue\n",
    "        if flag :\n",
    "            for d in self.tree.active_depths :\n",
    "                active_nodes_d = self.tree.collect_active_nodes(d)\n",
    "                self.tree.active_depths[d] = active_nodes_d\n",
    "\n",
    "\n",
    "    def check(self):\n",
    "        \n",
    "        # If block ends because there is a shift\n",
    "        if len(self.B_MASTER) == 0:\n",
    "            print(f'Shift at {self.t}')\n",
    "            self.initialize_episode()\n",
    "            self.initialize_block()\n",
    "            \n",
    "        # If block ends naturally\n",
    "        if self.t == self.ending_block : # if block ends naturally\n",
    "            print(self.t)\n",
    "            self.initialize_block()\n",
    "\n",
    "    def visualize_replays(self):\n",
    "        \"\"\"\n",
    "        Visualizes the active mask with active intervals and markers at actual replay start times.\n",
    "        \"\"\"\n",
    "        m = self.active_mask.shape[1] + 2  # total number of depths including offset (depths 2 to m-1)\n",
    "        T = self.active_mask.shape[0]\n",
    "        \n",
    "        plt.figure(figsize=(12, (m - 2) * 0.6))\n",
    "        plt.imshow(self.active_mask.T, aspect='auto', cmap='YlOrBr', interpolation='nearest')\n",
    "        plt.ylabel(\"Depth\")\n",
    "        plt.xlabel(\"Time\")\n",
    "        plt.title(\"Active Intervals Over Time by Depth\")\n",
    "        plt.yticks(\n",
    "            ticks=range(m - 2),\n",
    "            labels=[f\"Depth {d}\" for d in range(2, m)]\n",
    "        )\n",
    "\n",
    "        # Add red markers exactly where replays are triggered (from self.Replays)\n",
    "        for d_index in range(m - 2):  # depth d = d_index + 2\n",
    "            for t in range(T):\n",
    "                if self.Replays[t, d_index] == 1:\n",
    "                    plt.plot(t, d_index, marker='o', color='red', markersize=4)\n",
    "\n",
    "        plt.tight_layout()\n",
    "        plt.show()\n"
   ]
  },
  {
   "cell_type": "code",
   "execution_count": 170,
   "metadata": {},
   "outputs": [],
   "source": [
    "class Environment :\n",
    "    def __init__(self, T, nb_shifts) -> None:\n",
    "        self.T = T\n",
    "        self.nb_shifts = nb_shifts\n",
    "\n",
    "    def mean_reward(self, t):\n",
    "        # Nave test, just for sanity check for now\n",
    "        def naive_function(x):\n",
    "            width = 0.3\n",
    "            center = 0.5\n",
    "            distance = abs(x - center)\n",
    "            if distance < width:\n",
    "                return 1 - distance / width\n",
    "            else:\n",
    "                return 0.0\n",
    "        return naive_function\n",
    "    \n",
    "    def get_reward(self, t, x):\n",
    "        return self.mean_reward(t)(x)"
   ]
  },
  {
   "cell_type": "code",
   "execution_count": 171,
   "metadata": {},
   "outputs": [],
   "source": [
    "class Simulator :\n",
    "    def __init__(self, algo, env, T) -> None:\n",
    "        self.algo = algo\n",
    "        self.env = env\n",
    "        self.T = T\n",
    "    \n",
    "    def run(self):\n",
    "        for t in tqdm(range(self.T)) :\n",
    "            x_t = self.algo.choose_action()\n",
    "            y_t = self.env.get_reward(t, x_t)\n",
    "            self.algo.update(x_t, y_t)"
   ]
  },
  {
   "cell_type": "code",
   "execution_count": 172,
   "metadata": {},
   "outputs": [
    {
     "name": "stdout",
     "output_type": "stream",
     "text": [
      "Entering Episode 1\n",
      "Entering block 3\n"
     ]
    },
    {
     "name": "stderr",
     "output_type": "stream",
     "text": [
      "/var/folders/f_/5d1sdz2957q4_tcvztqqz7180000gn/T/ipykernel_3517/601676632.py:214: UserWarning: Tight layout not applied. The bottom and top margins cannot be made large enough to accommodate all Axes decorations.\n",
      "  plt.tight_layout()\n"
     ]
    },
    {
     "data": {
      "image/png": "[encoded data removed]",
      "text/plain": [
       "<Figure size 1200x60 with 1 Axes>"
      ]
     },
     "metadata": {},
     "output_type": "display_data"
    }
   ],
   "source": [
    "T = 1000\n",
    "env = Environment(T, 3)\n",
    "algo = MBDE(T)\n",
    "\n",
    "algo.initialize_episode()\n",
    "algo.initialize_block()\n",
    "#algo.tree.activate_depth(2) # TODO: change\n",
    "#algo.tree.update_proba()\n",
    "#algo.tree.visualize_tree()"
   ]
  },
  {
   "cell_type": "code",
   "execution_count": 174,
   "metadata": {},
   "outputs": [
    {
     "name": "stdout",
     "output_type": "stream",
     "text": [
      "Tree image saved as dyadic_tree.png\n"
     ]
    }
   ],
   "source": [
    "algo.tree.visualize()"
   ]
  },
  {
   "cell_type": "code",
   "execution_count": 175,
   "metadata": {},
   "outputs": [
    {
     "name": "stderr",
     "output_type": "stream",
     "text": [
      "  0%|          | 0/1000 [00:00<?, ?it/s]"
     ]
    },
    {
     "name": "stdout",
     "output_type": "stream",
     "text": [
      "We activate depth 0 at time 1\n"
     ]
    },
    {
     "name": "stderr",
     "output_type": "stream",
     "text": [
      "\n"
     ]
    },
    {
     "ename": "IndexError",
     "evalue": "list index out of range",
     "output_type": "error",
     "traceback": [
      "\u001b[0;31m---------------------------------------------------------------------------\u001b[0m",
      "\u001b[0;31mIndexError\u001b[0m                                Traceback (most recent call last)",
      "Cell \u001b[0;32mIn[175], line 2\u001b[0m\n\u001b[1;32m      1\u001b[0m sim \u001b[39m=\u001b[39m Simulator(algo, env, T)\n\u001b[0;32m----> 2\u001b[0m sim\u001b[39m.\u001b[39;49mrun()\n",
      "Cell \u001b[0;32mIn[171], line 9\u001b[0m, in \u001b[0;36mSimulator.run\u001b[0;34m(self)\u001b[0m\n\u001b[1;32m      7\u001b[0m \u001b[39mdef\u001b[39;00m \u001b[39mrun\u001b[39m(\u001b[39mself\u001b[39m):\n\u001b[1;32m      8\u001b[0m     \u001b[39mfor\u001b[39;00m t \u001b[39min\u001b[39;00m tqdm(\u001b[39mrange\u001b[39m(\u001b[39mself\u001b[39m\u001b[39m.\u001b[39mT)) :\n\u001b[0;32m----> 9\u001b[0m         x_t \u001b[39m=\u001b[39m \u001b[39mself\u001b[39;49m\u001b[39m.\u001b[39;49malgo\u001b[39m.\u001b[39;49mchoose_action()\n\u001b[1;32m     10\u001b[0m         y_t \u001b[39m=\u001b[39m \u001b[39mself\u001b[39m\u001b[39m.\u001b[39menv\u001b[39m.\u001b[39mget_reward(t, x_t)\n\u001b[1;32m     11\u001b[0m         \u001b[39mself\u001b[39m\u001b[39m.\u001b[39malgo\u001b[39m.\u001b[39mupdate(x_t, y_t)\n",
      "Cell \u001b[0;32mIn[169], line 110\u001b[0m, in \u001b[0;36mMBDE.choose_action\u001b[0;34m(self)\u001b[0m\n\u001b[1;32m    108\u001b[0m candidates \u001b[39m=\u001b[39m \u001b[39mself\u001b[39m\u001b[39m.\u001b[39mtree\u001b[39m.\u001b[39mactive_depths[min_depth]\n\u001b[1;32m    109\u001b[0m probs \u001b[39m=\u001b[39m [node\u001b[39m.\u001b[39mproba \u001b[39mfor\u001b[39;00m node \u001b[39min\u001b[39;00m candidates]\n\u001b[0;32m--> 110\u001b[0m current \u001b[39m=\u001b[39m random\u001b[39m.\u001b[39;49mchoices(candidates, weights\u001b[39m=\u001b[39;49mprobs, k\u001b[39m=\u001b[39;49m\u001b[39m1\u001b[39;49m)[\u001b[39m0\u001b[39m]\n\u001b[1;32m    112\u001b[0m \u001b[39mfor\u001b[39;00m depth \u001b[39min\u001b[39;00m \u001b[39msorted\u001b[39m(\u001b[39mself\u001b[39m\u001b[39m.\u001b[39mtree\u001b[39m.\u001b[39mactive_depths) :\n\u001b[1;32m    113\u001b[0m     \u001b[39mif\u001b[39;00m depth \u001b[39m<\u001b[39m\u001b[39m=\u001b[39m current\u001b[39m.\u001b[39mdepth :\n",
      "File \u001b[0;32m~/.pyenv/versions/3.10.4/lib/python3.10/random.py:533\u001b[0m, in \u001b[0;36mRandom.choices\u001b[0;34m(self, population, weights, cum_weights, k)\u001b[0m\n\u001b[1;32m    531\u001b[0m \u001b[39mif\u001b[39;00m \u001b[39mlen\u001b[39m(cum_weights) \u001b[39m!=\u001b[39m n:\n\u001b[1;32m    532\u001b[0m     \u001b[39mraise\u001b[39;00m \u001b[39mValueError\u001b[39;00m(\u001b[39m'\u001b[39m\u001b[39mThe number of weights does not match the population\u001b[39m\u001b[39m'\u001b[39m)\n\u001b[0;32m--> 533\u001b[0m total \u001b[39m=\u001b[39m cum_weights[\u001b[39m-\u001b[39;49m\u001b[39m1\u001b[39;49m] \u001b[39m+\u001b[39m \u001b[39m0.0\u001b[39m   \u001b[39m# convert to float\u001b[39;00m\n\u001b[1;32m    534\u001b[0m \u001b[39mif\u001b[39;00m total \u001b[39m<\u001b[39m\u001b[39m=\u001b[39m \u001b[39m0.0\u001b[39m:\n\u001b[1;32m    535\u001b[0m     \u001b[39mraise\u001b[39;00m \u001b[39mValueError\u001b[39;00m(\u001b[39m'\u001b[39m\u001b[39mTotal of weights must be greater than zero\u001b[39m\u001b[39m'\u001b[39m)\n",
      "\u001b[0;31mIndexError\u001b[0m: list index out of range"
     ]
    }
   ],
   "source": [
    "sim = Simulator(algo, env, T)\n",
    "sim.run()"
   ]
  },
  {
   "cell_type": "code",
   "execution_count": 176,
   "metadata": {},
   "outputs": [
    {
     "data": {
      "text/plain": [
       "{3: [(3,1), (3,2), (3,3), (3,4)], 0: []}"
      ]
     },
     "execution_count": 176,
     "metadata": {},
     "output_type": "execute_result"
    }
   ],
   "source": [
    "sim.algo.tree.active_depths"
   ]
  },
  {
   "cell_type": "code",
   "execution_count": null,
   "metadata": {},
   "outputs": [],
   "source": []
  },
  {
   "cell_type": "code",
   "execution_count": 71,
   "metadata": {},
   "outputs": [
    {
     "name": "stdout",
     "output_type": "stream",
     "text": [
      "Tree image saved as dyadic_tree.png\n"
     ]
    }
   ],
   "source": [
    "sim.algo.tree.visualize()"
   ]
  },
  {
   "cell_type": "code",
   "execution_count": 28,
   "metadata": {},
   "outputs": [
    {
     "data": {
      "text/plain": [
       "33"
      ]
     },
     "execution_count": 28,
     "metadata": {},
     "output_type": "execute_result"
    }
   ],
   "source": [
    "len(sim.algo.tree.find_node(2, 1).mean_estimates)"
   ]
  },
  {
   "cell_type": "code",
   "execution_count": null,
   "metadata": {},
   "outputs": [],
   "source": [
    "[sim.algo.tree.find_node(2, 1).mean_estimates[i] - sim.algo.tree.find_node(2, 2).mean_estimates[i] for i in range(n)]"
   ]
  },
  {
   "cell_type": "code",
   "execution_count": 61,
   "metadata": {},
   "outputs": [
    {
     "data": {
      "text/plain": [
       "[0.0,\n",
       " 0.0,\n",
       " 0.0,\n",
       " 0.0,\n",
       " 0.0,\n",
       " 0.0,\n",
       " 0.0,\n",
       " 0.0,\n",
       " 0.0,\n",
       " 0.0,\n",
       " 0.0,\n",
       " 0.0,\n",
       " 0.0,\n",
       " 0.0,\n",
       " 0.0,\n",
       " 0.0,\n",
       " 0.0,\n",
       " 0.0,\n",
       " 0.0,\n",
       " 0.0,\n",
       " 0.0,\n",
       " 0.0,\n",
       " 0.0,\n",
       " 0.0,\n",
       " 0.0]"
      ]
     },
     "execution_count": 61,
     "metadata": {},
     "output_type": "execute_result"
    }
   ],
   "source": [
    "sim.algo.tree.find_node(2, 2).mean_estimates"
   ]
  },
  {
   "cell_type": "code",
   "execution_count": null,
   "metadata": {},
   "outputs": [],
   "source": []
  },
  {
   "cell_type": "code",
   "execution_count": null,
   "metadata": {},
   "outputs": [],
   "source": []
  },
  {
   "cell_type": "code",
   "execution_count": null,
   "metadata": {},
   "outputs": [],
   "source": []
  },
  {
   "cell_type": "code",
   "execution_count": 36,
   "metadata": {},
   "outputs": [
    {
     "name": "stdout",
     "output_type": "stream",
     "text": [
      "Tree image saved as dyadic_tree.png\n"
     ]
    }
   ],
   "source": [
    "algo.tree.find_node(2, 1).evict()\n",
    "for d in algo.tree.active_depths :\n",
    "    active_nodes_d = algo.tree.collect_active_nodes(d)\n",
    "    algo.tree.active_depths[d] = active_nodes_d\n",
    "\n",
    "algo.tree.update_proba()\n",
    "algo.tree.visualize_tree()"
   ]
  },
  {
   "cell_type": "code",
   "execution_count": 38,
   "metadata": {},
   "outputs": [
    {
     "data": {
      "text/plain": [
       "[(5,15), (5,11), (5,14), (5,13), (5,10), (5,16), (5,9), (5,12)]"
      ]
     },
     "execution_count": 38,
     "metadata": {},
     "output_type": "execute_result"
    }
   ],
   "source": [
    "list(set(algo.tree.active_depths[algo.m]) & set(algo.B_MASTER))"
   ]
  },
  {
   "cell_type": "code",
   "execution_count": 37,
   "metadata": {},
   "outputs": [
    {
     "name": "stdout",
     "output_type": "stream",
     "text": [
      "comon\n",
      "comon\n",
      "comon\n",
      "comon\n",
      "comon\n",
      "comon\n",
      "comon\n",
      "comon\n"
     ]
    }
   ],
   "source": [
    "for element in list(set(algo.B_MASTER)) :\n",
    "    if element in list(set(algo.tree.active_depths[algo.m])) :\n",
    "        print('comon')"
   ]
  },
  {
   "cell_type": "code",
   "execution_count": 22,
   "metadata": {},
   "outputs": [
    {
     "data": {
      "text/plain": [
       "[(5,4),\n",
       " (5,15),\n",
       " (5,7),\n",
       " (5,14),\n",
       " (5,9),\n",
       " (5,11),\n",
       " (5,8),\n",
       " (5,2),\n",
       " (5,5),\n",
       " (5,16),\n",
       " (5,12),\n",
       " (5,3),\n",
       " (5,10),\n",
       " (5,1),\n",
       " (5,13),\n",
       " (5,6)]"
      ]
     },
     "execution_count": 22,
     "metadata": {},
     "output_type": "execute_result"
    }
   ],
   "source": [
    "list(set(algo.B_MASTER))"
   ]
  },
  {
   "attachments": {},
   "cell_type": "markdown",
   "metadata": {},
   "source": [
    "L'intersecton a un bug, je capte pas"
   ]
  },
  {
   "cell_type": "code",
   "execution_count": 45,
   "metadata": {},
   "outputs": [
    {
     "data": {
      "text/plain": [
       "[]"
      ]
     },
     "execution_count": 45,
     "metadata": {},
     "output_type": "execute_result"
    }
   ],
   "source": []
  },
  {
   "cell_type": "code",
   "execution_count": 35,
   "metadata": {},
   "outputs": [
    {
     "data": {
      "text/plain": [
       "{(5,10), (5,11), (5,12), (5,13), (5,14), (5,15), (5,16), (5,9)}"
      ]
     },
     "execution_count": 35,
     "metadata": {},
     "output_type": "execute_result"
    }
   ],
   "source": [
    "set(algo.tree.active_depths[algo.m])"
   ]
  },
  {
   "cell_type": "code",
   "execution_count": 36,
   "metadata": {},
   "outputs": [
    {
     "data": {
      "text/plain": [
       "set()"
      ]
     },
     "execution_count": 36,
     "metadata": {},
     "output_type": "execute_result"
    }
   ],
   "source": [
    "set.intersection(set(algo.B_MASTER) , set(algo.tree.active_depths[algo.m]))"
   ]
  },
  {
   "cell_type": "code",
   "execution_count": 23,
   "metadata": {},
   "outputs": [],
   "source": [
    "algo.B_MASTER = list(set(algo.tree.active_depths[algo.m]) & set(algo.B_MASTER))"
   ]
  },
  {
   "cell_type": "code",
   "execution_count": 24,
   "metadata": {},
   "outputs": [
    {
     "data": {
      "text/plain": [
       "[]"
      ]
     },
     "execution_count": 24,
     "metadata": {},
     "output_type": "execute_result"
    }
   ],
   "source": [
    "algo.B_MASTER "
   ]
  },
  {
   "cell_type": "code",
   "execution_count": 8,
   "metadata": {},
   "outputs": [],
   "source": [
    "algo.tree.set_to_list(algo.B_MASTER)\n",
    "algo.tree.update_proba()"
   ]
  },
  {
   "cell_type": "code",
   "execution_count": 9,
   "metadata": {},
   "outputs": [
    {
     "name": "stdout",
     "output_type": "stream",
     "text": [
      "Tree image saved as dyadic_tree.png\n"
     ]
    }
   ],
   "source": [
    "algo.tree.visualize_tree()"
   ]
  },
  {
   "cell_type": "code",
   "execution_count": 50,
   "metadata": {},
   "outputs": [
    {
     "name": "stdout",
     "output_type": "stream",
     "text": [
      "True\n",
      "True\n",
      "True\n",
      "True\n",
      "True\n",
      "True\n",
      "True\n",
      "True\n",
      "True\n",
      "True\n",
      "True\n",
      "True\n",
      "True\n",
      "True\n",
      "True\n",
      "True\n"
     ]
    }
   ],
   "source": [
    "for node in algo.B_MASTER:\n",
    "    print(node.active)"
   ]
  },
  {
   "cell_type": "code",
   "execution_count": 17,
   "metadata": {},
   "outputs": [
    {
     "ename": "AttributeError",
     "evalue": "'MBDE' object has no attribute 'B_MASTER'",
     "output_type": "error",
     "traceback": [
      "\u001b[0;31m---------------------------------------------------------------------------\u001b[0m",
      "\u001b[0;31mAttributeError\u001b[0m                            Traceback (most recent call last)",
      "Cell \u001b[0;32mIn[17], line 1\u001b[0m\n\u001b[0;32m----> 1\u001b[0m \u001b[39mfor\u001b[39;00m node \u001b[39min\u001b[39;00m algo\u001b[39m.\u001b[39;49mB_MASTER :\n\u001b[1;32m      2\u001b[0m     \u001b[39mprint\u001b[39m(node\u001b[39m.\u001b[39mactive)\n",
      "\u001b[0;31mAttributeError\u001b[0m: 'MBDE' object has no attribute 'B_MASTER'"
     ]
    }
   ],
   "source": [
    "for node in algo.B_MASTER :\n",
    "    print(node.active)"
   ]
  },
  {
   "cell_type": "code",
   "execution_count": 35,
   "metadata": {},
   "outputs": [
    {
     "name": "stdout",
     "output_type": "stream",
     "text": [
      "False\n",
      "False\n",
      "False\n",
      "False\n",
      "True\n",
      "True\n",
      "True\n",
      "True\n",
      "True\n",
      "True\n",
      "True\n",
      "True\n",
      "True\n",
      "True\n",
      "True\n",
      "True\n"
     ]
    }
   ],
   "source": [
    "for node in algo.B_MASTER :\n",
    "    print(node.active)"
   ]
  },
  {
   "cell_type": "code",
   "execution_count": 30,
   "metadata": {},
   "outputs": [
    {
     "name": "stdout",
     "output_type": "stream",
     "text": [
      "Tree image saved as dyadic_tree.png\n"
     ]
    }
   ],
   "source": [
    "algo.tree.set_to_list(algo.B_MASTER)\n",
    "algo.tree.visualize_tree()\n"
   ]
  },
  {
   "cell_type": "code",
   "execution_count": 31,
   "metadata": {},
   "outputs": [],
   "source": [
    "for node in algo.B_MASTER :\n",
    "    #current_node.__dict__.update(node.__dict__)\n",
    "    algo.tree.find_node(node.depth, node.index).active = node.active"
   ]
  },
  {
   "cell_type": "code",
   "execution_count": 32,
   "metadata": {},
   "outputs": [
    {
     "data": {
      "text/plain": [
       "False"
      ]
     },
     "execution_count": 32,
     "metadata": {},
     "output_type": "execute_result"
    }
   ],
   "source": [
    "algo.tree.find_node(5, 1).active"
   ]
  },
  {
   "cell_type": "code",
   "execution_count": 14,
   "metadata": {},
   "outputs": [
    {
     "data": {
      "text/plain": [
       "{'depth': 5,\n",
       " 'index': 1,\n",
       " 'parent': (4,1),\n",
       " 'left': None,\n",
       " 'right': None,\n",
       " 'active': False,\n",
       " 'mean_estimates': [],\n",
       " 'proba': 0.0,\n",
       " 'size': 0.0625}"
      ]
     },
     "execution_count": 14,
     "metadata": {},
     "output_type": "execute_result"
    }
   ],
   "source": [
    "algo.tree.find_node(5, 1).__dict__"
   ]
  },
  {
   "cell_type": "code",
   "execution_count": 80,
   "metadata": {},
   "outputs": [],
   "source": [
    "algo.tree.active_depths[algo.m] = algo.B_MASTER"
   ]
  },
  {
   "cell_type": "code",
   "execution_count": 81,
   "metadata": {},
   "outputs": [
    {
     "name": "stdout",
     "output_type": "stream",
     "text": [
      "Tree image saved as dyadic_tree.png\n"
     ]
    }
   ],
   "source": [
    "algo.tree.visualize_tree()"
   ]
  },
  {
   "cell_type": "markdown",
   "metadata": {},
   "source": []
  },
  {
   "cell_type": "code",
   "execution_count": 38,
   "metadata": {},
   "outputs": [],
   "source": [
    "t1 = algo.tree.collect_active_nodes(5)"
   ]
  },
  {
   "cell_type": "code",
   "execution_count": 39,
   "metadata": {},
   "outputs": [],
   "source": [
    "t2 = [algo.tree.find_node(5, 2),algo.tree.find_node(5, 5)]"
   ]
  },
  {
   "cell_type": "code",
   "execution_count": 41,
   "metadata": {},
   "outputs": [
    {
     "data": {
      "text/plain": [
       "[(5,5),\n",
       " (5,6),\n",
       " (5,7),\n",
       " (5,8),\n",
       " (5,9),\n",
       " (5,10),\n",
       " (5,11),\n",
       " (5,12),\n",
       " (5,13),\n",
       " (5,14),\n",
       " (5,15),\n",
       " (5,16)]"
      ]
     },
     "execution_count": 41,
     "metadata": {},
     "output_type": "execute_result"
    }
   ],
   "source": [
    "t1"
   ]
  },
  {
   "cell_type": "code",
   "execution_count": 47,
   "metadata": {},
   "outputs": [
    {
     "name": "stdout",
     "output_type": "stream",
     "text": [
      "0.0625\n",
      "0.0625\n",
      "0.0625\n",
      "0.0625\n",
      "0.0625\n",
      "0.0625\n",
      "0.0625\n",
      "0.0625\n",
      "0.0625\n",
      "0.0625\n",
      "0.0625\n",
      "0.0625\n"
     ]
    }
   ],
   "source": [
    "t3 = t1.copy()\n",
    "for node in t3 :\n",
    "    print(node.proba)"
   ]
  },
  {
   "cell_type": "code",
   "execution_count": 48,
   "metadata": {},
   "outputs": [
    {
     "data": {
      "text/plain": [
       "[(5,1),\n",
       " (5,2),\n",
       " (5,3),\n",
       " (5,4),\n",
       " (5,5),\n",
       " (5,6),\n",
       " (5,7),\n",
       " (5,8),\n",
       " (5,9),\n",
       " (5,10),\n",
       " (5,11),\n",
       " (5,12),\n",
       " (5,13),\n",
       " (5,14),\n",
       " (5,15),\n",
       " (5,16)]"
      ]
     },
     "execution_count": 48,
     "metadata": {},
     "output_type": "execute_result"
    }
   ],
   "source": [
    "algo.tree.active_depths[algo.m]"
   ]
  },
  {
   "cell_type": "code",
   "execution_count": 40,
   "metadata": {},
   "outputs": [
    {
     "data": {
      "text/plain": [
       "[(5,2), (5,5)]"
      ]
     },
     "execution_count": 40,
     "metadata": {},
     "output_type": "execute_result"
    }
   ],
   "source": [
    "t2"
   ]
  },
  {
   "cell_type": "code",
   "execution_count": 43,
   "metadata": {},
   "outputs": [
    {
     "data": {
      "text/plain": [
       "{(5,5)}"
      ]
     },
     "execution_count": 43,
     "metadata": {},
     "output_type": "execute_result"
    }
   ],
   "source": [
    "set(t1) & set(t2)"
   ]
  },
  {
   "cell_type": "code",
   "execution_count": 15,
   "metadata": {},
   "outputs": [
    {
     "data": {
      "image/png": "[encoded data removed]",
      "text/plain": [
       "<Figure size 1000x300 with 1 Axes>"
      ]
     },
     "metadata": {},
     "output_type": "display_data"
    }
   ],
   "source": [
    "algo.plot_active_mask()"
   ]
  },
  {
   "cell_type": "code",
   "execution_count": 8,
   "metadata": {},
   "outputs": [],
   "source": [
    "old_set = set(algo.tree.active_depths.keys())\n",
    "new_set = {2, 5}\n",
    "new_depths = new_set - old_set\n",
    "removed_depths = old_set - new_set\n"
   ]
  },
  {
   "cell_type": "code",
   "execution_count": 9,
   "metadata": {},
   "outputs": [
    {
     "name": "stdout",
     "output_type": "stream",
     "text": [
      "Tree image saved as dyadic_tree.png\n"
     ]
    }
   ],
   "source": [
    "if new_depths :\n",
    "    for d in new_depths:\n",
    "        algo.tree.activate_depth(d)\n",
    "        \n",
    "if removed_depths :\n",
    "    for d in removed_depths:\n",
    "        algo.tree.de_activate_depth(d)\n",
    "        # Do something\n",
    "        # ...\n",
    "\n",
    "algo.tree.visualize_tree()\n"
   ]
  },
  {
   "cell_type": "code",
   "execution_count": 10,
   "metadata": {},
   "outputs": [
    {
     "data": {
      "text/plain": [
       "False"
      ]
     },
     "execution_count": 10,
     "metadata": {},
     "output_type": "execute_result"
    }
   ],
   "source": [
    "algo.tree.find_node(3, 1).active"
   ]
  },
  {
   "cell_type": "code",
   "execution_count": null,
   "metadata": {},
   "outputs": [],
   "source": [
    "\n",
    "\n",
    "                # Do something\n",
    "                # ..."
   ]
  },
  {
   "cell_type": "code",
   "execution_count": 11,
   "metadata": {},
   "outputs": [
    {
     "name": "stderr",
     "output_type": "stream",
     "text": [
      "  0%|          | 0/600 [00:00<?, ?it/s]\n"
     ]
    },
    {
     "ename": "TypeError",
     "evalue": "unsupported operand type(s) for -: 'set' and 'dict'",
     "output_type": "error",
     "traceback": [
      "\u001b[0;31m---------------------------------------------------------------------------\u001b[0m",
      "\u001b[0;31mTypeError\u001b[0m                                 Traceback (most recent call last)",
      "Cell \u001b[0;32mIn[11], line 1\u001b[0m\n\u001b[0;32m----> 1\u001b[0m sim\u001b[39m.\u001b[39;49mrun()\n",
      "Cell \u001b[0;32mIn[6], line 9\u001b[0m, in \u001b[0;36mSimulator.run\u001b[0;34m(self)\u001b[0m\n\u001b[1;32m      7\u001b[0m \u001b[39mdef\u001b[39;00m \u001b[39mrun\u001b[39m(\u001b[39mself\u001b[39m):\n\u001b[1;32m      8\u001b[0m     \u001b[39mfor\u001b[39;00m t \u001b[39min\u001b[39;00m tqdm(\u001b[39mrange\u001b[39m(\u001b[39mself\u001b[39m\u001b[39m.\u001b[39mT)) :\n\u001b[0;32m----> 9\u001b[0m         x_t \u001b[39m=\u001b[39m \u001b[39mself\u001b[39;49m\u001b[39m.\u001b[39;49malgo\u001b[39m.\u001b[39;49mchoose_action()\n\u001b[1;32m     10\u001b[0m         y_t \u001b[39m=\u001b[39m \u001b[39mself\u001b[39m\u001b[39m.\u001b[39menv\u001b[39m.\u001b[39mget_reward(t, x_t)\n\u001b[1;32m     11\u001b[0m         \u001b[39mself\u001b[39m\u001b[39m.\u001b[39malgo\u001b[39m.\u001b[39mupdate(x_t, y_t)\n",
      "Cell \u001b[0;32mIn[4], line 93\u001b[0m, in \u001b[0;36mMBDE.choose_action\u001b[0;34m(self)\u001b[0m\n\u001b[1;32m     91\u001b[0m \u001b[39mdef\u001b[39;00m \u001b[39mchoose_action\u001b[39m(\u001b[39mself\u001b[39m) :\n\u001b[0;32m---> 93\u001b[0m     \u001b[39mself\u001b[39;49m\u001b[39m.\u001b[39;49mcheck_if_replay()\n\u001b[1;32m     95\u001b[0m     min_depth \u001b[39m=\u001b[39m \u001b[39mmin\u001b[39m(\u001b[39mself\u001b[39m\u001b[39m.\u001b[39mtree\u001b[39m.\u001b[39mactive_depths)\n\u001b[1;32m     96\u001b[0m     candidates \u001b[39m=\u001b[39m \u001b[39mself\u001b[39m\u001b[39m.\u001b[39mtree\u001b[39m.\u001b[39mactive_depths[min_depth]\n",
      "Cell \u001b[0;32mIn[4], line 70\u001b[0m, in \u001b[0;36mMBDE.check_if_replay\u001b[0;34m(self)\u001b[0m\n\u001b[1;32m     68\u001b[0m old_set \u001b[39m=\u001b[39m \u001b[39mself\u001b[39m\u001b[39m.\u001b[39mtree\u001b[39m.\u001b[39mactive_depths\n\u001b[1;32m     69\u001b[0m new_set \u001b[39m=\u001b[39m \u001b[39mself\u001b[39m\u001b[39m.\u001b[39mactive_depth_set()\n\u001b[0;32m---> 70\u001b[0m new_depths \u001b[39m=\u001b[39m new_set \u001b[39m-\u001b[39;49m old_set\n\u001b[1;32m     71\u001b[0m removed_depths \u001b[39m=\u001b[39m old_set \u001b[39m-\u001b[39m new_set\n\u001b[1;32m     73\u001b[0m \u001b[39mprint\u001b[39m(\u001b[39m'\u001b[39m\u001b[39mWe activate depths \u001b[39m\u001b[39m'\u001b[39m, new_depths)\n",
      "\u001b[0;31mTypeError\u001b[0m: unsupported operand type(s) for -: 'set' and 'dict'"
     ]
    }
   ],
   "source": [
    "sim = Simulator(algo, env, T)\n",
    "\n",
    "sim.run()\n"
   ]
  },
  {
   "cell_type": "code",
   "execution_count": 369,
   "metadata": {},
   "outputs": [
    {
     "data": {
      "image/png": "[encoded data removed]",
      "text/plain": [
       "<Figure size 1000x240 with 1 Axes>"
      ]
     },
     "metadata": {},
     "output_type": "display_data"
    }
   ],
   "source": [
    "sim.algo.get_active_depths()\n",
    "sim.algo.plot_active_mask()"
   ]
  },
  {
   "cell_type": "code",
   "execution_count": 356,
   "metadata": {},
   "outputs": [
    {
     "name": "stdout",
     "output_type": "stream",
     "text": [
      "Tree image saved as dyadic_tree.png\n"
     ]
    }
   ],
   "source": [
    "sim.algo.tree.visualize_tree()"
   ]
  },
  {
   "cell_type": "code",
   "execution_count": 346,
   "metadata": {},
   "outputs": [
    {
     "data": {
      "text/plain": [
       "4673"
      ]
     },
     "execution_count": 346,
     "metadata": {},
     "output_type": "execute_result"
    }
   ],
   "source": [
    "algo.ending_block"
   ]
  },
  {
   "cell_type": "code",
   "execution_count": 347,
   "metadata": {},
   "outputs": [
    {
     "data": {
      "text/plain": [
       "600"
      ]
     },
     "execution_count": 347,
     "metadata": {},
     "output_type": "execute_result"
    }
   ],
   "source": [
    "algo.t"
   ]
  },
  {
   "cell_type": "code",
   "execution_count": 348,
   "metadata": {},
   "outputs": [
    {
     "name": "stdout",
     "output_type": "stream",
     "text": [
      "Tree image saved as dyadic_tree.png\n"
     ]
    }
   ],
   "source": [
    "algo.tree.visualize_tree()"
   ]
  },
  {
   "cell_type": "code",
   "execution_count": 320,
   "metadata": {},
   "outputs": [
    {
     "data": {
      "text/plain": [
       "150"
      ]
     },
     "execution_count": 320,
     "metadata": {},
     "output_type": "execute_result"
    }
   ],
   "source": [
    "algo.t"
   ]
  },
  {
   "cell_type": "code",
   "execution_count": 305,
   "metadata": {},
   "outputs": [
    {
     "name": "stdout",
     "output_type": "stream",
     "text": [
      "Tree image saved as dyadic_tree.png\n"
     ]
    }
   ],
   "source": [
    "algo.tree.visualize_tree()"
   ]
  },
  {
   "cell_type": "code",
   "execution_count": 153,
   "metadata": {},
   "outputs": [
    {
     "data": {
      "text/plain": [
       "32"
      ]
     },
     "execution_count": 153,
     "metadata": {},
     "output_type": "execute_result"
    }
   ],
   "source": [
    "2**5"
   ]
  },
  {
   "cell_type": "code",
   "execution_count": 115,
   "metadata": {},
   "outputs": [
    {
     "data": {
      "text/plain": [
       "499"
      ]
     },
     "execution_count": 115,
     "metadata": {},
     "output_type": "execute_result"
    }
   ],
   "source": [
    "len(algo.tree.find_node(7, 1).mean_estimates)"
   ]
  },
  {
   "cell_type": "code",
   "execution_count": 117,
   "metadata": {},
   "outputs": [
    {
     "data": {
      "text/plain": [
       "array([  0.        ,   0.        ,   0.        ,   0.        ,\n",
       "         0.        ,   0.        ,   0.        ,   0.        ,\n",
       "         0.        ,   0.        ,   0.        ,   0.        ,\n",
       "         0.        ,   0.        ,   0.        ,   0.        ,\n",
       "         0.        ,   0.        ,   0.        ,   0.        ,\n",
       "         0.        ,   0.        ,   0.        ,   0.        ,\n",
       "         0.        ,   0.        ,   0.        ,   0.        ,\n",
       "         0.        ,   0.        ,   0.        ,   0.        ,\n",
       "         0.        ,   0.        ,   0.        ,   0.        ,\n",
       "         0.        ,   0.        ,  61.41104316,  61.41104316,\n",
       "        61.41104316,  61.41104316,  61.41104316,  61.41104316,\n",
       "        61.41104316,  61.41104316,  61.41104316,  61.41104316,\n",
       "        61.41104316,  61.41104316,  61.41104316,  61.41104316,\n",
       "        61.41104316,  61.41104316,  61.41104316,  61.41104316,\n",
       "        61.41104316,  61.41104316,  61.41104316,  61.41104316,\n",
       "        61.41104316,  61.41104316,  61.41104316,  61.41104316,\n",
       "        61.41104316,  61.41104316,  61.41104316,  61.41104316,\n",
       "        61.41104316,  61.41104316,  61.41104316,  61.41104316,\n",
       "        61.41104316,  61.41104316,  61.41104316,  61.41104316,\n",
       "        61.41104316,  61.41104316,  61.41104316,  61.41104316,\n",
       "       121.57795916, 121.57795916, 121.57795916, 121.57795916,\n",
       "       121.57795916, 181.11532232, 181.11532232, 181.11532232,\n",
       "       181.11532232, 181.11532232, 181.11532232, 181.11532232,\n",
       "       181.11532232, 181.11532232, 181.11532232, 181.11532232,\n",
       "       181.11532232, 181.11532232, 181.11532232, 181.11532232,\n",
       "       181.11532232, 181.11532232, 181.11532232, 181.11532232,\n",
       "       181.11532232, 181.11532232, 181.11532232, 181.11532232,\n",
       "       181.11532232, 181.11532232, 181.11532232, 181.11532232,\n",
       "       181.11532232, 181.11532232, 181.11532232, 181.11532232,\n",
       "       181.11532232, 181.11532232, 181.11532232, 181.11532232,\n",
       "       181.11532232, 181.11532232, 181.11532232, 181.11532232,\n",
       "       181.11532232, 181.11532232, 181.11532232, 181.11532232,\n",
       "       181.11532232, 181.11532232, 181.11532232, 181.11532232,\n",
       "       181.11532232, 181.11532232, 181.11532232, 181.11532232,\n",
       "       181.11532232, 181.11532232, 181.11532232, 181.11532232,\n",
       "       181.11532232, 181.11532232, 181.11532232, 181.11532232,\n",
       "       181.11532232, 181.11532232, 181.11532232, 181.11532232,\n",
       "       181.11532232, 181.11532232, 181.11532232, 181.11532232,\n",
       "       181.11532232, 181.11532232, 181.11532232, 181.11532232,\n",
       "       181.11532232, 181.11532232, 181.11532232, 181.11532232,\n",
       "       181.11532232, 181.11532232, 181.11532232, 181.11532232,\n",
       "       181.11532232, 181.11532232, 181.11532232, 181.11532232,\n",
       "       181.11532232, 181.11532232, 181.11532232, 181.11532232,\n",
       "       181.11532232, 181.11532232, 181.11532232, 181.11532232,\n",
       "       181.11532232, 181.11532232, 181.11532232, 181.11532232,\n",
       "       181.11532232, 181.11532232, 181.11532232, 181.11532232,\n",
       "       181.11532232, 181.11532232, 181.11532232, 181.11532232,\n",
       "       181.11532232, 181.11532232, 181.11532232, 181.11532232,\n",
       "       181.11532232, 181.11532232, 181.11532232, 181.11532232,\n",
       "       181.11532232, 181.11532232, 181.11532232, 181.11532232,\n",
       "       181.11532232, 181.11532232, 181.11532232, 244.91831533,\n",
       "       244.91831533, 244.91831533, 244.91831533, 303.93009725,\n",
       "       303.93009725, 303.93009725, 303.93009725, 303.93009725,\n",
       "       303.93009725, 303.93009725, 303.93009725, 303.93009725,\n",
       "       303.93009725, 303.93009725, 303.93009725, 303.93009725,\n",
       "       303.93009725, 303.93009725, 303.93009725, 303.93009725,\n",
       "       303.93009725, 303.93009725, 303.93009725, 303.93009725,\n",
       "       303.93009725, 303.93009725, 303.93009725, 303.93009725,\n",
       "       303.93009725, 303.93009725, 303.93009725, 303.93009725,\n",
       "       303.93009725, 303.93009725, 303.93009725, 303.93009725,\n",
       "       303.93009725, 303.93009725, 303.93009725, 303.93009725,\n",
       "       303.93009725, 303.93009725, 303.93009725, 303.93009725,\n",
       "       303.93009725, 303.93009725, 303.93009725, 303.93009725,\n",
       "       303.93009725, 303.93009725, 303.93009725, 303.93009725,\n",
       "       303.93009725, 303.93009725, 303.93009725, 303.93009725,\n",
       "       303.93009725, 303.93009725, 303.93009725, 303.93009725,\n",
       "       303.93009725, 303.93009725, 303.93009725, 303.93009725,\n",
       "       303.93009725, 303.93009725, 303.93009725, 303.93009725,\n",
       "       303.93009725, 303.93009725, 303.93009725, 303.93009725,\n",
       "       303.93009725, 303.93009725, 303.93009725, 303.93009725,\n",
       "       303.93009725, 303.93009725, 303.93009725, 303.93009725,\n",
       "       303.93009725, 303.93009725, 303.93009725, 303.93009725,\n",
       "       303.93009725, 303.93009725, 303.93009725, 303.93009725,\n",
       "       303.93009725, 303.93009725, 303.93009725, 303.93009725,\n",
       "       303.93009725, 303.93009725, 303.93009725, 303.93009725,\n",
       "       303.93009725, 303.93009725, 303.93009725, 303.93009725,\n",
       "       303.93009725, 303.93009725, 303.93009725, 303.93009725,\n",
       "       303.93009725, 303.93009725, 303.93009725, 303.93009725,\n",
       "       303.93009725, 303.93009725, 303.93009725, 303.93009725,\n",
       "       303.93009725, 303.93009725, 303.93009725, 303.93009725,\n",
       "       303.93009725, 303.93009725, 303.93009725, 303.93009725,\n",
       "       303.93009725, 303.93009725, 303.93009725, 303.93009725,\n",
       "       303.93009725, 303.93009725, 303.93009725, 303.93009725,\n",
       "       303.93009725, 303.93009725, 303.93009725, 303.93009725,\n",
       "       303.93009725, 303.93009725, 303.93009725, 303.93009725,\n",
       "       303.93009725, 303.93009725, 303.93009725, 303.93009725,\n",
       "       303.93009725, 303.93009725, 303.93009725, 303.93009725,\n",
       "       303.93009725, 303.93009725, 303.93009725, 303.93009725,\n",
       "       303.93009725, 303.93009725, 303.93009725, 303.93009725,\n",
       "       303.93009725, 303.93009725, 303.93009725, 303.93009725,\n",
       "       303.93009725, 303.93009725, 303.93009725, 303.93009725,\n",
       "       303.93009725, 303.93009725, 303.93009725, 303.93009725,\n",
       "       303.93009725, 303.93009725, 303.93009725, 303.93009725,\n",
       "       303.93009725, 303.93009725, 303.93009725, 303.93009725,\n",
       "       303.93009725, 303.93009725, 303.93009725, 303.93009725,\n",
       "       303.93009725, 303.93009725, 303.93009725, 303.93009725,\n",
       "       303.93009725, 303.93009725, 303.93009725, 303.93009725,\n",
       "       303.93009725, 303.93009725, 303.93009725, 303.93009725,\n",
       "       303.93009725, 303.93009725, 303.93009725, 303.93009725,\n",
       "       303.93009725, 303.93009725, 303.93009725, 303.93009725])"
      ]
     },
     "execution_count": 117,
     "metadata": {},
     "output_type": "execute_result"
    }
   ],
   "source": [
    "diff = [algo.tree.find_node(7, 32).mean_estimates[i] - algo.tree.find_node(7, 1).mean_estimates[i] for i in range(400)]\n",
    "np.cumsum(diff)\n"
   ]
  },
  {
   "cell_type": "code",
   "execution_count": 121,
   "metadata": {},
   "outputs": [],
   "source": [
    "def treshhold(s1, s2, d):\n",
    "    return 1 * math.log(200) * math.sqrt( (s2 - s1)*(2**d) ) + (4 * (s2 - s1) /2**d)\n",
    "res_temp = []\n",
    "for s_2 in range(2, 5000):\n",
    "    res_temp.append(treshhold(1,s_2,7))"
   ]
  },
  {
   "cell_type": "code",
   "execution_count": 122,
   "metadata": {},
   "outputs": [
    {
     "data": {
      "text/plain": [
       "[<matplotlib.lines.Line2D at 0x14d405630>]"
      ]
     },
     "execution_count": 122,
     "metadata": {},
     "output_type": "execute_result"
    },
    {
     "data": {
      "image/png": "[encoded data removed]",
      "text/plain": [
       "<Figure size 640x480 with 1 Axes>"
      ]
     },
     "metadata": {},
     "output_type": "display_data"
    }
   ],
   "source": [
    "plt.plot(res_temp)"
   ]
  },
  {
   "cell_type": "code",
   "execution_count": 280,
   "metadata": {},
   "outputs": [
    {
     "name": "stdout",
     "output_type": "stream",
     "text": [
      "Tree image saved as dyadic_tree.png\n"
     ]
    }
   ],
   "source": [
    "algo.tree.visualize_tree()"
   ]
  },
  {
   "cell_type": "code",
   "execution_count": 151,
   "metadata": {},
   "outputs": [
    {
     "name": "stdout",
     "output_type": "stream",
     "text": [
      "hello 262144\n"
     ]
    },
    {
     "data": {
      "text/plain": [
       "{6}"
      ]
     },
     "execution_count": 151,
     "metadata": {},
     "output_type": "execute_result"
    }
   ],
   "source": [
    "algo = MBDE(100)\n",
    "algo.initialize_episode()\n",
    "algo.initialize_block()\n",
    "algo.get_mask()\n",
    "algo.t = 1400\n",
    "algo.get_active_depths()"
   ]
  },
  {
   "cell_type": "code",
   "execution_count": 37,
   "metadata": {},
   "outputs": [
    {
     "data": {
      "image/png": "[encoded data removed]",
      "text/plain": [
       "<Figure size 1000x240 with 1 Axes>"
      ]
     },
     "metadata": {},
     "output_type": "display_data"
    }
   ],
   "source": [
    "algo.plot_active_mask()"
   ]
  },
  {
   "cell_type": "code",
   "execution_count": 40,
   "metadata": {},
   "outputs": [
    {
     "name": "stdout",
     "output_type": "stream",
     "text": [
      "0.0 1.0\n",
      "Node(1, 1, False) contains\n",
      "0.0 0.5\n",
      "Node(2, 1, False) contains\n",
      "0.0 0.25\n",
      "Node(3, 1, False) contains\n",
      "0.0 0.125\n",
      "0.125 0.25\n",
      "Node(4, 2, True) contains\n",
      "coucou\n",
      "0.125\n",
      "0.25 0.5\n",
      "0.25 0.375\n",
      "0.375 0.5\n",
      "0.5 1.0\n",
      "0.5 0.75\n",
      "0.5 0.625\n",
      "0.625 0.75\n",
      "0.75 1.0\n",
      "0.75 0.875\n",
      "0.875 1.0\n",
      "Tree image saved as dyadic_tree.png\n"
     ]
    }
   ],
   "source": [
    "tree = Tree(4)\n",
    "tree.update_proba()\n",
    "tree.update_estimates(0.22, 0.60)\n",
    "tree.visualize_tree()\n"
   ]
  },
  {
   "cell_type": "code",
   "execution_count": 50,
   "metadata": {},
   "outputs": [
    {
     "name": "stdout",
     "output_type": "stream",
     "text": [
      "d =  4\n",
      "active nodes =  [Node(4, 1, True), Node(4, 2, True), Node(4, 3, True), Node(4, 4, True), Node(4, 5, True), Node(4, 6, True), Node(4, 7, True), Node(4, 8, True)]\n"
     ]
    }
   ],
   "source": [
    "for d, active_nodes in tree.active_depths.items():\n",
    "    print('d = ', d)\n",
    "    print('active nodes = ', active_nodes)"
   ]
  },
  {
   "cell_type": "code",
   "execution_count": 181,
   "metadata": {},
   "outputs": [],
   "source": [
    "def naive_function(x):\n",
    "    width = 0.3\n",
    "    center = 0.5\n",
    "    distance = abs(x - center)\n",
    "    if distance < width:\n",
    "        return 1 - distance / width\n",
    "    else:\n",
    "        return 0.0"
   ]
  },
  {
   "cell_type": "code",
   "execution_count": 182,
   "metadata": {},
   "outputs": [
    {
     "data": {
      "text/plain": [
       "[<matplotlib.lines.Line2D at 0x15f439750>]"
      ]
     },
     "execution_count": 182,
     "metadata": {},
     "output_type": "execute_result"
    },
    {
     "data": {
      "image/png": "[encoded data removed]",
      "text/plain": [
       "<Figure size 640x480 with 1 Axes>"
      ]
     },
     "metadata": {},
     "output_type": "display_data"
    }
   ],
   "source": [
    "plt.plot([naive_function(x) for x in np.linspace(0, 1, 1000)])"
   ]
  },
  {
   "cell_type": "code",
   "execution_count": null,
   "metadata": {},
   "outputs": [],
   "source": []
  }
 ],
 "metadata": {
  "kernelspec": {
   "display_name": "Python 3",
   "language": "python",
   "name": "python3"
  },
  "language_info": {
   "codemirror_mode": {
    "name": "ipython",
    "version": 3
   },
   "file_extension": ".py",
   "mimetype": "text/x-python",
   "name": "python",
   "nbconvert_exporter": "python",
   "pygments_lexer": "ipython3",
   "version": "3.10.4"
  },
  "orig_nbformat": 4,
  "vscode": {
   "interpreter": {
    "hash": "a42a53f72903cc04303089eaf20b408942b97710132b3b8167caf5cbcee87944"
   }
  }
 },
 "nbformat": 4,
 "nbformat_minor": 2
}
