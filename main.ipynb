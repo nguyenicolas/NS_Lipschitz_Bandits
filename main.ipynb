{
 "cells": [
  {
   "cell_type": "code",
   "execution_count": 84,
   "metadata": {},
   "outputs": [
    {
     "name": "stderr",
     "output_type": "stream",
     "text": [
      "0it [00:00, ?it/s]\n"
     ]
    }
   ],
   "source": [
    "import importlib\n",
    "import Policy \n",
    "import Environment\n",
    "import Diadic\n",
    "\n",
    "from tqdm.auto import tqdm\n",
    "tqdm(disable=False)\n",
    "\n",
    "importlib.reload(Policy)\n",
    "importlib.reload(Environment)\n",
    "importlib.reload(Diadic)\n",
    "\n",
    "import matplotlib.pyplot as plt\n",
    "import numpy as np"
   ]
  },
  {
   "cell_type": "code",
   "execution_count": 85,
   "metadata": {},
   "outputs": [],
   "source": [
    "class Simulator :\n",
    "    def __init__(self, algo, env, T) -> None:\n",
    "        self.algo = algo\n",
    "        self.env = env\n",
    "        self.T = T\n",
    "    \n",
    "    def run(self):\n",
    "        for t in tqdm(range(self.T)) :\n",
    "            x_t = self.algo.choose_action()\n",
    "            y_t = self.env.get_reward(t, x_t)\n",
    "            self.algo.update(x_t, y_t)\n",
    "            self.update_regret(t, x_t)\n",
    "\n",
    "    def update_regret(self, t, x_t):\n",
    "        best_mean_value_t = 1 # assuming instances of this kind\n",
    "        r_t = best_mean_value_t - self.env.get_reward(t, x_t)\n",
    "        self.algo.regrets.append(r_t)\n",
    "            "
   ]
  },
  {
   "cell_type": "code",
   "execution_count": 86,
   "metadata": {},
   "outputs": [
    {
     "name": "stdout",
     "output_type": "stream",
     "text": [
      "Entering Episode 1\n",
      "Entering Block 3\n"
     ]
    },
    {
     "name": "stderr",
     "output_type": "stream",
     "text": [
      "/Users/nicolasnguyen/Documents/Projets/Non-Stationary Lipschitz Bandits/NS_Lipschitz_Bandits/Policy.py:270: UserWarning: Tight layout not applied. The bottom and top margins cannot be made large enough to accommodate all Axes decorations.\n",
      "  plt.tight_layout()\n"
     ]
    },
    {
     "data": {
      "image/png": "[encoded data removed]",
      "text/plain": [
       "<Figure size 1200x60 with 1 Axes>"
      ]
     },
     "metadata": {},
     "output_type": "display_data"
    }
   ],
   "source": [
    "T = 4500\n",
    "env = Environment.Environment(T, 3)\n",
    "algo = Policy.MBDE(T)\n",
    "\n",
    "algo.initialize_episode()\n",
    "algo.initialize_block()\n",
    "#algo.tree.activate_depth(2) # TODO: change\n",
    "algo.tree.update_proba()\n",
    "#algo.tree.visualize_tree()\n",
    "\n",
    "algo.tree.visualize()\n",
    "sim = Simulator(algo, env, T)\n"
   ]
  },
  {
   "cell_type": "code",
   "execution_count": 87,
   "metadata": {},
   "outputs": [
    {
     "name": "stderr",
     "output_type": "stream",
     "text": [
      " 20%|██        | 501/2500 [00:01<00:06, 293.99it/s] "
     ]
    },
    {
     "name": "stdout",
     "output_type": "stream",
     "text": [
      "Entering Block 4\n"
     ]
    },
    {
     "data": {
      "image/png": "[encoded data removed]",
      "text/plain": [
       "<Figure size 1200x120 with 1 Axes>"
      ]
     },
     "metadata": {},
     "output_type": "display_data"
    },
    {
     "name": "stderr",
     "output_type": "stream",
     "text": [
      " 55%|█████▍    | 1369/2500 [00:19<00:38, 29.29it/s]"
     ]
    },
    {
     "name": "stdout",
     "output_type": "stream",
     "text": [
      "evicted with interval [513, 1363]\n",
      "Node (4, 1) evicted at t=1363 (Replay(2))\n",
      "evicted with interval [513, 1363]\n",
      "Node (4, 8) evicted at t=1363 (Replay(2))\n"
     ]
    },
    {
     "name": "stderr",
     "output_type": "stream",
     "text": [
      " 55%|█████▌    | 1384/2500 [00:19<00:27, 41.27it/s]"
     ]
    },
    {
     "name": "stdout",
     "output_type": "stream",
     "text": [
      "evicted with interval [513, 1376]\n",
      "Node (4, 2) evicted at t=1376 (Replay(2))\n"
     ]
    },
    {
     "name": "stderr",
     "output_type": "stream",
     "text": [
      " 70%|██████▉   | 1742/2500 [00:26<00:12, 58.88it/s]"
     ]
    },
    {
     "name": "stdout",
     "output_type": "stream",
     "text": [
      "evicted with interval [513, 1733]\n",
      "Node (4, 7) evicted at t=1733 (Replay(4))\n"
     ]
    },
    {
     "name": "stderr",
     "output_type": "stream",
     "text": [
      " 72%|███████▏  | 1799/2500 [00:27<00:10, 68.69it/s]"
     ]
    },
    {
     "name": "stdout",
     "output_type": "stream",
     "text": [
      "evicted with interval [519, 1792]\n",
      "Node (4, 1) evicted at t=1792 (Replay(2))\n",
      "evicted with interval [536, 1792]\n",
      "Node (4, 2) evicted at t=1792 (Replay(2))\n",
      "evicted with interval [519, 1792]\n",
      "Node (4, 8) evicted at t=1792 (Replay(2))\n",
      "evicted with interval [513, 1792]\n",
      "Node (4, 1) evicted at t=1792 (Replay(2))\n",
      "evicted with interval [513, 1792]\n",
      "Node (4, 2) evicted at t=1792 (Replay(2))\n",
      "evicted with interval [513, 1792]\n",
      "Node (4, 7) evicted at t=1792 (Replay(2))\n",
      "evicted with interval [513, 1792]\n",
      "Node (4, 8) evicted at t=1792 (Replay(2))\n"
     ]
    },
    {
     "name": "stderr",
     "output_type": "stream",
     "text": [
      " 85%|████████▍ | 2120/2500 [00:31<00:06, 57.07it/s]"
     ]
    },
    {
     "name": "stdout",
     "output_type": "stream",
     "text": [
      "evicted with interval [513, 2112]\n",
      "Node (4, 1) evicted at t=2112 (Replay(2))\n",
      "evicted with interval [513, 2112]\n",
      "Node (4, 2) evicted at t=2112 (Replay(2))\n",
      "evicted with interval [544, 2112]\n",
      "Node (4, 7) evicted at t=2112 (Replay(2))\n",
      "evicted with interval [513, 2112]\n",
      "Node (4, 8) evicted at t=2112 (Replay(2))\n",
      "evicted with interval [513, 2112]\n",
      "Node (4, 1) evicted at t=2112 (Replay(2))\n",
      "evicted with interval [513, 2112]\n",
      "Node (4, 2) evicted at t=2112 (Replay(2))\n",
      "evicted with interval [513, 2112]\n",
      "Node (4, 7) evicted at t=2112 (Replay(2))\n",
      "evicted with interval [513, 2112]\n",
      "Node (4, 8) evicted at t=2112 (Replay(2))\n"
     ]
    },
    {
     "name": "stderr",
     "output_type": "stream",
     "text": [
      " 90%|████████▉ | 2248/2500 [00:33<00:04, 52.14it/s]"
     ]
    },
    {
     "name": "stdout",
     "output_type": "stream",
     "text": [
      "evicted with interval [513, 2240]\n",
      "Node (4, 1) evicted at t=2240 (Replay(2))\n",
      "evicted with interval [513, 2240]\n",
      "Node (4, 2) evicted at t=2240 (Replay(2))\n",
      "evicted with interval [513, 2240]\n",
      "Node (4, 8) evicted at t=2240 (Replay(2))\n",
      "evicted with interval [513, 2240]\n",
      "Node (4, 1) evicted at t=2240 (Replay(2))\n",
      "evicted with interval [513, 2240]\n",
      "Node (4, 2) evicted at t=2240 (Replay(2))\n",
      "evicted with interval [513, 2240]\n",
      "Node (4, 7) evicted at t=2240 (Replay(2))\n",
      "evicted with interval [513, 2240]\n",
      "Node (4, 8) evicted at t=2240 (Replay(2))\n"
     ]
    },
    {
     "name": "stderr",
     "output_type": "stream",
     "text": [
      " 92%|█████████▏| 2308/2500 [00:35<00:04, 47.74it/s]"
     ]
    },
    {
     "name": "stdout",
     "output_type": "stream",
     "text": [
      "evicted with interval [513, 2304]\n",
      "Node (4, 1) evicted at t=2304 (Replay(2))\n",
      "evicted with interval [513, 2304]\n",
      "Node (4, 2) evicted at t=2304 (Replay(2))\n",
      "evicted with interval [513, 2304]\n",
      "Node (4, 8) evicted at t=2304 (Replay(2))\n",
      "evicted with interval [513, 2304]\n",
      "Node (4, 1) evicted at t=2304 (Replay(2))\n",
      "evicted with interval [513, 2304]\n",
      "Node (4, 2) evicted at t=2304 (Replay(2))\n",
      "evicted with interval [513, 2304]\n",
      "Node (4, 7) evicted at t=2304 (Replay(2))\n",
      "evicted with interval [513, 2304]\n",
      "Node (4, 8) evicted at t=2304 (Replay(2))\n"
     ]
    },
    {
     "name": "stderr",
     "output_type": "stream",
     "text": [
      " 95%|█████████▍| 2374/2500 [00:36<00:02, 48.27it/s]"
     ]
    },
    {
     "name": "stdout",
     "output_type": "stream",
     "text": [
      "evicted with interval [513, 2368]\n",
      "Node (4, 1) evicted at t=2368 (Replay(2))\n",
      "evicted with interval [513, 2368]\n",
      "Node (4, 2) evicted at t=2368 (Replay(2))\n",
      "evicted with interval [513, 2368]\n",
      "Node (4, 8) evicted at t=2368 (Replay(2))\n",
      "evicted with interval [513, 2368]\n",
      "Node (4, 1) evicted at t=2368 (Replay(2))\n",
      "evicted with interval [513, 2368]\n",
      "Node (4, 2) evicted at t=2368 (Replay(2))\n",
      "evicted with interval [513, 2368]\n",
      "Node (4, 7) evicted at t=2368 (Replay(2))\n",
      "evicted with interval [513, 2368]\n",
      "Node (4, 8) evicted at t=2368 (Replay(2))\n"
     ]
    },
    {
     "name": "stderr",
     "output_type": "stream",
     "text": [
      " 98%|█████████▊| 2440/2500 [00:37<00:01, 46.72it/s]"
     ]
    },
    {
     "name": "stdout",
     "output_type": "stream",
     "text": [
      "evicted with interval [513, 2432]\n",
      "Node (4, 1) evicted at t=2432 (Replay(2))\n",
      "evicted with interval [513, 2432]\n",
      "Node (4, 2) evicted at t=2432 (Replay(2))\n",
      "evicted with interval [513, 2432]\n",
      "Node (4, 8) evicted at t=2432 (Replay(2))\n",
      "evicted with interval [513, 2432]\n",
      "Node (4, 1) evicted at t=2432 (Replay(2))\n",
      "evicted with interval [513, 2432]\n",
      "Node (4, 2) evicted at t=2432 (Replay(2))\n",
      "evicted with interval [513, 2432]\n",
      "Node (4, 7) evicted at t=2432 (Replay(2))\n",
      "evicted with interval [513, 2432]\n",
      "Node (4, 8) evicted at t=2432 (Replay(2))\n"
     ]
    },
    {
     "name": "stderr",
     "output_type": "stream",
     "text": [
      "100%|██████████| 2500/2500 [00:38<00:00, 64.33it/s]\n"
     ]
    }
   ],
   "source": [
    "sim.run()"
   ]
  },
  {
   "cell_type": "code",
   "execution_count": 88,
   "metadata": {},
   "outputs": [
    {
     "data": {
      "text/plain": [
       "defaultdict(dict,\n",
       "            {4: {'starting': 513, 'ending': 4609},\n",
       "             2: {'starting': 2432, 'ending': 2496},\n",
       "             3: {'starting': 1024, 'ending': 1536}})"
      ]
     },
     "execution_count": 88,
     "metadata": {},
     "output_type": "execute_result"
    }
   ],
   "source": [
    "sim.algo.StoreActive"
   ]
  },
  {
   "cell_type": "code",
   "execution_count": 89,
   "metadata": {},
   "outputs": [
    {
     "data": {
      "text/plain": [
       "{4: [(4,4), (4,5), (4,6), (4,3)]}"
      ]
     },
     "execution_count": 89,
     "metadata": {},
     "output_type": "execute_result"
    }
   ],
   "source": [
    "sim.algo.tree.active_depths"
   ]
  },
  {
   "cell_type": "code",
   "execution_count": 90,
   "metadata": {},
   "outputs": [
    {
     "data": {
      "text/plain": [
       "[(4,4), (4,5), (4,6), (4,3)]"
      ]
     },
     "execution_count": 90,
     "metadata": {},
     "output_type": "execute_result"
    }
   ],
   "source": [
    "sim.algo.B_MASTER"
   ]
  },
  {
   "cell_type": "code",
   "execution_count": 91,
   "metadata": {},
   "outputs": [],
   "source": [
    "sim.algo.tree.visualize()"
   ]
  },
  {
   "cell_type": "code",
   "execution_count": 92,
   "metadata": {},
   "outputs": [
    {
     "data": {
      "text/plain": [
       "[<matplotlib.lines.Line2D at 0x11e315c90>]"
      ]
     },
     "execution_count": 92,
     "metadata": {},
     "output_type": "execute_result"
    },
    {
     "data": {
      "image/png": "[encoded data removed]",
      "text/plain": [
       "<Figure size 640x480 with 1 Axes>"
      ]
     },
     "metadata": {},
     "output_type": "display_data"
    }
   ],
   "source": [
    "plt.plot(np.cumsum(sim.algo.regrets))\n",
    "plt.plot(np.cumsum([1 for _ in range(T)]))"
   ]
  },
  {
   "cell_type": "code",
   "execution_count": 51,
   "metadata": {},
   "outputs": [],
   "source": [
    "def naive_function(x):\n",
    "    width = 0.3\n",
    "    center = 0.5\n",
    "    distance = abs(x - center)\n",
    "    if distance < width:\n",
    "        return 1 - distance / width\n",
    "    else:\n",
    "        return 0.0"
   ]
  },
  {
   "cell_type": "code",
   "execution_count": 52,
   "metadata": {},
   "outputs": [
    {
     "data": {
      "text/plain": [
       "[<matplotlib.lines.Line2D at 0x11e2df1f0>]"
      ]
     },
     "execution_count": 52,
     "metadata": {},
     "output_type": "execute_result"
    },
    {
     "data": {
      "image/png": "[encoded data removed]",
      "text/plain": [
       "<Figure size 640x480 with 1 Axes>"
      ]
     },
     "metadata": {},
     "output_type": "display_data"
    }
   ],
   "source": [
    "x_list = list(np.linspace(0, 1, 1000))\n",
    "y_list = [naive_function(x) for x in x_list]\n",
    "\n",
    "plt.plot(x_list, y_list)"
   ]
  },
  {
   "cell_type": "code",
   "execution_count": 65,
   "metadata": {},
   "outputs": [
    {
     "data": {
      "text/plain": [
       "1"
      ]
     },
     "execution_count": 65,
     "metadata": {},
     "output_type": "execute_result"
    }
   ],
   "source": [
    "int(np.random.rand() < 0.99)"
   ]
  },
  {
   "cell_type": "code",
   "execution_count": null,
   "metadata": {},
   "outputs": [],
   "source": []
  }
 ],
 "metadata": {
  "kernelspec": {
   "display_name": "Python 3",
   "language": "python",
   "name": "python3"
  },
  "language_info": {
   "codemirror_mode": {
    "name": "ipython",
    "version": 3
   },
   "file_extension": ".py",
   "mimetype": "text/x-python",
   "name": "python",
   "nbconvert_exporter": "python",
   "pygments_lexer": "ipython3",
   "version": "3.10.4"
  },
  "orig_nbformat": 4,
  "vscode": {
   "interpreter": {
    "hash": "a42a53f72903cc04303089eaf20b408942b97710132b3b8167caf5cbcee87944"
   }
  }
 },
 "nbformat": 4,
 "nbformat_minor": 2
}
