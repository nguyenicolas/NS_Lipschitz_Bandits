{
 "cells": [
  {
   "cell_type": "code",
   "execution_count": 1,
   "metadata": {},
   "outputs": [],
   "source": [
    "import numpy as np\n",
    "import matplotlib.pyplot as plt\n",
    "import random\n",
    "from graphviz import Digraph"
   ]
  },
  {
   "cell_type": "code",
   "execution_count": 98,
   "metadata": {},
   "outputs": [],
   "source": [
    "class Node:\n",
    "    def __init__(self, depth, index, parent=None) -> None:\n",
    "        self.depth = depth\n",
    "        self.index = index\n",
    "        self.parent = parent\n",
    "        self.left = None\n",
    "        self.right = None\n",
    "        self.active = False\n",
    "        self.mean_estimate = 0.0\n",
    "        self.proba = 0.0\n",
    "    \n",
    "    def subdivide(self):\n",
    "        self.left = Node(self.depth + 1, 2 * self.index - 1, parent=self)\n",
    "        self.right = Node(self.depth + 1, 2 * self.index, parent=self)\n",
    "\n",
    "    def evict(self):\n",
    "        self.active = False\n",
    "        if self.left :\n",
    "            self.left.evict()\n",
    "        if self.right:\n",
    "            self.right.evict()\n",
    "\n",
    "    def contains(self, x):\n",
    "        left = (self.index-1) / (2**(self.depth-1))\n",
    "        right = (self.index) / (2 ** (self.depth-1))\n",
    "        print(left, right)\n",
    "        return left <= x <= right\n",
    "    \n",
    "    def get_parent(self, target_depth):\n",
    "        \"\"\" \n",
    "        Enumerate the list of children of a given node\n",
    "        \"\"\"\n",
    "        if target_depth >= self.depth :\n",
    "            return None\n",
    "        current = self\n",
    "        while current and current.depth > target_depth:\n",
    "            current = current.parent\n",
    "        return current\n",
    "\n",
    "    def get_descendants_at_depth(self, target_depth):\n",
    "        if target_depth <= self.depth :\n",
    "            return []\n",
    "        result = []\n",
    "\n",
    "        def helper(node):\n",
    "            if node is None :\n",
    "                return\n",
    "            if node.depth == target_depth :\n",
    "                result.append(node)\n",
    "            elif node.depth < target_depth :\n",
    "                helper(node.left)\n",
    "                helper(node.right)\n",
    "        helper(self)\n",
    "        return result\n",
    "    \n",
    "    def get_active_children(self, target_depth):\n",
    "        if target_depth <= self.depth :\n",
    "            return []\n",
    "        \n",
    "        result = []\n",
    "\n",
    "        def dfs(node):\n",
    "            if node is None :\n",
    "                return\n",
    "            if node.depth == target_depth and node.active :\n",
    "                result.append(node)\n",
    "            elif node.depth < target_depth :\n",
    "                dfs(node.left)\n",
    "                dfs(node.right)\n",
    "                \n",
    "        dfs(self)\n",
    "        return result\n",
    "\n",
    "\n",
    "    def __repr__(self) -> str:\n",
    "        return f\"Node({self.depth}, {self.index}, {self.active})\""
   ]
  },
  {
   "cell_type": "code",
   "execution_count": 132,
   "metadata": {},
   "outputs": [],
   "source": [
    "class Tree:\n",
    "\n",
    "    def __init__(self, max_depth) -> None:\n",
    "        self.max_depth = max_depth\n",
    "        self.root = Node(1, 1)\n",
    "        \n",
    "        if max_depth is not None:\n",
    "            self.build_full_tree(node=self.root, max_depth=max_depth)\n",
    "\n",
    "        self.initialize_active_depth() \n",
    "\n",
    "    def build_full_tree(self, node, max_depth):\n",
    "        \"\"\" Build tree of size max_depth recursively with node as root\"\"\"\n",
    "        if node.depth >= max_depth:\n",
    "            return\n",
    "        node.subdivide()\n",
    "        self.build_full_tree(node.left, max_depth)\n",
    "        self.build_full_tree(node.right, max_depth)\n",
    "\n",
    "    def initialize_active_depth(self):\n",
    "        self.active_depths = {}\n",
    "        active_nodes = self.collect_active_nodes(self.max_depth)\n",
    "        self.active_depths[self.max_depth] = active_nodes\n",
    "        self.activate_depth(self.max_depth)\n",
    "\n",
    "    def activate_depth(self, depth):\n",
    "        \"\"\" \n",
    "        Make depth active, i.e. activate all its nodes and add this depth to the set of active depths\n",
    "        Note that activating one node also actives all its children\n",
    "        \"\"\"\n",
    "        # Activate all children of a given node\n",
    "        def activate_children(node):\n",
    "            if not node :\n",
    "                return\n",
    "            node.active = True\n",
    "            activate_children(node.left)\n",
    "            activate_children(node.right)\n",
    "        \n",
    "        # Activate nodes\n",
    "        def activate_at_depth(node):\n",
    "            if node is None :\n",
    "                return\n",
    "            if node.depth == depth :\n",
    "                node.active = True\n",
    "                #activate_children(node.left)\n",
    "                #activate_children(node.right)\n",
    "                \n",
    "            elif node.depth < depth :\n",
    "                activate_at_depth(node.left)\n",
    "                activate_at_depth(node.right)\n",
    "\n",
    "        activate_at_depth(self.root)\n",
    "        nodes = self.collect_active_nodes(depth)\n",
    "        self.active_depths[depth] = nodes\n",
    "        \n",
    "\n",
    "    def find_node(self, depth, index):\n",
    "        node = self.root\n",
    "        for d in range(1, depth):\n",
    "            if node is None :\n",
    "                return None\n",
    "            bit = ((index - 1) >> (depth - d - 1)) & 1\n",
    "            node = node.right if bit else node.left\n",
    "        return node if node and node.depth == depth and node.index == index else None\n",
    "        \n",
    "    def evict(self, depth, index):\n",
    "        node = self.find_node(depth, index)\n",
    "        if node:\n",
    "            node.evict()\n",
    "    \n",
    "    def collect_active_nodes(self, depth):\n",
    "        def helper_collect_active_nodes(node, depth):\n",
    "        # base\n",
    "            if node is None:\n",
    "                return []\n",
    "            if node.depth == depth and node.active :\n",
    "                return [node]\n",
    "            return helper_collect_active_nodes(node.left, depth) + helper_collect_active_nodes(node.right, depth) \n",
    "    \n",
    "        return helper_collect_active_nodes(self.root, depth)\n",
    "    \n",
    "    def count_active_bins(self, depth):\n",
    "        return len(self.collect_active_nodes(depth))\n",
    "                \n",
    "    def update_proba(self):\n",
    "        \"\"\"\n",
    "        Update each node's probability according to the hierarchical sampling scheme.\n",
    "        Only active nodes at active depths can receive nonzero probabilities.\n",
    "        \"\"\"\n",
    "        # Reset all probabilities to 0\n",
    "        def reset_probs(node):\n",
    "            if node is None:\n",
    "                return\n",
    "            node.proba = 0.0\n",
    "            reset_probs(node.left)\n",
    "            reset_probs(node.right)\n",
    "\n",
    "        reset_probs(self.root)\n",
    "\n",
    "        if not self.active_depths:\n",
    "            return\n",
    "\n",
    "        active_depths = sorted(self.active_depths.keys())\n",
    "        min_depth = active_depths[0]\n",
    "        min_depth_nodes = [n for n in self.active_depths[min_depth] if n.active]\n",
    "\n",
    "        if not min_depth_nodes:\n",
    "            return\n",
    "\n",
    "        base_prob = 1.0 / len(min_depth_nodes)\n",
    "\n",
    "        # Recursively assign probability only to active children at active depths\n",
    "        def recurse(node, depth_idx, prob):\n",
    "            if depth_idx >= len(active_depths):\n",
    "                return\n",
    "\n",
    "            current_depth = active_depths[depth_idx]\n",
    "\n",
    "            if node.depth != current_depth or not node.active:\n",
    "                return\n",
    "\n",
    "            node.proba = prob\n",
    "\n",
    "            # Recurse to next active depth\n",
    "            if depth_idx + 1 >= len(active_depths):\n",
    "                return\n",
    "\n",
    "            next_depth = active_depths[depth_idx + 1]\n",
    "\n",
    "            # Get all active children of `node` at the next active depth\n",
    "            children_at_next = node.get_descendants_at_depth(next_depth)\n",
    "            active_children = [child for child in children_at_next if child.active]\n",
    "\n",
    "            if not active_children:\n",
    "                return\n",
    "\n",
    "            child_prob = prob / len(active_children)\n",
    "\n",
    "            for child in active_children:\n",
    "                recurse(child, depth_idx + 1, child_prob)\n",
    "\n",
    "        for node in min_depth_nodes:\n",
    "            recurse(node, 0, base_prob)\n",
    "\n",
    "        \n",
    "    def update_estimates(self, x_t, y_t):\n",
    "\n",
    "        def update_node(node):\n",
    "            if node is None:\n",
    "                return      \n",
    "            \n",
    "            if node.contains(x_t):\n",
    "                print(f'{node} contains')\n",
    "                if not node.active :\n",
    "                    node.mean_estimate = 0.0\n",
    "                else :\n",
    "                    p = node.proba\n",
    "                    node.mean_estimate = (y_t/p)\n",
    "\n",
    "            update_node(node.left)\n",
    "            update_node(node.right)\n",
    "            \n",
    "        update_node(self.root)\n",
    "\n",
    "    def visualize_tree(self, filename=\"dyadic_tree\"):\n",
    "            \n",
    "            dot = Digraph()\n",
    "\n",
    "            def add_nodes_edges(node):\n",
    "                if node is None:\n",
    "                    return\n",
    "                # Color node based on activity\n",
    "                color = \"green\" if node.active else \"red\"\n",
    "                label = f\"p={np.round(node.proba, 2)}, {np.round(node.mean_estimate, 3)}\"\n",
    "                dot.node(name=str(id(node)), label=label, style=\"filled\", fillcolor=color)\n",
    "\n",
    "                for child in [node.left, node.right]:\n",
    "                    if child:\n",
    "                        dot.edge(str(id(node)), str(id(child)))\n",
    "                        add_nodes_edges(child)\n",
    "\n",
    "            add_nodes_edges(self.root)\n",
    "            dot.render(filename, format=\"png\", cleanup=True)\n",
    "            print(f\"Tree image saved as {filename}.png\")"
   ]
  },
  {
   "cell_type": "code",
   "execution_count": null,
   "metadata": {},
   "outputs": [],
   "source": [
    "class MBDE :\n",
    "    def __init__(self) -> None:\n",
    "        pass\n",
    "\n",
    "    def ScheduleReplays()\n",
    "\n",
    "    def choose_action(self) :\n",
    "        pass\n",
    "    \n",
    "    def update(self) :\n",
    "        pass\n",
    "\n",
    "    def test(self):\n",
    "        pass"
   ]
  },
  {
   "cell_type": "code",
   "execution_count": 133,
   "metadata": {},
   "outputs": [
    {
     "name": "stdout",
     "output_type": "stream",
     "text": [
      "Tree image saved as dyadic_tree.png\n"
     ]
    }
   ],
   "source": [
    "tree = Tree(4)\n",
    "tree.activate_depth(2)\n",
    "tree.activate_depth(3)\n",
    "tree.update_proba()\n",
    "tree.visualize_tree()"
   ]
  },
  {
   "cell_type": "code",
   "execution_count": 134,
   "metadata": {},
   "outputs": [
    {
     "name": "stdout",
     "output_type": "stream",
     "text": [
      "Tree image saved as dyadic_tree.png\n"
     ]
    }
   ],
   "source": [
    "tree.evict(3, 2)\n",
    "tree.evict(3, 4)\n",
    "tree.evict(3, 3)\n",
    "tree.update_proba()\n",
    "tree.visualize_tree()"
   ]
  },
  {
   "cell_type": "code",
   "execution_count": 136,
   "metadata": {},
   "outputs": [
    {
     "name": "stdout",
     "output_type": "stream",
     "text": [
      "0.0 1.0\n",
      "Node(1, 1, False) contains\n",
      "0.0 0.5\n",
      "Node(2, 1, True) contains\n",
      "0.0 0.25\n",
      "0.0 0.125\n",
      "0.125 0.25\n",
      "0.25 0.5\n",
      "Node(3, 2, False) contains\n",
      "0.25 0.375\n",
      "0.375 0.5\n",
      "Node(4, 4, False) contains\n",
      "0.5 1.0\n",
      "0.5 0.75\n",
      "0.5 0.625\n",
      "0.625 0.75\n",
      "0.75 1.0\n",
      "0.75 0.875\n",
      "0.875 1.0\n",
      "Tree image saved as dyadic_tree.png\n"
     ]
    }
   ],
   "source": [
    "tree.update_estimates(0.4, 0.6)\n",
    "tree.update_proba()\n",
    "tree.visualize_tree()"
   ]
  },
  {
   "cell_type": "code",
   "execution_count": null,
   "metadata": {},
   "outputs": [],
   "source": []
  },
  {
   "cell_type": "code",
   "execution_count": 137,
   "metadata": {},
   "outputs": [
    {
     "name": "stdout",
     "output_type": "stream",
     "text": [
      "Tree image saved as dyadic_tree.png\n"
     ]
    }
   ],
   "source": [
    "tree.evict(4, 4)\n",
    "tree.update_proba()\n",
    "tree.visualize_tree()"
   ]
  },
  {
   "cell_type": "code",
   "execution_count": 56,
   "metadata": {},
   "outputs": [
    {
     "data": {
      "text/plain": [
       "[Node(4, 1, True), Node(4, 3, True), Node(4, 4, True)]"
      ]
     },
     "execution_count": 56,
     "metadata": {},
     "output_type": "execute_result"
    }
   ],
   "source": [
    "tree.collect_active_nodes(4)"
   ]
  },
  {
   "cell_type": "code",
   "execution_count": 55,
   "metadata": {},
   "outputs": [
    {
     "name": "stdout",
     "output_type": "stream",
     "text": [
      "Tree image saved as dyadic_tree.png\n"
     ]
    }
   ],
   "source": [
    "tree.evict(4, 2)\n",
    "tree.update_proba()\n",
    "tree.visualize_tree()"
   ]
  },
  {
   "cell_type": "code",
   "execution_count": 32,
   "metadata": {},
   "outputs": [],
   "source": [
    "tree.evict(2, 2)"
   ]
  },
  {
   "cell_type": "code",
   "execution_count": 33,
   "metadata": {},
   "outputs": [
    {
     "name": "stdout",
     "output_type": "stream",
     "text": [
      "Tree image saved as dyadic_tree.png\n"
     ]
    }
   ],
   "source": [
    "tree.visualize_tree()"
   ]
  },
  {
   "cell_type": "code",
   "execution_count": 12,
   "metadata": {},
   "outputs": [
    {
     "name": "stdout",
     "output_type": "stream",
     "text": [
      "Tree image saved as dyadic_tree.png\n"
     ]
    }
   ],
   "source": [
    "tree.activate_depth(2)\n",
    "tree.visualize_tree()"
   ]
  },
  {
   "cell_type": "code",
   "execution_count": null,
   "metadata": {},
   "outputs": [],
   "source": [
    "def sample_replay_prob(m, τ_l_m):\n",
    "    # Schedule replays for all the block\n",
    "    Replays = np.zeros((m-1, 8**m - 1 ))\n",
    "    for s in range(τ_l_m + 1, τ_l_m + 8 ** m):\n",
    "        for d in range(m):\n",
    "            if s - τ_l_m % (8 ** d) == 0:\n",
    "                p_s_d = np.sqrt(8 ** d / (s - τ_l_m))\n",
    "                R_s_d = int(np.random.random() < p_s_d)\n",
    "                Replays[s, d] = R_s_d\n",
    "    return Replays\n",
    "\n",
    "def MDBE(T):\n",
    "    # Initialization\n",
    "    l = 1\n",
    "    t = 1\n",
    "    m = 1\n",
    "    \n",
    "    while t <= T:\n",
    "        # (★) Block handling\n",
    "        if t == 1 or t == τ_l_m + 8 ** m: # if ending of the block without significant shift\n",
    "            m += 1\n",
    "            B_MASTER = set(range(1, 1 + 8**m)) # Reset MASTER set\n",
    "            D_t = {m}\n",
    "            τ_l_m = t\n",
    "\n",
    "            # Initialize StoreActive dictionary\n",
    "            StoreActive = {}\n",
    "            StoreActive[m] = [τ_l_m, τ_l_m + 8**m]\n",
    "            for d in range(m) :\n",
    "                StoreActive[d] = []\n",
    "\n",
    "            B_t = {}\n",
    "            Replays = sample_replay_prob(m, τ_l_m)\n",
    "\n",
    "        # Check if there are replays that are beginning in this precise round t\n",
    "        for d in range(m) :\n",
    "            if Replays[t, d] == 1 :\n",
    "                D_t.add(d)\n",
    "                StoreActive[d] = [t, t + 8**d]\n",
    "                B_t[d] = set(range(1, 1 + 8**d))\n",
    "        \n",
    "        # Check if a replay ends\n",
    "        for d in D_t:\n",
    "            if StoreActive[d][1] == t :\n",
    "                D_t.discard(d)\n",
    "                B_t[d] = set()\n",
    "\n",
    "        # Hierarchical sampling\n",
    "        d_min = min(D_t)\n",
    "        B_parent = random.choice(B_t[d_min])\n",
    "\n",
    "        # faudrait creer une classe d'arbre...\n",
    "        \n",
    "\n",
    "\n",
    "\n",
    "\n",
    "        # Replay deactivation\n",
    "        for d in range(m):\n",
    "            if StoreActive.get((l, d), {}).get(t, None):\n",
    "                D[l].discard(d)\n",
    "                B_t[(l, d)] = set()\n",
    "\n",
    "        # Bin selection\n",
    "        d0 = min(D[l])\n",
    "        B_parent = random.choice(list(B_t[(l, d0)]))\n",
    "        xt = B_parent  # If no children\n",
    "\n",
    "        children = get_children(B_parent, d0, B_t)\n",
    "        if children:\n",
    "            xt = random.choice(children)\n",
    "            B_parent = xt\n",
    "\n",
    "        # Bin eviction\n",
    "        for d in D[l]:\n",
    "            for B in B_t[(l, d)]:\n",
    "                for d_ in [d_ for d_ in range(d + 1, m)]:\n",
    "                    for B_prime in B_t[(l, d_)]:\n",
    "                        if bin_condition(B_prime, B, StoreActive, l, d):\n",
    "                            B_t[(l, d_)] -= {B_prime}\n",
    "\n",
    "        # MASTER set update\n",
    "        B_MASTER[(l, m)] = B_MASTER[(l, m)].intersection(B_t.get((l, m), set()))\n",
    "        if not B_MASTER[(l, m)]:\n",
    "            τ[(l + 1, 0)] = t + 1\n",
    "            l += 1\n",
    "            t = τ[(l, 0)]\n",
    "            m = 0\n",
    "            continue\n",
    "\n",
    "        t += 1\n"
   ]
  },
  {
   "cell_type": "code",
   "execution_count": 15,
   "metadata": {},
   "outputs": [
    {
     "data": {
      "text/plain": [
       "np.float64(13.815510557964274)"
      ]
     },
     "execution_count": 15,
     "metadata": {},
     "output_type": "execute_result"
    }
   ],
   "source": [
    "np.log(np.power(10, 6))"
   ]
  },
  {
   "cell_type": "code",
   "execution_count": null,
   "metadata": {},
   "outputs": [],
   "source": []
  }
 ],
 "metadata": {
  "kernelspec": {
   "display_name": "Python 3",
   "language": "python",
   "name": "python3"
  },
  "language_info": {
   "codemirror_mode": {
    "name": "ipython",
    "version": 3
   },
   "file_extension": ".py",
   "mimetype": "text/x-python",
   "name": "python",
   "nbconvert_exporter": "python",
   "pygments_lexer": "ipython3",
   "version": "3.10.4"
  },
  "orig_nbformat": 4,
  "vscode": {
   "interpreter": {
    "hash": "a42a53f72903cc04303089eaf20b408942b97710132b3b8167caf5cbcee87944"
   }
  }
 },
 "nbformat": 4,
 "nbformat_minor": 2
}
